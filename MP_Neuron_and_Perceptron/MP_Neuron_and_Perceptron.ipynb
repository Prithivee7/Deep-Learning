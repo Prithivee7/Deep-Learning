{
  "nbformat": 4,
  "nbformat_minor": 2,
  "metadata": {
    "colab": {
      "name": "MP_Neuron_and_Perceptron.ipynb",
      "provenance": [],
      "collapsed_sections": []
    },
    "kernelspec": {
      "name": "python3",
      "display_name": "Python 3.9.2 64-bit"
    },
    "language_info": {
      "name": "python",
      "version": "3.9.2",
      "mimetype": "text/x-python",
      "codemirror_mode": {
        "name": "ipython",
        "version": 3
      },
      "pygments_lexer": "ipython3",
      "nbconvert_exporter": "python",
      "file_extension": ".py"
    },
    "interpreter": {
      "hash": "400260fd288ee985c1083a2f96bb0f77d20bac92560a04a40082365f1a97a3ab"
    }
  },
  "cells": [
    {
      "cell_type": "code",
      "execution_count": 1,
      "source": [
        "import sklearn.datasets\r\n",
        "import numpy as np\r\n",
        "import pandas as pd"
      ],
      "outputs": [],
      "metadata": {
        "id": "FW3RlkWWFHDu"
      }
    },
    {
      "cell_type": "code",
      "execution_count": 2,
      "source": [
        "breast_cancer = sklearn.datasets.load_breast_cancer()"
      ],
      "outputs": [],
      "metadata": {
        "id": "Vq5UdW7bFlQ0"
      }
    },
    {
      "cell_type": "code",
      "execution_count": null,
      "source": [
        "breast_cancer"
      ],
      "outputs": [
        {
          "output_type": "execute_result",
          "data": {
            "text/plain": [
              "{'DESCR': '.. _breast_cancer_dataset:\\n\\nBreast cancer wisconsin (diagnostic) dataset\\n--------------------------------------------\\n\\n**Data Set Characteristics:**\\n\\n    :Number of Instances: 569\\n\\n    :Number of Attributes: 30 numeric, predictive attributes and the class\\n\\n    :Attribute Information:\\n        - radius (mean of distances from center to points on the perimeter)\\n        - texture (standard deviation of gray-scale values)\\n        - perimeter\\n        - area\\n        - smoothness (local variation in radius lengths)\\n        - compactness (perimeter^2 / area - 1.0)\\n        - concavity (severity of concave portions of the contour)\\n        - concave points (number of concave portions of the contour)\\n        - symmetry \\n        - fractal dimension (\"coastline approximation\" - 1)\\n\\n        The mean, standard error, and \"worst\" or largest (mean of the three\\n        largest values) of these features were computed for each image,\\n        resulting in 30 features.  For instance, field 3 is Mean Radius, field\\n        13 is Radius SE, field 23 is Worst Radius.\\n\\n        - class:\\n                - WDBC-Malignant\\n                - WDBC-Benign\\n\\n    :Summary Statistics:\\n\\n    ===================================== ====== ======\\n                                           Min    Max\\n    ===================================== ====== ======\\n    radius (mean):                        6.981  28.11\\n    texture (mean):                       9.71   39.28\\n    perimeter (mean):                     43.79  188.5\\n    area (mean):                          143.5  2501.0\\n    smoothness (mean):                    0.053  0.163\\n    compactness (mean):                   0.019  0.345\\n    concavity (mean):                     0.0    0.427\\n    concave points (mean):                0.0    0.201\\n    symmetry (mean):                      0.106  0.304\\n    fractal dimension (mean):             0.05   0.097\\n    radius (standard error):              0.112  2.873\\n    texture (standard error):             0.36   4.885\\n    perimeter (standard error):           0.757  21.98\\n    area (standard error):                6.802  542.2\\n    smoothness (standard error):          0.002  0.031\\n    compactness (standard error):         0.002  0.135\\n    concavity (standard error):           0.0    0.396\\n    concave points (standard error):      0.0    0.053\\n    symmetry (standard error):            0.008  0.079\\n    fractal dimension (standard error):   0.001  0.03\\n    radius (worst):                       7.93   36.04\\n    texture (worst):                      12.02  49.54\\n    perimeter (worst):                    50.41  251.2\\n    area (worst):                         185.2  4254.0\\n    smoothness (worst):                   0.071  0.223\\n    compactness (worst):                  0.027  1.058\\n    concavity (worst):                    0.0    1.252\\n    concave points (worst):               0.0    0.291\\n    symmetry (worst):                     0.156  0.664\\n    fractal dimension (worst):            0.055  0.208\\n    ===================================== ====== ======\\n\\n    :Missing Attribute Values: None\\n\\n    :Class Distribution: 212 - Malignant, 357 - Benign\\n\\n    :Creator:  Dr. William H. Wolberg, W. Nick Street, Olvi L. Mangasarian\\n\\n    :Donor: Nick Street\\n\\n    :Date: November, 1995\\n\\nThis is a copy of UCI ML Breast Cancer Wisconsin (Diagnostic) datasets.\\nhttps://goo.gl/U2Uwz2\\n\\nFeatures are computed from a digitized image of a fine needle\\naspirate (FNA) of a breast mass.  They describe\\ncharacteristics of the cell nuclei present in the image.\\n\\nSeparating plane described above was obtained using\\nMultisurface Method-Tree (MSM-T) [K. P. Bennett, \"Decision Tree\\nConstruction Via Linear Programming.\" Proceedings of the 4th\\nMidwest Artificial Intelligence and Cognitive Science Society,\\npp. 97-101, 1992], a classification method which uses linear\\nprogramming to construct a decision tree.  Relevant features\\nwere selected using an exhaustive search in the space of 1-4\\nfeatures and 1-3 separating planes.\\n\\nThe actual linear program used to obtain the separating plane\\nin the 3-dimensional space is that described in:\\n[K. P. Bennett and O. L. Mangasarian: \"Robust Linear\\nProgramming Discrimination of Two Linearly Inseparable Sets\",\\nOptimization Methods and Software 1, 1992, 23-34].\\n\\nThis database is also available through the UW CS ftp server:\\n\\nftp ftp.cs.wisc.edu\\ncd math-prog/cpo-dataset/machine-learn/WDBC/\\n\\n.. topic:: References\\n\\n   - W.N. Street, W.H. Wolberg and O.L. Mangasarian. Nuclear feature extraction \\n     for breast tumor diagnosis. IS&T/SPIE 1993 International Symposium on \\n     Electronic Imaging: Science and Technology, volume 1905, pages 861-870,\\n     San Jose, CA, 1993.\\n   - O.L. Mangasarian, W.N. Street and W.H. Wolberg. Breast cancer diagnosis and \\n     prognosis via linear programming. Operations Research, 43(4), pages 570-577, \\n     July-August 1995.\\n   - W.H. Wolberg, W.N. Street, and O.L. Mangasarian. Machine learning techniques\\n     to diagnose breast cancer from fine-needle aspirates. Cancer Letters 77 (1994) \\n     163-171.',\n",
              " 'data': array([[1.799e+01, 1.038e+01, 1.228e+02, ..., 2.654e-01, 4.601e-01,\n",
              "         1.189e-01],\n",
              "        [2.057e+01, 1.777e+01, 1.329e+02, ..., 1.860e-01, 2.750e-01,\n",
              "         8.902e-02],\n",
              "        [1.969e+01, 2.125e+01, 1.300e+02, ..., 2.430e-01, 3.613e-01,\n",
              "         8.758e-02],\n",
              "        ...,\n",
              "        [1.660e+01, 2.808e+01, 1.083e+02, ..., 1.418e-01, 2.218e-01,\n",
              "         7.820e-02],\n",
              "        [2.060e+01, 2.933e+01, 1.401e+02, ..., 2.650e-01, 4.087e-01,\n",
              "         1.240e-01],\n",
              "        [7.760e+00, 2.454e+01, 4.792e+01, ..., 0.000e+00, 2.871e-01,\n",
              "         7.039e-02]]),\n",
              " 'feature_names': array(['mean radius', 'mean texture', 'mean perimeter', 'mean area',\n",
              "        'mean smoothness', 'mean compactness', 'mean concavity',\n",
              "        'mean concave points', 'mean symmetry', 'mean fractal dimension',\n",
              "        'radius error', 'texture error', 'perimeter error', 'area error',\n",
              "        'smoothness error', 'compactness error', 'concavity error',\n",
              "        'concave points error', 'symmetry error',\n",
              "        'fractal dimension error', 'worst radius', 'worst texture',\n",
              "        'worst perimeter', 'worst area', 'worst smoothness',\n",
              "        'worst compactness', 'worst concavity', 'worst concave points',\n",
              "        'worst symmetry', 'worst fractal dimension'], dtype='<U23'),\n",
              " 'filename': '/usr/local/lib/python3.7/dist-packages/sklearn/datasets/data/breast_cancer.csv',\n",
              " 'target': array([0, 0, 0, 0, 0, 0, 0, 0, 0, 0, 0, 0, 0, 0, 0, 0, 0, 0, 0, 1, 1, 1,\n",
              "        0, 0, 0, 0, 0, 0, 0, 0, 0, 0, 0, 0, 0, 0, 0, 1, 0, 0, 0, 0, 0, 0,\n",
              "        0, 0, 1, 0, 1, 1, 1, 1, 1, 0, 0, 1, 0, 0, 1, 1, 1, 1, 0, 1, 0, 0,\n",
              "        1, 1, 1, 1, 0, 1, 0, 0, 1, 0, 1, 0, 0, 1, 1, 1, 0, 0, 1, 0, 0, 0,\n",
              "        1, 1, 1, 0, 1, 1, 0, 0, 1, 1, 1, 0, 0, 1, 1, 1, 1, 0, 1, 1, 0, 1,\n",
              "        1, 1, 1, 1, 1, 1, 1, 0, 0, 0, 1, 0, 0, 1, 1, 1, 0, 0, 1, 0, 1, 0,\n",
              "        0, 1, 0, 0, 1, 1, 0, 1, 1, 0, 1, 1, 1, 1, 0, 1, 1, 1, 1, 1, 1, 1,\n",
              "        1, 1, 0, 1, 1, 1, 1, 0, 0, 1, 0, 1, 1, 0, 0, 1, 1, 0, 0, 1, 1, 1,\n",
              "        1, 0, 1, 1, 0, 0, 0, 1, 0, 1, 0, 1, 1, 1, 0, 1, 1, 0, 0, 1, 0, 0,\n",
              "        0, 0, 1, 0, 0, 0, 1, 0, 1, 0, 1, 1, 0, 1, 0, 0, 0, 0, 1, 1, 0, 0,\n",
              "        1, 1, 1, 0, 1, 1, 1, 1, 1, 0, 0, 1, 1, 0, 1, 1, 0, 0, 1, 0, 1, 1,\n",
              "        1, 1, 0, 1, 1, 1, 1, 1, 0, 1, 0, 0, 0, 0, 0, 0, 0, 0, 0, 0, 0, 0,\n",
              "        0, 0, 1, 1, 1, 1, 1, 1, 0, 1, 0, 1, 1, 0, 1, 1, 0, 1, 0, 0, 1, 1,\n",
              "        1, 1, 1, 1, 1, 1, 1, 1, 1, 1, 1, 0, 1, 1, 0, 1, 0, 1, 1, 1, 1, 1,\n",
              "        1, 1, 1, 1, 1, 1, 1, 1, 1, 0, 1, 1, 1, 0, 1, 0, 1, 1, 1, 1, 0, 0,\n",
              "        0, 1, 1, 1, 1, 0, 1, 0, 1, 0, 1, 1, 1, 0, 1, 1, 1, 1, 1, 1, 1, 0,\n",
              "        0, 0, 1, 1, 1, 1, 1, 1, 1, 1, 1, 1, 1, 0, 0, 1, 0, 0, 0, 1, 0, 0,\n",
              "        1, 1, 1, 1, 1, 0, 1, 1, 1, 1, 1, 0, 1, 1, 1, 0, 1, 1, 0, 0, 1, 1,\n",
              "        1, 1, 1, 1, 0, 1, 1, 1, 1, 1, 1, 1, 0, 1, 1, 1, 1, 1, 0, 1, 1, 0,\n",
              "        1, 1, 1, 1, 1, 1, 1, 1, 1, 1, 1, 1, 0, 1, 0, 0, 1, 0, 1, 1, 1, 1,\n",
              "        1, 0, 1, 1, 0, 1, 0, 1, 1, 0, 1, 0, 1, 1, 1, 1, 1, 1, 1, 1, 0, 0,\n",
              "        1, 1, 1, 1, 1, 1, 0, 1, 1, 1, 1, 1, 1, 1, 1, 1, 1, 0, 1, 1, 1, 1,\n",
              "        1, 1, 1, 0, 1, 0, 1, 1, 0, 1, 1, 1, 1, 1, 0, 0, 1, 0, 1, 0, 1, 1,\n",
              "        1, 1, 1, 0, 1, 1, 0, 1, 0, 1, 0, 0, 1, 1, 1, 0, 1, 1, 1, 1, 1, 1,\n",
              "        1, 1, 1, 1, 1, 0, 1, 0, 0, 1, 1, 1, 1, 1, 1, 1, 1, 1, 1, 1, 1, 1,\n",
              "        1, 1, 1, 1, 1, 1, 1, 1, 1, 1, 1, 1, 0, 0, 0, 0, 0, 0, 1]),\n",
              " 'target_names': array(['malignant', 'benign'], dtype='<U9')}"
            ]
          },
          "metadata": {
            "tags": []
          },
          "execution_count": 3
        }
      ],
      "metadata": {
        "colab": {
          "base_uri": "https://localhost:8080/"
        },
        "id": "YSO6O3jKFrdm",
        "outputId": "87484bbe-90a9-4f5d-8ba8-a82d347ca162"
      }
    },
    {
      "cell_type": "code",
      "execution_count": 3,
      "source": [
        "X = breast_cancer.data\r\n",
        "y = breast_cancer.target"
      ],
      "outputs": [],
      "metadata": {
        "id": "0oBTKwj3Fzzv"
      }
    },
    {
      "cell_type": "code",
      "execution_count": null,
      "source": [
        "X.shape,y.shape"
      ],
      "outputs": [
        {
          "output_type": "execute_result",
          "data": {
            "text/plain": [
              "((569, 30), (569,))"
            ]
          },
          "metadata": {
            "tags": []
          },
          "execution_count": 5
        }
      ],
      "metadata": {
        "colab": {
          "base_uri": "https://localhost:8080/"
        },
        "id": "ZvV8ZjYuGGna",
        "outputId": "dd32527a-1f8c-4136-96bf-c392b818c3ff"
      }
    },
    {
      "cell_type": "code",
      "execution_count": 5,
      "source": [
        "data = pd.DataFrame(breast_cancer.data, columns=breast_cancer.feature_names)\r\n",
        "data['class'] = breast_cancer.target"
      ],
      "outputs": [],
      "metadata": {
        "id": "mb667LY4GIaZ"
      }
    },
    {
      "cell_type": "code",
      "execution_count": null,
      "source": [
        "data.head()"
      ],
      "outputs": [
        {
          "output_type": "execute_result",
          "data": {
            "text/plain": [
              "   mean radius  mean texture  ...  worst fractal dimension  class\n",
              "0        17.99         10.38  ...                  0.11890      0\n",
              "1        20.57         17.77  ...                  0.08902      0\n",
              "2        19.69         21.25  ...                  0.08758      0\n",
              "3        11.42         20.38  ...                  0.17300      0\n",
              "4        20.29         14.34  ...                  0.07678      0\n",
              "\n",
              "[5 rows x 31 columns]"
            ],
            "text/html": [
              "<div>\n",
              "<style scoped>\n",
              "    .dataframe tbody tr th:only-of-type {\n",
              "        vertical-align: middle;\n",
              "    }\n",
              "\n",
              "    .dataframe tbody tr th {\n",
              "        vertical-align: top;\n",
              "    }\n",
              "\n",
              "    .dataframe thead th {\n",
              "        text-align: right;\n",
              "    }\n",
              "</style>\n",
              "<table border=\"1\" class=\"dataframe\">\n",
              "  <thead>\n",
              "    <tr style=\"text-align: right;\">\n",
              "      <th></th>\n",
              "      <th>mean radius</th>\n",
              "      <th>mean texture</th>\n",
              "      <th>mean perimeter</th>\n",
              "      <th>mean area</th>\n",
              "      <th>mean smoothness</th>\n",
              "      <th>mean compactness</th>\n",
              "      <th>mean concavity</th>\n",
              "      <th>mean concave points</th>\n",
              "      <th>mean symmetry</th>\n",
              "      <th>mean fractal dimension</th>\n",
              "      <th>radius error</th>\n",
              "      <th>texture error</th>\n",
              "      <th>perimeter error</th>\n",
              "      <th>area error</th>\n",
              "      <th>smoothness error</th>\n",
              "      <th>compactness error</th>\n",
              "      <th>concavity error</th>\n",
              "      <th>concave points error</th>\n",
              "      <th>symmetry error</th>\n",
              "      <th>fractal dimension error</th>\n",
              "      <th>worst radius</th>\n",
              "      <th>worst texture</th>\n",
              "      <th>worst perimeter</th>\n",
              "      <th>worst area</th>\n",
              "      <th>worst smoothness</th>\n",
              "      <th>worst compactness</th>\n",
              "      <th>worst concavity</th>\n",
              "      <th>worst concave points</th>\n",
              "      <th>worst symmetry</th>\n",
              "      <th>worst fractal dimension</th>\n",
              "      <th>class</th>\n",
              "    </tr>\n",
              "  </thead>\n",
              "  <tbody>\n",
              "    <tr>\n",
              "      <th>0</th>\n",
              "      <td>17.99</td>\n",
              "      <td>10.38</td>\n",
              "      <td>122.80</td>\n",
              "      <td>1001.0</td>\n",
              "      <td>0.11840</td>\n",
              "      <td>0.27760</td>\n",
              "      <td>0.3001</td>\n",
              "      <td>0.14710</td>\n",
              "      <td>0.2419</td>\n",
              "      <td>0.07871</td>\n",
              "      <td>1.0950</td>\n",
              "      <td>0.9053</td>\n",
              "      <td>8.589</td>\n",
              "      <td>153.40</td>\n",
              "      <td>0.006399</td>\n",
              "      <td>0.04904</td>\n",
              "      <td>0.05373</td>\n",
              "      <td>0.01587</td>\n",
              "      <td>0.03003</td>\n",
              "      <td>0.006193</td>\n",
              "      <td>25.38</td>\n",
              "      <td>17.33</td>\n",
              "      <td>184.60</td>\n",
              "      <td>2019.0</td>\n",
              "      <td>0.1622</td>\n",
              "      <td>0.6656</td>\n",
              "      <td>0.7119</td>\n",
              "      <td>0.2654</td>\n",
              "      <td>0.4601</td>\n",
              "      <td>0.11890</td>\n",
              "      <td>0</td>\n",
              "    </tr>\n",
              "    <tr>\n",
              "      <th>1</th>\n",
              "      <td>20.57</td>\n",
              "      <td>17.77</td>\n",
              "      <td>132.90</td>\n",
              "      <td>1326.0</td>\n",
              "      <td>0.08474</td>\n",
              "      <td>0.07864</td>\n",
              "      <td>0.0869</td>\n",
              "      <td>0.07017</td>\n",
              "      <td>0.1812</td>\n",
              "      <td>0.05667</td>\n",
              "      <td>0.5435</td>\n",
              "      <td>0.7339</td>\n",
              "      <td>3.398</td>\n",
              "      <td>74.08</td>\n",
              "      <td>0.005225</td>\n",
              "      <td>0.01308</td>\n",
              "      <td>0.01860</td>\n",
              "      <td>0.01340</td>\n",
              "      <td>0.01389</td>\n",
              "      <td>0.003532</td>\n",
              "      <td>24.99</td>\n",
              "      <td>23.41</td>\n",
              "      <td>158.80</td>\n",
              "      <td>1956.0</td>\n",
              "      <td>0.1238</td>\n",
              "      <td>0.1866</td>\n",
              "      <td>0.2416</td>\n",
              "      <td>0.1860</td>\n",
              "      <td>0.2750</td>\n",
              "      <td>0.08902</td>\n",
              "      <td>0</td>\n",
              "    </tr>\n",
              "    <tr>\n",
              "      <th>2</th>\n",
              "      <td>19.69</td>\n",
              "      <td>21.25</td>\n",
              "      <td>130.00</td>\n",
              "      <td>1203.0</td>\n",
              "      <td>0.10960</td>\n",
              "      <td>0.15990</td>\n",
              "      <td>0.1974</td>\n",
              "      <td>0.12790</td>\n",
              "      <td>0.2069</td>\n",
              "      <td>0.05999</td>\n",
              "      <td>0.7456</td>\n",
              "      <td>0.7869</td>\n",
              "      <td>4.585</td>\n",
              "      <td>94.03</td>\n",
              "      <td>0.006150</td>\n",
              "      <td>0.04006</td>\n",
              "      <td>0.03832</td>\n",
              "      <td>0.02058</td>\n",
              "      <td>0.02250</td>\n",
              "      <td>0.004571</td>\n",
              "      <td>23.57</td>\n",
              "      <td>25.53</td>\n",
              "      <td>152.50</td>\n",
              "      <td>1709.0</td>\n",
              "      <td>0.1444</td>\n",
              "      <td>0.4245</td>\n",
              "      <td>0.4504</td>\n",
              "      <td>0.2430</td>\n",
              "      <td>0.3613</td>\n",
              "      <td>0.08758</td>\n",
              "      <td>0</td>\n",
              "    </tr>\n",
              "    <tr>\n",
              "      <th>3</th>\n",
              "      <td>11.42</td>\n",
              "      <td>20.38</td>\n",
              "      <td>77.58</td>\n",
              "      <td>386.1</td>\n",
              "      <td>0.14250</td>\n",
              "      <td>0.28390</td>\n",
              "      <td>0.2414</td>\n",
              "      <td>0.10520</td>\n",
              "      <td>0.2597</td>\n",
              "      <td>0.09744</td>\n",
              "      <td>0.4956</td>\n",
              "      <td>1.1560</td>\n",
              "      <td>3.445</td>\n",
              "      <td>27.23</td>\n",
              "      <td>0.009110</td>\n",
              "      <td>0.07458</td>\n",
              "      <td>0.05661</td>\n",
              "      <td>0.01867</td>\n",
              "      <td>0.05963</td>\n",
              "      <td>0.009208</td>\n",
              "      <td>14.91</td>\n",
              "      <td>26.50</td>\n",
              "      <td>98.87</td>\n",
              "      <td>567.7</td>\n",
              "      <td>0.2098</td>\n",
              "      <td>0.8663</td>\n",
              "      <td>0.6869</td>\n",
              "      <td>0.2575</td>\n",
              "      <td>0.6638</td>\n",
              "      <td>0.17300</td>\n",
              "      <td>0</td>\n",
              "    </tr>\n",
              "    <tr>\n",
              "      <th>4</th>\n",
              "      <td>20.29</td>\n",
              "      <td>14.34</td>\n",
              "      <td>135.10</td>\n",
              "      <td>1297.0</td>\n",
              "      <td>0.10030</td>\n",
              "      <td>0.13280</td>\n",
              "      <td>0.1980</td>\n",
              "      <td>0.10430</td>\n",
              "      <td>0.1809</td>\n",
              "      <td>0.05883</td>\n",
              "      <td>0.7572</td>\n",
              "      <td>0.7813</td>\n",
              "      <td>5.438</td>\n",
              "      <td>94.44</td>\n",
              "      <td>0.011490</td>\n",
              "      <td>0.02461</td>\n",
              "      <td>0.05688</td>\n",
              "      <td>0.01885</td>\n",
              "      <td>0.01756</td>\n",
              "      <td>0.005115</td>\n",
              "      <td>22.54</td>\n",
              "      <td>16.67</td>\n",
              "      <td>152.20</td>\n",
              "      <td>1575.0</td>\n",
              "      <td>0.1374</td>\n",
              "      <td>0.2050</td>\n",
              "      <td>0.4000</td>\n",
              "      <td>0.1625</td>\n",
              "      <td>0.2364</td>\n",
              "      <td>0.07678</td>\n",
              "      <td>0</td>\n",
              "    </tr>\n",
              "  </tbody>\n",
              "</table>\n",
              "</div>"
            ]
          },
          "metadata": {
            "tags": []
          },
          "execution_count": 7
        }
      ],
      "metadata": {
        "colab": {
          "base_uri": "https://localhost:8080/",
          "height": 253
        },
        "id": "4ycgihCKIeyl",
        "outputId": "933ada0d-52c2-45f8-ca7b-a5c85db39a9e"
      }
    },
    {
      "cell_type": "code",
      "execution_count": 8,
      "source": [
        "data['class'].value_counts()"
      ],
      "outputs": [
        {
          "output_type": "execute_result",
          "data": {
            "text/plain": [
              "1    357\n",
              "0    212\n",
              "Name: class, dtype: int64"
            ]
          },
          "metadata": {},
          "execution_count": 8
        }
      ],
      "metadata": {
        "colab": {
          "base_uri": "https://localhost:8080/"
        },
        "id": "feBTCKcPIseY",
        "outputId": "f3329fc6-2b1d-4219-afd9-b95357baef77"
      }
    },
    {
      "cell_type": "code",
      "execution_count": null,
      "source": [
        "breast_cancer.target_names"
      ],
      "outputs": [
        {
          "output_type": "execute_result",
          "data": {
            "text/plain": [
              "array(['malignant', 'benign'], dtype='<U9')"
            ]
          },
          "metadata": {
            "tags": []
          },
          "execution_count": 9
        }
      ],
      "metadata": {
        "colab": {
          "base_uri": "https://localhost:8080/"
        },
        "id": "6j5FNHK8I8rU",
        "outputId": "90fcfcc6-1eec-4e11-e1d3-d2017a4bbe2c"
      }
    },
    {
      "cell_type": "code",
      "execution_count": 10,
      "source": [
        "data.groupby('class').mean()"
      ],
      "outputs": [
        {
          "output_type": "execute_result",
          "data": {
            "text/plain": [
              "       mean radius  mean texture  mean perimeter   mean area  mean smoothness  \\\n",
              "class                                                                           \n",
              "0        17.462830     21.604906      115.365377  978.376415         0.102898   \n",
              "1        12.146524     17.914762       78.075406  462.790196         0.092478   \n",
              "\n",
              "       mean compactness  mean concavity  mean concave points  mean symmetry  \\\n",
              "class                                                                         \n",
              "0              0.145188        0.160775             0.087990       0.192909   \n",
              "1              0.080085        0.046058             0.025717       0.174186   \n",
              "\n",
              "       mean fractal dimension  ...  worst radius  worst texture  \\\n",
              "class                          ...                                \n",
              "0                    0.062680  ...     21.134811      29.318208   \n",
              "1                    0.062867  ...     13.379801      23.515070   \n",
              "\n",
              "       worst perimeter   worst area  worst smoothness  worst compactness  \\\n",
              "class                                                                      \n",
              "0           141.370330  1422.286321          0.144845           0.374824   \n",
              "1            87.005938   558.899440          0.124959           0.182673   \n",
              "\n",
              "       worst concavity  worst concave points  worst symmetry  \\\n",
              "class                                                          \n",
              "0             0.450606              0.182237        0.323468   \n",
              "1             0.166238              0.074444        0.270246   \n",
              "\n",
              "       worst fractal dimension  \n",
              "class                           \n",
              "0                     0.091530  \n",
              "1                     0.079442  \n",
              "\n",
              "[2 rows x 30 columns]"
            ],
            "text/html": [
              "<div>\n",
              "<style scoped>\n",
              "    .dataframe tbody tr th:only-of-type {\n",
              "        vertical-align: middle;\n",
              "    }\n",
              "\n",
              "    .dataframe tbody tr th {\n",
              "        vertical-align: top;\n",
              "    }\n",
              "\n",
              "    .dataframe thead th {\n",
              "        text-align: right;\n",
              "    }\n",
              "</style>\n",
              "<table border=\"1\" class=\"dataframe\">\n",
              "  <thead>\n",
              "    <tr style=\"text-align: right;\">\n",
              "      <th></th>\n",
              "      <th>mean radius</th>\n",
              "      <th>mean texture</th>\n",
              "      <th>mean perimeter</th>\n",
              "      <th>mean area</th>\n",
              "      <th>mean smoothness</th>\n",
              "      <th>mean compactness</th>\n",
              "      <th>mean concavity</th>\n",
              "      <th>mean concave points</th>\n",
              "      <th>mean symmetry</th>\n",
              "      <th>mean fractal dimension</th>\n",
              "      <th>...</th>\n",
              "      <th>worst radius</th>\n",
              "      <th>worst texture</th>\n",
              "      <th>worst perimeter</th>\n",
              "      <th>worst area</th>\n",
              "      <th>worst smoothness</th>\n",
              "      <th>worst compactness</th>\n",
              "      <th>worst concavity</th>\n",
              "      <th>worst concave points</th>\n",
              "      <th>worst symmetry</th>\n",
              "      <th>worst fractal dimension</th>\n",
              "    </tr>\n",
              "    <tr>\n",
              "      <th>class</th>\n",
              "      <th></th>\n",
              "      <th></th>\n",
              "      <th></th>\n",
              "      <th></th>\n",
              "      <th></th>\n",
              "      <th></th>\n",
              "      <th></th>\n",
              "      <th></th>\n",
              "      <th></th>\n",
              "      <th></th>\n",
              "      <th></th>\n",
              "      <th></th>\n",
              "      <th></th>\n",
              "      <th></th>\n",
              "      <th></th>\n",
              "      <th></th>\n",
              "      <th></th>\n",
              "      <th></th>\n",
              "      <th></th>\n",
              "      <th></th>\n",
              "      <th></th>\n",
              "    </tr>\n",
              "  </thead>\n",
              "  <tbody>\n",
              "    <tr>\n",
              "      <th>0</th>\n",
              "      <td>17.462830</td>\n",
              "      <td>21.604906</td>\n",
              "      <td>115.365377</td>\n",
              "      <td>978.376415</td>\n",
              "      <td>0.102898</td>\n",
              "      <td>0.145188</td>\n",
              "      <td>0.160775</td>\n",
              "      <td>0.087990</td>\n",
              "      <td>0.192909</td>\n",
              "      <td>0.062680</td>\n",
              "      <td>...</td>\n",
              "      <td>21.134811</td>\n",
              "      <td>29.318208</td>\n",
              "      <td>141.370330</td>\n",
              "      <td>1422.286321</td>\n",
              "      <td>0.144845</td>\n",
              "      <td>0.374824</td>\n",
              "      <td>0.450606</td>\n",
              "      <td>0.182237</td>\n",
              "      <td>0.323468</td>\n",
              "      <td>0.091530</td>\n",
              "    </tr>\n",
              "    <tr>\n",
              "      <th>1</th>\n",
              "      <td>12.146524</td>\n",
              "      <td>17.914762</td>\n",
              "      <td>78.075406</td>\n",
              "      <td>462.790196</td>\n",
              "      <td>0.092478</td>\n",
              "      <td>0.080085</td>\n",
              "      <td>0.046058</td>\n",
              "      <td>0.025717</td>\n",
              "      <td>0.174186</td>\n",
              "      <td>0.062867</td>\n",
              "      <td>...</td>\n",
              "      <td>13.379801</td>\n",
              "      <td>23.515070</td>\n",
              "      <td>87.005938</td>\n",
              "      <td>558.899440</td>\n",
              "      <td>0.124959</td>\n",
              "      <td>0.182673</td>\n",
              "      <td>0.166238</td>\n",
              "      <td>0.074444</td>\n",
              "      <td>0.270246</td>\n",
              "      <td>0.079442</td>\n",
              "    </tr>\n",
              "  </tbody>\n",
              "</table>\n",
              "<p>2 rows × 30 columns</p>\n",
              "</div>"
            ]
          },
          "metadata": {},
          "execution_count": 10
        }
      ],
      "metadata": {}
    },
    {
      "cell_type": "markdown",
      "source": [
        "### Train test split"
      ],
      "metadata": {
        "id": "JYi2EO-rJ3cA"
      }
    },
    {
      "cell_type": "code",
      "execution_count": null,
      "source": [
        "from sklearn.model_selection import train_test_split"
      ],
      "outputs": [],
      "metadata": {
        "id": "1Vy2s24QJNmD"
      }
    },
    {
      "cell_type": "code",
      "execution_count": null,
      "source": [
        "X = data.drop('class',axis=1)\r\n",
        "y = data['class']"
      ],
      "outputs": [],
      "metadata": {
        "id": "gzkj2obnJ1KF"
      }
    },
    {
      "cell_type": "markdown",
      "source": [
        " In certain cases after splitting there might be improper representation of a particular class. For example let's assume that 65% of the dataset contains 1 and the 35% of the dataset contains 0. After splitting the train and test split must also reflect more or less the same representation. The representation shouldn't be random. For that case we use ***stratify***  "
      ],
      "metadata": {
        "id": "VvVcty1ULBm7"
      }
    },
    {
      "cell_type": "code",
      "execution_count": null,
      "source": [
        "X_train, X_test, y_train, y_test = train_test_split(X, y, test_size = 0.1, stratify = y, random_state=42)"
      ],
      "outputs": [],
      "metadata": {
        "id": "JZ1Rj9zuKJVD"
      }
    },
    {
      "cell_type": "code",
      "execution_count": null,
      "source": [
        "y.mean(), y_train.mean(), y_test.mean() "
      ],
      "outputs": [
        {
          "output_type": "execute_result",
          "data": {
            "text/plain": [
              "(0.6274165202108963, 0.626953125, 0.631578947368421)"
            ]
          },
          "metadata": {
            "tags": []
          },
          "execution_count": 13
        }
      ],
      "metadata": {
        "colab": {
          "base_uri": "https://localhost:8080/"
        },
        "id": "x08SS7mBL15v",
        "outputId": "3f996f96-2150-40b9-dd2f-ce00ba38d7c2"
      }
    },
    {
      "cell_type": "markdown",
      "source": [
        "### Binarisation of inputs"
      ],
      "metadata": {
        "id": "o0SvGvJETDYc"
      }
    },
    {
      "cell_type": "markdown",
      "source": [
        "MP Neuron model accepts only binary values as input so we need to convert all the values into either 1 or 0."
      ],
      "metadata": {
        "id": "Ixh9fvP7PdW6"
      }
    },
    {
      "cell_type": "code",
      "execution_count": null,
      "source": [
        "import matplotlib.pyplot as plt"
      ],
      "outputs": [],
      "metadata": {
        "id": "27RXld3iMIqE"
      }
    },
    {
      "cell_type": "code",
      "execution_count": null,
      "source": [
        "plt.plot(X_train.T,\"*\")\r\n",
        "plt.xticks(rotation='vertical')\r\n",
        "plt.show()"
      ],
      "outputs": [
        {
          "output_type": "display_data",
          "data": {
            "text/plain": [
              "<Figure size 432x288 with 1 Axes>"
            ],
            "image/png": "[encoded data removed]"
          },
          "metadata": {
            "tags": [],
            "needs_background": "light"
          }
        }
      ],
      "metadata": {
        "colab": {
          "base_uri": "https://localhost:8080/",
          "height": 374
        },
        "id": "qgjsXV4iTKjE",
        "outputId": "98a302bb-9cd5-4557-f573-849fbcb0fe3e"
      }
    },
    {
      "cell_type": "code",
      "execution_count": null,
      "source": [
        "X_binarised_3_train = X_train['mean area'].map(lambda x : 0 if x < 1000 else 1)"
      ],
      "outputs": [],
      "metadata": {
        "id": "8W3iaRtRTX3j"
      }
    },
    {
      "cell_type": "code",
      "execution_count": null,
      "source": [
        "plt.plot(X_binarised_3_train,\"*\")\n",
        "plt.show()"
      ],
      "outputs": [
        {
          "output_type": "display_data",
          "data": {
            "text/plain": [
              "<Figure size 432x288 with 1 Axes>"
            ],
            "image/png": "[encoded data removed]"
          },
          "metadata": {
            "tags": [],
            "needs_background": "light"
          }
        }
      ],
      "metadata": {
        "colab": {
          "base_uri": "https://localhost:8080/",
          "height": 265
        },
        "id": "AZHvyspvUC5H",
        "outputId": "705d224f-82ef-468f-e94b-0b2ba3d17c60"
      }
    },
    {
      "cell_type": "markdown",
      "source": [
        "Put all the datapoints in one of the 2 bins"
      ],
      "metadata": {
        "id": "ltGtQn6qJuht"
      }
    },
    {
      "cell_type": "code",
      "execution_count": null,
      "source": [
        "X_binarised_train = X_train.apply(pd.cut, bins = 2, labels=[0,1])"
      ],
      "outputs": [],
      "metadata": {
        "id": "ocxrDA41VAFT"
      }
    },
    {
      "cell_type": "code",
      "execution_count": null,
      "source": [
        "plt.plot(X_binarised_train.T,\"*\")\n",
        "plt.xticks(rotation=\"vertical\")\n",
        "plt.show()"
      ],
      "outputs": [
        {
          "output_type": "display_data",
          "data": {
            "text/plain": [
              "<Figure size 432x288 with 1 Axes>"
            ],
            "image/png": "[encoded data removed]"
          },
          "metadata": {
            "tags": [],
            "needs_background": "light"
          }
        }
      ],
      "metadata": {
        "colab": {
          "base_uri": "https://localhost:8080/",
          "height": 374
        },
        "id": "GyHka-xDVcVH",
        "outputId": "4f21b5e2-400c-47d3-8e5e-43d49a8e894a"
      }
    },
    {
      "cell_type": "code",
      "execution_count": null,
      "source": [
        "X_binarised_test = X_test.apply(pd.cut, bins=2 , labels=[0,1])"
      ],
      "outputs": [],
      "metadata": {
        "id": "FL_PPnVLV9CW"
      }
    },
    {
      "cell_type": "code",
      "execution_count": null,
      "source": [
        "X_binarised_test = X_binarised_test.values\n",
        "X_binarised_train = X_binarised_train.values"
      ],
      "outputs": [],
      "metadata": {
        "id": "URFU2WRcWVjk"
      }
    },
    {
      "cell_type": "markdown",
      "source": [
        "MP Neuron Model -  McCulloch-Pitts Neuron Model\n",
        "\n",
        "b is the only parameter and it is the threshold for classification. If the result from the model is greater than b then the record is classified as 1 else 0.\n",
        "\n"
      ],
      "metadata": {
        "id": "ym_4l8VFXXOg"
      }
    },
    {
      "cell_type": "code",
      "execution_count": null,
      "source": [
        "from random import randint"
      ],
      "outputs": [],
      "metadata": {
        "id": "33Dwmi9dah-a"
      }
    },
    {
      "cell_type": "code",
      "execution_count": null,
      "source": [
        "b = 3\n",
        "i = randint(0, X_binarised_train.shape[0])\n",
        "print(\"For row\", i)\n",
        "\n",
        "if(np.sum(X_binarised_train[i,:]) >= b):\n",
        "  print(\"MP neuron inference is malignant\")\n",
        "else:\n",
        "  print(\"MP neuron inference is benign\")\n",
        "\n",
        "# We do this to compare the predicted value with the observed values\n",
        "if(y_train[i] == 1):\n",
        "  print(\"Ground truth is malignant\")\n",
        "else:\n",
        "  print(\"Ground truth is benign\")"
      ],
      "outputs": [
        {
          "output_type": "stream",
          "name": "stdout",
          "text": [
            "For row 106\n",
            "MP neuron inference is benign\n",
            "Ground truth is malignant\n"
          ]
        }
      ],
      "metadata": {
        "colab": {
          "base_uri": "https://localhost:8080/"
        },
        "id": "2sKSd-tfWliI",
        "outputId": "b6518cf6-be6b-4c98-d705-b3873d2c11c7"
      }
    },
    {
      "cell_type": "code",
      "execution_count": null,
      "source": [
        "b = 40\n",
        "y_pred_train = []\n",
        "accurate_rows = 0\n",
        "\n",
        "for x, y in zip(X_binarised_train,y_train):\n",
        "  y_pred = (np.sum(x) >= b)\n",
        "  y_pred_train.append(y_pred)\n",
        "  result = (y == y_pred)\n",
        "  if(result):\n",
        "    accurate_rows += 1\n",
        "\n",
        "print(\"Number of accurate rows is \",accurate_rows)\n",
        "print(\"Accuracy is\", accurate_rows/X_binarised_train.shape[0])"
      ],
      "outputs": [
        {
          "output_type": "stream",
          "name": "stdout",
          "text": [
            "Number of accurate rows is  191\n",
            "Accuracy is 0.373046875\n"
          ]
        }
      ],
      "metadata": {
        "colab": {
          "base_uri": "https://localhost:8080/"
        },
        "id": "HxjMPRgSaPAI",
        "outputId": "eb695e34-035b-42ce-87fb-c564f403365e"
      }
    },
    {
      "cell_type": "code",
      "execution_count": null,
      "source": [
        "for b in range(X_binarised_train.shape[1]+1):\n",
        "  y_pred_train = [] \n",
        "  accurate_rows = 0\n",
        "  for x, y in zip(X_binarised_train,y_train):\n",
        "    y_pred = (np.sum(x) >= b)\n",
        "    y_pred_train.append(y_pred)\n",
        "    result = (y == y_pred)\n",
        "    if(result):\n",
        "      accurate_rows += 1\n",
        "\n",
        "  print(b,\"Accuracy is\", accurate_rows/X_binarised_train.shape[0])"
      ],
      "outputs": [
        {
          "output_type": "stream",
          "name": "stdout",
          "text": [
            "0 Accuracy is 0.626953125\n",
            "1 Accuracy is 0.28125\n",
            "2 Accuracy is 0.19140625\n",
            "3 Accuracy is 0.1484375\n",
            "4 Accuracy is 0.138671875\n",
            "5 Accuracy is 0.169921875\n",
            "6 Accuracy is 0.197265625\n",
            "7 Accuracy is 0.224609375\n",
            "8 Accuracy is 0.259765625\n",
            "9 Accuracy is 0.287109375\n",
            "10 Accuracy is 0.3046875\n",
            "11 Accuracy is 0.322265625\n",
            "12 Accuracy is 0.3359375\n",
            "13 Accuracy is 0.337890625\n",
            "14 Accuracy is 0.34765625\n",
            "15 Accuracy is 0.357421875\n",
            "16 Accuracy is 0.361328125\n",
            "17 Accuracy is 0.3671875\n",
            "18 Accuracy is 0.37109375\n",
            "19 Accuracy is 0.373046875\n",
            "20 Accuracy is 0.373046875\n",
            "21 Accuracy is 0.373046875\n",
            "22 Accuracy is 0.373046875\n",
            "23 Accuracy is 0.373046875\n",
            "24 Accuracy is 0.373046875\n",
            "25 Accuracy is 0.373046875\n",
            "26 Accuracy is 0.373046875\n",
            "27 Accuracy is 0.373046875\n",
            "28 Accuracy is 0.373046875\n",
            "29 Accuracy is 0.373046875\n",
            "30 Accuracy is 0.373046875\n"
          ]
        }
      ],
      "metadata": {
        "colab": {
          "base_uri": "https://localhost:8080/"
        },
        "id": "ybwhPR4be-tj",
        "outputId": "e1a1681c-4923-4b94-9bb6-46e903324173"
      }
    },
    {
      "cell_type": "markdown",
      "source": [
        "From this we got very poor accuracy, this is because we have given larger values to be malignant(1) and smaller values to be benign(0). If we see the mean values after grouping by class we will find that benign has larger values. So we flip the numbers while binarising."
      ],
      "metadata": {
        "id": "DbeVYqrcIhhL"
      }
    },
    {
      "cell_type": "code",
      "execution_count": null,
      "source": [
        "X_binarised_train = X_train.apply(pd.cut, bins = 2, labels=[1,0])\n",
        "X_binarised_train.shape"
      ],
      "outputs": [
        {
          "output_type": "execute_result",
          "data": {
            "text/plain": [
              "(512, 30)"
            ]
          },
          "metadata": {
            "tags": []
          },
          "execution_count": 26
        }
      ],
      "metadata": {
        "colab": {
          "base_uri": "https://localhost:8080/"
        },
        "id": "iCmwA3eXEsRk",
        "outputId": "89c88b4b-56cb-48e2-a09f-bbe433dc4931"
      }
    },
    {
      "cell_type": "code",
      "execution_count": null,
      "source": [
        "X_binarised_test = X_test.apply(pd.cut, bins=2 , labels=[1,0])"
      ],
      "outputs": [],
      "metadata": {
        "id": "KYPCjpFbEQX_"
      }
    },
    {
      "cell_type": "code",
      "execution_count": null,
      "source": [
        "X_binarised_test = X_binarised_test.values\n",
        "X_binarised_train = X_binarised_train.values"
      ],
      "outputs": [],
      "metadata": {
        "id": "OzvyHayPKEGq"
      }
    },
    {
      "cell_type": "code",
      "execution_count": null,
      "source": [
        "for b in range(X_binarised_train.shape[1]+1):\n",
        "  y_pred_train = [] \n",
        "  accurate_rows = 0\n",
        "  for x, y in zip(X_binarised_train,y_train):\n",
        "    y_pred = (np.sum(x) >= b)\n",
        "    y_pred_train.append(y_pred)\n",
        "    result = (y == y_pred)\n",
        "    if(result):\n",
        "      accurate_rows += 1\n",
        "\n",
        "  print(b,\"Accuracy is\", accurate_rows/X_binarised_train.shape[0])"
      ],
      "outputs": [
        {
          "output_type": "stream",
          "name": "stdout",
          "text": [
            "0 Accuracy is 0.626953125\n",
            "1 Accuracy is 0.626953125\n",
            "2 Accuracy is 0.626953125\n",
            "3 Accuracy is 0.626953125\n",
            "4 Accuracy is 0.626953125\n",
            "5 Accuracy is 0.626953125\n",
            "6 Accuracy is 0.626953125\n",
            "7 Accuracy is 0.626953125\n",
            "8 Accuracy is 0.626953125\n",
            "9 Accuracy is 0.626953125\n",
            "10 Accuracy is 0.626953125\n",
            "11 Accuracy is 0.626953125\n",
            "12 Accuracy is 0.626953125\n",
            "13 Accuracy is 0.62890625\n",
            "14 Accuracy is 0.6328125\n",
            "15 Accuracy is 0.638671875\n",
            "16 Accuracy is 0.642578125\n",
            "17 Accuracy is 0.65234375\n",
            "18 Accuracy is 0.662109375\n",
            "19 Accuracy is 0.6640625\n",
            "20 Accuracy is 0.677734375\n",
            "21 Accuracy is 0.6953125\n",
            "22 Accuracy is 0.712890625\n",
            "23 Accuracy is 0.740234375\n",
            "24 Accuracy is 0.775390625\n",
            "25 Accuracy is 0.802734375\n",
            "26 Accuracy is 0.830078125\n",
            "27 Accuracy is 0.861328125\n",
            "28 Accuracy is 0.8515625\n",
            "29 Accuracy is 0.80859375\n",
            "30 Accuracy is 0.71875\n"
          ]
        }
      ],
      "metadata": {
        "colab": {
          "base_uri": "https://localhost:8080/"
        },
        "id": "DpOm6EhoJRLE",
        "outputId": "730504f5-7dfc-4214-fac6-e70d13d05a87"
      }
    },
    {
      "cell_type": "code",
      "execution_count": null,
      "source": [
        "from sklearn.metrics import accuracy_score"
      ],
      "outputs": [],
      "metadata": {
        "id": "TfllohzpJRFi"
      }
    },
    {
      "cell_type": "code",
      "execution_count": null,
      "source": [
        "# We found the optimal value of b to be 27\n",
        "b = 27\n",
        "y_pred_test = []\n",
        "for x in X_binarised_test:\n",
        "  y_pred = (np.sum(x) >= b)\n",
        "  y_pred_test.append(y_pred)\n",
        "accuracy = accuracy_score(y_pred_test, y_test)\n",
        "accuracy"
      ],
      "outputs": [
        {
          "output_type": "execute_result",
          "data": {
            "text/plain": [
              "0.8421052631578947"
            ]
          },
          "metadata": {
            "tags": []
          },
          "execution_count": 31
        }
      ],
      "metadata": {
        "colab": {
          "base_uri": "https://localhost:8080/"
        },
        "id": "chVQslPpJRHq",
        "outputId": "8406045e-5145-4694-e441-78b06e892b6c"
      }
    },
    {
      "cell_type": "code",
      "execution_count": null,
      "source": [
        "class MPNeuron:\n",
        "  def __init__(self):\n",
        "    self.b = None\n",
        "\n",
        "  def model(self,x):\n",
        "    return (sum(x) >= self.b)\n",
        "  \n",
        "  def predict(self,X):\n",
        "    y = []\n",
        "    for x in X:\n",
        "      result = self.model(x)\n",
        "      y.append(result)\n",
        "    return np.array(y)\n",
        "  \n",
        "  def fit(self,X,y):\n",
        "    accuracy= {}\n",
        "    for b in range(X.shape[1] + 1):\n",
        "      self.b = b\n",
        "      y_pred = self.predict(X)\n",
        "      accuracy[b] = accuracy_score(y_pred, y)\n",
        "    \n",
        "    best_b = max(accuracy, key = accuracy.get)\n",
        "    self.b = best_b\n",
        "\n",
        "    print(\"Optimal value of b is\",best_b)\n",
        "    print(\"highest accuracy is\",accuracy[best_b])"
      ],
      "outputs": [],
      "metadata": {
        "id": "cVqHQIcDJRDh"
      }
    },
    {
      "cell_type": "code",
      "execution_count": null,
      "source": [
        "mp_neuron = MPNeuron()\n",
        "mp_neuron.fit(X_binarised_train, y_train)"
      ],
      "outputs": [
        {
          "output_type": "stream",
          "name": "stdout",
          "text": [
            "Optimal value of b is 27\n",
            "highest accuracy is 0.861328125\n"
          ]
        }
      ],
      "metadata": {
        "colab": {
          "base_uri": "https://localhost:8080/"
        },
        "id": "hIfLZKJgJQ_3",
        "outputId": "58d3ebf7-0a7c-4ccf-d644-5d311b5402d7"
      }
    },
    {
      "cell_type": "code",
      "execution_count": null,
      "source": [
        "y_test_pred = mp_neuron.predict(X_binarised_test)\n",
        "accuracy = accuracy_score(y_test_pred, y_test)\n",
        "accuracy"
      ],
      "outputs": [
        {
          "output_type": "execute_result",
          "data": {
            "text/plain": [
              "0.8421052631578947"
            ]
          },
          "metadata": {
            "tags": []
          },
          "execution_count": 34
        }
      ],
      "metadata": {
        "colab": {
          "base_uri": "https://localhost:8080/"
        },
        "id": "efkgugtOJQ9A",
        "outputId": "977a96be-aa34-4265-861b-cdb33cc91782"
      }
    },
    {
      "cell_type": "code",
      "execution_count": null,
      "source": [
        "X_train = X_train.values\n",
        "X_test = X_test.values"
      ],
      "outputs": [],
      "metadata": {
        "id": "NCtarE5NoZXU"
      }
    },
    {
      "cell_type": "markdown",
      "source": [
        "### Perceptron class "
      ],
      "metadata": {
        "id": "PO_SxGbyZIZi"
      }
    },
    {
      "cell_type": "markdown",
      "source": [
        "\n",
        "$y = 1,if\\sum_i w_i x_i >= b$\n",
        "\n",
        "$y = 0, \\mbox{otherwise}$\n"
      ],
      "metadata": {
        "id": "eNM9bBdyZCAl"
      }
    },
    {
      "cell_type": "code",
      "execution_count": null,
      "source": [
        "class Perceptron:\n",
        "  def __init__(self):\n",
        "    self.w = None\n",
        "    self.b = None\n",
        "  \n",
        "  def model(self,x):\n",
        "    return 1 if (np.dot(self.w,x) >= self.b) else 0\n",
        "  \n",
        "  def predict(self,X):\n",
        "    y = []\n",
        "    for x in X:\n",
        "      result = self.model(x)\n",
        "      y.append(result)\n",
        "    return np.array(y)\n",
        "  \n",
        "  def fit(self, X, y, epochs=1,lr=1):\n",
        "    self.w = np.ones(X.shape[1])\n",
        "    self.b = 0\n",
        "    # accuracy = {}\n",
        "    accuracy = []\n",
        "    max_accuracy = 0\n",
        "\n",
        "    wt_matrix = []\n",
        "\n",
        "    for i in range(epochs):\n",
        "      for x,j in zip(X,y):\n",
        "        y_pred = self.model(x)\n",
        "        if j == 1 and y_pred == 0:\n",
        "          self.w = self.w + (lr * x)\n",
        "          self.b = self.b + (lr * 1)\n",
        "        elif j == 0 and y_pred == 1:\n",
        "          self.w = self.w - (lr * x)\n",
        "          self.b = self.b - (lr * 1)  \n",
        "      wt_matrix.append(self.w)\n",
        "      accuracy.append(accuracy_score(self.predict(X),y))\n",
        "      if(accuracy[i] > max_accuracy):\n",
        "        max_accuracy = accuracy[i]\n",
        "        check_point_w = self.w\n",
        "        check_point_b = self.b\n",
        "    self.w = check_point_w\n",
        "    self.b = check_point_b\n",
        "\n",
        "    print(max_accuracy)\n",
        "    plt.plot(accuracy)\n",
        "    plt.ylim([0,1])\n",
        "    plt.show()\n",
        "\n",
        "    return wt_matrix"
      ],
      "outputs": [],
      "metadata": {
        "id": "1A0FjqexZCIE"
      }
    },
    {
      "cell_type": "code",
      "execution_count": null,
      "source": [
        "perceptron = Perceptron()"
      ],
      "outputs": [],
      "metadata": {
        "id": "mG_cnk1bZCK5"
      }
    },
    {
      "cell_type": "markdown",
      "source": [
        "The parameters for perceptron model are ***b,w***\n",
        "\n",
        "Hyper parameters for perceptron model are ***epochs, learning rate***\n",
        "\n",
        "By varying the hyperparameters we can improve the accuracy of the model."
      ],
      "metadata": {
        "id": "CtawjKly5ZCo"
      }
    },
    {
      "cell_type": "code",
      "execution_count": null,
      "source": [
        "wt_matrix = np.array(wt_matrix)"
      ],
      "outputs": [],
      "metadata": {
        "id": "XZmpKDpyYGNv"
      }
    },
    {
      "cell_type": "code",
      "execution_count": null,
      "source": [
        "wt_matrix = perceptron.fit(X_train, y_train, 100) "
      ],
      "outputs": [
        {
          "output_type": "stream",
          "name": "stdout",
          "text": [
            "0.919921875\n"
          ]
        },
        {
          "output_type": "display_data",
          "data": {
            "text/plain": [
              "<Figure size 432x288 with 1 Axes>"
            ],
            "image/png": "[encoded data removed]"
          },
          "metadata": {
            "tags": [],
            "needs_background": "light"
          }
        }
      ],
      "metadata": {
        "colab": {
          "base_uri": "https://localhost:8080/",
          "height": 286
        },
        "id": "3Otwy9cLZCQT",
        "outputId": "cb664327-6dff-4d63-a1d6-ef690580c473"
      }
    },
    {
      "cell_type": "code",
      "execution_count": null,
      "source": [
        "plt.plot(wt_matrix[-1,:])\n",
        "plt.show()"
      ],
      "outputs": [
        {
          "output_type": "display_data",
          "data": {
            "text/plain": [
              "<Figure size 432x288 with 1 Axes>"
            ],
            "image/png": "[encoded data removed]"
          },
          "metadata": {
            "tags": [],
            "needs_background": "light"
          }
        }
      ],
      "metadata": {
        "colab": {
          "base_uri": "https://localhost:8080/",
          "height": 265
        },
        "id": "YKYCSPvdn6aD",
        "outputId": "7e3246a6-e3ef-4c5a-aaa5-699f557757fc"
      }
    },
    {
      "cell_type": "code",
      "execution_count": null,
      "source": [
        "y_pred_train = perceptron.predict(X_train)\n",
        "accuracy_score(y_pred_train,y_train)"
      ],
      "outputs": [
        {
          "output_type": "execute_result",
          "data": {
            "text/plain": [
              "0.919921875"
            ]
          },
          "metadata": {
            "tags": []
          },
          "execution_count": 64
        }
      ],
      "metadata": {
        "colab": {
          "base_uri": "https://localhost:8080/"
        },
        "id": "Bd4kip9Qn_hw",
        "outputId": "76f179f7-035f-4572-99b7-1b300d319a16"
      }
    },
    {
      "cell_type": "code",
      "execution_count": null,
      "source": [
        "y_pred_test = perceptron.predict(X_test)\n",
        "accuracy_score(y_pred_test,y_test)"
      ],
      "outputs": [
        {
          "output_type": "execute_result",
          "data": {
            "text/plain": [
              "0.8771929824561403"
            ]
          },
          "metadata": {
            "tags": []
          },
          "execution_count": 80
        }
      ],
      "metadata": {
        "colab": {
          "base_uri": "https://localhost:8080/"
        },
        "id": "sctrDSsspOdY",
        "outputId": "dd906e39-7dad-497d-b849-79fad4791713"
      }
    },
    {
      "cell_type": "code",
      "execution_count": null,
      "source": [
        "%matplotlib inline\n",
        "from matplotlib import animation, rc\n",
        "from IPython.display import HTML"
      ],
      "outputs": [],
      "metadata": {
        "id": "Uh2-iKG_pW-k"
      }
    },
    {
      "cell_type": "code",
      "execution_count": null,
      "source": [
        "# First set up the figure, the axis, and the plot element we want to animate\n",
        "fig, ax = plt.subplots()\n",
        "\n",
        "# We have got the y limit by plotting the last row of the wt_matrix\n",
        "ax.set_xlim(( 0, wt_matrix.shape[1]))\n",
        "ax.set_ylim((-15000,25000))\n",
        "line, = ax.plot([], [], lw=2)"
      ],
      "outputs": [
        {
          "output_type": "display_data",
          "data": {
            "text/plain": [
              "<Figure size 432x288 with 1 Axes>"
            ],
            "image/png": "[encoded data removed]"
          },
          "metadata": {
            "tags": [],
            "needs_background": "light"
          }
        }
      ],
      "metadata": {
        "colab": {
          "base_uri": "https://localhost:8080/",
          "height": 269
        },
        "id": "gtZxMXnCpXBB",
        "outputId": "9ba3cb69-8c53-48ea-831f-06fa0f8297a6"
      }
    },
    {
      "cell_type": "code",
      "execution_count": null,
      "source": [
        "# animation function. This is called sequentially\n",
        "def animate(i):\n",
        "    x = list(range(wt_matrix.shape[1]))\n",
        "    y = wt_matrix[i,:]\n",
        "    line.set_data(x, y)\n",
        "    return (line,)"
      ],
      "outputs": [],
      "metadata": {
        "id": "BLeK0ttIpXDt"
      }
    },
    {
      "cell_type": "code",
      "execution_count": null,
      "source": [
        "# call the animator. blit=True means only re-draw the parts that have changed.\n",
        "anim = animation.FuncAnimation(fig, animate,\n",
        "                               frames=100, interval=100, blit=True)"
      ],
      "outputs": [],
      "metadata": {
        "id": "0bhQurQYpXG_"
      }
    },
    {
      "cell_type": "code",
      "execution_count": null,
      "source": [
        "HTML(anim.to_html5_video())"
      ],
      "outputs": [
        {
          "output_type": "execute_result",
          "data": {
            "text/plain": [
              "<IPython.core.display.HTML object>"
            ],
            "text/html": [
              "<video width=\"432\" height=\"288\" controls autoplay loop>\n",
              "  <source type=\"video/mp4\" src=\"data:video/mp4;base64,AAAAHGZ0eXBNNFYgAAACAGlzb21pc28yYXZjMQAAAAhmcmVlAACBDW1kYXQAAAKtBgX//6ncRem9\n",
              "5tlIt5Ys2CDZI+7veDI2NCAtIGNvcmUgMTUyIHIyODU0IGU5YTU5MDMgLSBILjI2NC9NUEVHLTQg\n",
              "QVZDIGNvZGVjIC0gQ29weWxlZnQgMjAwMy0yMDE3IC0gaHR0cDovL3d3dy52aWRlb2xhbi5vcmcv\n",
              "eDI2NC5odG1sIC0gb3B0aW9uczogY2FiYWM9MSByZWY9MyBkZWJsb2NrPTE6MDowIGFuYWx5c2U9\n",
              "MHgzOjB4MTEzIG1lPWhleCBzdWJtZT03IHBzeT0xIHBzeV9yZD0xLjAwOjAuMDAgbWl4ZWRfcmVm\n",
              "PTEgbWVfcmFuZ2U9MTYgY2hyb21hX21lPTEgdHJlbGxpcz0xIDh4OGRjdD0xIGNxbT0wIGRlYWR6\n",
              "b25lPTIxLDExIGZhc3RfcHNraXA9MSBjaHJvbWFfcXBfb2Zmc2V0PS0yIHRocmVhZHM9MyBsb29r\n",
              "YWhlYWRfdGhyZWFkcz0xIHNsaWNlZF90aHJlYWRzPTAgbnI9MCBkZWNpbWF0ZT0xIGludGVybGFj\n",
              "ZWQ9MCBibHVyYXlfY29tcGF0PTAgY29uc3RyYWluZWRfaW50cmE9MCBiZnJhbWVzPTMgYl9weXJh\n",
              "bWlkPTIgYl9hZGFwdD0xIGJfYmlhcz0wIGRpcmVjdD0xIHdlaWdodGI9MSBvcGVuX2dvcD0wIHdl\n",
              "aWdodHA9MiBrZXlpbnQ9MjUwIGtleWludF9taW49NSBzY2VuZWN1dD00MCBpbnRyYV9yZWZyZXNo\n",
              "PTAgcmNfbG9va2FoZWFkPTQwIHJjPWNyZiBtYnRyZWU9MSBjcmY9MjMuMCBxY29tcD0wLjYwIHFw\n",
              "bWluPTAgcXBtYXg9NjkgcXBzdGVwPTQgaXBfcmF0aW89MS40MCBhcT0xOjEuMDAAgAAAEepliIQA\n",
              "Ev/+963fgU3AQO1rulc4tMurlDQ9UfaUpni2SAAAAwADlGX8OsidmA88y6GZ/02b2g1gjvLH4xTy\n",
              "2fmUGzfV9ZvyIPYmqrCcmekF02fBENtN882c8j8QE2tyBs1WnoR/slNLhn5TRelWS/9cLLoFcr7H\n",
              "HJ7V73RnK6L+vkur0JyIhZgaXyn/gq2d+r2IkXF/g+83w+AMa+bWulIQAAAYByXzwH/pSc3EK3DJ\n",
              "HrSjkvXOhRXq9XPKf8BRMbnZ+5aMyhKsdTA8008IUQsnFZBA5VnZ+azPkbt3VqPcE88+IAeDC0Ql\n",
              "1zYi+Y4PQdsPYL3USLhQBDI2eLfTL7SjsHVO0jcEguKgQFQ3Lfbo+rSx7e88L6cQHv/0GhxAmn0G\n",
              "ZKPyJfVg+xKtqSLidd/vU6faKI4d56jR0yMDhixrUZJfJwjSBn/AYhk+sbowmpDkaVbH8QKkrtp9\n",
              "lt4imkjEQ9HX8R5TEBBwirbj8CSsWugGUbys0uTNNBh+d81pQq+pWjUGvHAJZEfzK2J/G8B6HE3I\n",
              "cyZngvU6mStBsImOeIcksqQuv5ao07qY4Llmxk1pgYFAAFUBNihPSOaxTmQccgGtOe74j57bmQc+\n",
              "HZR2bDTil3+gmqW3doQjznjbd/9uEb8/z2QZYmtFknY6bpX4oaNsDM4u9F+U8j8N4xpEOQmKkLzV\n",
              "bcLzj+euH13t4pQiNbmdqng5OtAnew0S1nD2ZnMy5dQyQiW2knZafR9pJzrOp1D4xobqlaOq1SQi\n",
              "0EtMPGqGjFQtrh+ABdjbs9ASE1z/fo/A51d34yUHlCjBp7+NpNHKvsA8O/A907Gu0wmgBrNeT1W3\n",
              "MgxSuB+EveoDVMQHVgkNXha/6SNIs3LkBbd0nUmWmFzEmj2FUuV0upW3/VW+7shGZhy3ENIhy52E\n",
              "wlttANjwv7svjjivbHpZA0+L3/qbouF7NC9PbLopuB1GAY1oNpMpxuo+F1zszhbOgP2ipHSf/CRS\n",
              "bsnHEBJaPz2iHyh67bzYU2YfKDpbavPwbj6q78+ZpD6YhT0HXxsvoW8oPHJHSCR4iLzjb5IAUkpi\n",
              "tIPhYipCPDfqxWIXjP0/kSS1zlMYTLBL1GhE15YN0o4FzjMQ1sxT131kDwE2NErd8uLWiE3i2bcs\n",
              "hG9EDaBTR1DOEJdz6l1g++gywQlEgDGh5nddOdZvzsBZoqXFAToG7HlkR/aILHqVTanAAPiU8nPN\n",
              "Jy3EdtO/vCNywBh1lqyC9Bpp3N3QNVwsdgW9gXoArEkH00JhhbxdoIP7zzTF9I+liWQu4PRKOuGc\n",
              "VTvQKljDFlWxoU8C3t2WgqZjJlt7Ja/LR4Mqz4YBzWUeFwzCKKz0v07hX0o7nVlU/aOLwGqf1Md9\n",
              "h0PgG3hW0zgSDUEDMx4dk9rtDYU3NOnRaCbLiyx9VozRHlJBpbiGs9A/GQ7W9BsLLQiEAKFWoIvj\n",
              "rHWm6lWuVtt9tsT0zpzsZWiFEn10KB7/VxotOi3qBGxyHZSUkGb+nV8lsE6hoFaqHiUW9e1J4tS8\n",
              "VLbE2YIzgM9qM2bNn3akRtLq9R/yZnqlERhQZf0xAn2zAhbHGtzv/pb+ZnXm81F3d4R2Ofz675De\n",
              "OSgMsNU7BcFBSZ6EAe7GCWSxjjxuAAj8Uifu74nJK+sQp7sScGQrfUG7xIRkaDW0YHkq0sQAae61\n",
              "rbQ5yhZQkPZTyjjHeBwBPvKu9ALT023gGmgJZmDasG+Xozopj9oyRxFMHuZHihDlqqhnTQILDUiM\n",
              "RsPlSgR23RoLZcXqcaD3dz1Dg7wfs5DZUYU/vJ19MKDsmKDk8hgPNHaKdPh7Z0eBca/5C5JKpIvg\n",
              "HU6S7wTaD5wZRsXbTveFKlG0PEMk0oSIMGmM4zWvtGrxJ84ngM/YoydoFlcXFAdTIfqChQJko5aK\n",
              "Tz/JyAaMLNQfFQhpKtSXwUwKq5GE7oA6l/CNo7MpwKACiEpuYE0MG0rBm+bLa4JMXfsq7YIXTkFb\n",
              "Ga1k0t8hQsWX+eBgUapC1uHC9t4K9EEAI3/IYDZLR52upczSlkqBaFM6ecHxR1cAZIX59R5dq988\n",
              "cwgktKuYW9TgHeUr5vrnATswchvRWfeCWn1Ld12Wvm3c8lIkL9RESKeSoekgJ6b7kcff4ZY5Yhqa\n",
              "uUogY7PVxOYDBVbpZs3L7BReAeYw2tsxwIQQSa7vGq19L/t6E9OzSldu0nfgW53pl5h2FVOYZtH4\n",
              "kRpdeVPmkvh6YuS00kHuvjzuQ3wkU8sFpzuOdI/yUSN2MD6GH8ndx6DmcKRCqDRCKMXfquZ+7Lc2\n",
              "SA8qs/vgsHz/m9wQ7wqC9+XRaVk2nK+94l7liGvm79juaLRi9KInkPnFAFDwhczi/8/r9TafbEPx\n",
              "51iSbI+DXDsj0h85C3kaT9O0IhtvLXgKnE+wwFWDGLNzGxrJXNWspwTjOE1FMDSibE2euHjBzlmf\n",
              "IPcR9pYMkRqWyVJKIt0hVr2vNWqXrTkr0cj7EGEhmeXl/fakBjhKnTan82v6F1vIVBoG/3Gh0WzC\n",
              "VW+1wrxP3qyOZ6X7CripHETFJ3fe5Zf3V+e1UBCwGpxbXm5Y+QNFzdXM1JBehCuU9sB+wuTVzeeE\n",
              "+TnKl6kU2KUaMz5/bQGgaTlRI5r3GpBlL2gpv9PzYn8Vvc/oSu+AGdQrRNCK//+tsHKrrjWrGGdF\n",
              "Ago+uzGC6WhjASeUd0ftSj50sYLAmk0FzGYZNxJ6g77Xl9lB63/YTigLRUvE0ScyJvSQIrIGKP/E\n",
              "v3BkUVZLC+tirYawAO4F3keURoDR2Rm2kNH4si0uKDeQGWgbDYY0V33R1IbNFwqEEbu1eyZdnnHS\n",
              "Rw/5QJrXA+k0satW1t//FbSc5L0vuH3gt6Q4O6CGTAlwBpqIdtLvdiQcXoS5Kmp5wpjIfloYfHPD\n",
              "k/YAm+HW0poffqay3YttFZXee/ZY30cs/nrXk1WjhLWeCLCz3fzSo+dkoybXM3ZuKfCnlIh5ZSQi\n",
              "DFX3UcYW6pNeS42WC9K71UP690WBBI4J1Rx/MIvM7FkZdYIO1fVTkpXzTnf8rjyzeAPAHv8KA7xr\n",
              "uCbwUa+WKVn6GQnoqHNY1YJmQLWZxiLVinUbVW9hnP0Zs3Duv7RM2V4HnNvrSmGjT33yKO/N7v/q\n",
              "f2DEnX1h2I7mEYwKqsaRCu2Kv1M+hOUSbEhPdKUf6qzMAHS5/GZmeGQzhGAC2rL4izb25wnFhYu4\n",
              "xrPw1EX4qE9G0GxOoCKvUzvYL5cMDFuAHTvrrgS3LhpKW/uDa3pgolGI+Svg4jcSeSPqm/DZKtod\n",
              "4GaTKv2wBF4UhezoUNGqtEirAonk7o2AY5yxNwONXwMlMFicxLxBuCPL+gqiJ3net3Jnq9/jLdb8\n",
              "+2rxcw7hWL4rn0Skt6pZQ+iPCh6PRBGQso/JlUSqcy48ZRXLfpb/1UYUf3LXo6L/RxOxJGwv+IYG\n",
              "q0tNmt6/xf2zrbZX9LjCLgDifmJRxDKOmJbcKqjrzTAXBJSXxjtmCwFXa6aShdElrHMozFhIrlg4\n",
              "8nfok15qSBnVR3sOuUaD1HzNZfg7NpYh7C2Y0+mtbDYlQiyblK/Pcp9FgyHeuX/hGq/eQBz2J2St\n",
              "IUrd3Ebvk9bpZWo9JFVn3eoAu/035pib+lleXQgs6/HGhXh6j6C0xE1L1Lq81BJMj4i45AD1cZAs\n",
              "Jze0WMqkM8dWOxH6F2lTCJV19pb5gGwsU17Hz7gqHeqHENnLtDrrOYFXxk1E69pdXcmPlVnPxMIS\n",
              "aMErepLhb56dKa1yM23uOy7CzpNJVxCk+KglT4aoi+Ar9WX06YxG1PytAgjlk3mcHUMoSZ5cmdsn\n",
              "4uWG5KTbcL+GxUhCuccMPUpT6IICZSdjKlYsdS0lBKWcx3IX9vuDntk/H+uqqO8xH770atyiUNFi\n",
              "ZWe6C+jx4YcXWzvjzk2yd1hqC7nf/YTOUKMBhpYNGAm6hDGUdXbgKJYZZ0zDI3ZXfPj4yZf7zNxk\n",
              "i8s68Y4bi7kipQjd9CgwI2qOwS/gZ5JfJlmaIc+oJgHPD+No0rZ6wcfCSL3EyDFlhdNdatmL1WCH\n",
              "l0sCUvOn3LYPIU4rlXPzbqd0GGxiNMCcu6a/uOslWBCKbnbocITRs3ASNdALbot3sSemLc9KB485\n",
              "NoXWgiJwZ6bf0HcvFtb3R+Jbi8vcM5JXjwTc9pzxhoIls/h9E42j8OQeK+qsLIfNVCKxcapjpWfy\n",
              "XJ3ZD80B/wbFOxAXbxF8nli+I/jvy7sEN+4pcmmG/x+YuksUps8y3LqLj6slYdZ7BA2Yso+fXXwh\n",
              "cTN/TDvRrLpMFWQecQnWo1dIElQ/GOhmQYOacWH1adQEMZ8Q8FzVG0ZTj7kg8n9BL0WhPRIaPe5y\n",
              "X8bNG7uMadhbOOvJshQ3Y/sdL8LFc884Jn2Ewm9ZUwr0lujZwKAidIQ8510JYTpPNMn5ZDVA2+BE\n",
              "I93waOZ1sk2SXPOVhkpG+8HcL95ipkhRfWsH76a4StBz51cZXdn7uIJG//JtCfp8uTU4VUiVlW/X\n",
              "zx66L0gHtYRC1HB901XXSK65r5y/gZGidj8y0LFzVf1d1myjYWUXhoAxTo+U50lQOe3kEvGGM1Bf\n",
              "qlgKKb92ebxqwHrkJogEysD21bKGVbbDbAAj7AsbPxN5vxlTX3uTsuDBvEbUtHQxwosnucgE9/9Q\n",
              "PUNyGTtmsSQxkKg/U7BLgUsBGh9dSpJmu0bEnWWrCY61V1l1OS+kyCFFxFf23UHfFlbWgOFnBXtS\n",
              "ubVG6jUW0/QaZY0S+92YWIDUQlVgOmfT8yset4VbNgaCKE12Ql6DeAUN8dyLMUKT3aC7cVkfOflz\n",
              "WXkTD76zA/kQoCuaut40Fx31olSY/2TP3Glal7QirqNs5LaurgNizu0QlxlkKjsWTNHcJ2e+rXwl\n",
              "yCw3WA3N9XyDPltlXmd07nCnz1BHr25mToBAFQcZg108phjpIxrqnf8cMGTPy9gBLl4M1qOnWEW9\n",
              "WKKymUhbBCJ5dDnKd4GasXW4B9T8swPzfUyvKS9p06RXH3eRcNtQ6yFNcCye+lAKm09ZqZdZAN+2\n",
              "vQb7QHOPOirpFcfd5Fw34Y0Yrzy1wieEJzZzr3dhY8ChXG9tGax886u1N2MJTCkf6l4qHPOZaLCp\n",
              "An7cJ7PNOy+YI/YQ3B/X3P/Aibs6j4EL8CenvNn3J94QOnoiHhlE5tMfhj2+50s6TZy7wGOf5xp7\n",
              "foWyRExKfaiSXM2t1CDCr5RziAFGQJJYuUHODcQlD+KeTNgv+eGvHstyv7mlV+fSzjVDGB/kQbda\n",
              "KoCljZS6u/feiemtSzfmTgU/bFYUXFkBYutDmkslFcN/Wrl3N2GWv7Bb9MBmQH02MPYWpoOup+lq\n",
              "qUHIiTX1DBCqOOvOe9x7mS9kfrKdLVlekxLmnRbvdlGeeiY6J48zYG7dv2e91dvLkN1ERfK/Eklq\n",
              "PyhcMbum+WOaHFlAsRRarPHUmB53s6dfJkKX5G7YpmD3AlfWqNMmFeZnO2MVfiSU27P4Zd/XxxvR\n",
              "6AjJpWq1MH9rptxRtE8oQJuStyw7iwI7+j5pkUoo6Uq7qNf7P5yeM44JslrzwkWwyyeqJcmKMyak\n",
              "ZuZJd/30aZCZKMorXMvuY6YBZQtldwsnHXGQpTKxLkwvu7XLY/p1uTj560QsQlceLeK+SarDQcKA\n",
              "sauJOvDpQIy9chn6UtpsMvos9bn9KJXT3vAXxeWb5lbC2xOfmXGwy9oEJI/kNUk4EJsypu/l9OM2\n",
              "cOoIT9WoUfQWgMvLDORxrJXbkMGxIBRXTx1Ki/n0NeMBKb4UQv9k6RIwn9Fw6R2I01KrS5QIvtvb\n",
              "3mRkq6LLHyqjS6b/suHQJzJfsEkcoqOqmCs+CbeTvUE/KFW/X9poNwBX16sTQ7oiNQ3h46j/agmB\n",
              "E/lmCZGmmJ5KVUWMPIvsrESIVtTtmrNmhu7Qs8sJYddLVhMlIlGxsNM6utQ/Gq05gz3qJLm14GoX\n",
              "e5UZYX4N67Gg2f8LrkXp2eAqCnnw+HYBLCZPx/cIqf95xmg4L2c42Hln3nzQrWwY8MofO0P3M9Du\n",
              "o46HnSrJ0mLgdnSVvBQA9xxwHewmKMhhuP0mAbygW39BIwmL28rEW8WQ8Xaccmp6lfy+DDU2pv0+\n",
              "TjIt96ZEWfj2DnE8Bhp4AAO4MMAHpQAABiRBmiFsQS/+tSqAIo0YZQCiQ5IPPBg4scqLk2jeqscP\n",
              "NtdEfX8iZqCnzKsk1JNGgqYF+zJFPYs6ADLRppYEk9PTdS1r1//CCnDfVNR3XwFn+z/ke9W6Ah8Q\n",
              "Hrpelc2SzV0NF56mMGHuUY5USOgIixnUHC9S1siXM2gUi/MvW0sZ1LjZj7MiKVfmHbFI7Cl9Otok\n",
              "OJ/Ip3GKJChn9QOPzm5x/g6aOtu5rnsCvzi5gRqN48DmTlWIx8P4XwhkopDPyE5fWiWo+K9zDEt2\n",
              "A4kd7e63U+6RUW9ZgCQ3Ff/yh3kagSGm24tdFf8wXXVhFBiD9402/Noe3m41bCwW2zcKXK2X+NXD\n",
              "4KvV4mrGwixkLhW/dX/U4BmO8uW3NIig5M1F/KdPunfCVOu4MTpF0x+qAEwGvsdR3Olny2inD+oH\n",
              "etue7ahp0eFueC5glE67ELe8ISI8GPVzrG9u0047Hkith2V5KHiDIpdVoAJLi/tEkKsLw8H9OROA\n",
              "TDNdfPdyiaWb9pUNEpqfhpLLtDLBYie7xSHcw+sGmIr9aDj1+9olR0XHBKCE0+J9+pQa3KCkekSR\n",
              "zJkOd0hnhx9AvaCWJkgqfUTt2xEzp/r/G/IHpS02RF/4mFUUd4lIPHp1A0yE1uWN4vwNkeesMFzj\n",
              "yjzS7wVPG1n3t/MYa7uC0MbZjr6tSkK3bjUNJ5o+djBXP/TjH+OTFIWItDLTvaXDPw92hUMxyBE1\n",
              "mseLnSMCSxmw/BsegSw6jjNfweAoPeJDaaHhLHqu/A9MPodrm/qxNQ7AKdU5em70onNVKsNR7yHv\n",
              "IVmj5m1S6G8v5kQ/CRCo2MqeiDT4dDBHJ+x/+KZ+EKJuZMngW/hAe2EWNby0MXIt4mtsKgs9AqkM\n",
              "qWlwdIQHe1mY7b+/4udypYYixU8U/cZP9XUOnKsDf+IbW47AJjick7EJ+5SzcY8WhQwlUv95nOw+\n",
              "cfpjc+oyrwjRb8QLLCJmODmGve1QlurDiZMR/ncuvhB+id1gkXsFf7uE4yFA5dGprTqCQ5ktIVVU\n",
              "8n+htdiKUYebtQ9zjxn5/zfos7sNqpidYkIpK/X3ut+h02KHWsphoetN8ufb7pSvas4CSTql6IN+\n",
              "UaUkEbjXehEQSlL5pmxsl3djExkD40+hip6wnrGFtuuyVORbZW7hTxf7mo2X2xv5Jd2Dkju2Z5Xg\n",
              "9w7TF7f8QlIS1cSZW++VLYCWe2/J3Qa13/TSitvvIrxibTGhIrUpOjImbmmFDwe5e8aRc0WqxBt/\n",
              "jUz12FrF7gtWIJCV0X4iU5JYbjoTH9hTjFWiDcZxWiYag91HBcFtpXwszS4/hkVsP7MB4wBRC7JT\n",
              "su+nuDj5LppS3BY7xJjOeRN7jwtNMC9oRnwiK2wJPlF5/FAq9YIxxKSRtIY835yIfAxDT/a8ce8/\n",
              "hIKuRTkoUVECzcAApMV4hciF0dL7N8DcTrmk3E7GMfUKrvB7eOzR+lm/Tf6cuHdSHt8u+UnEilL8\n",
              "YiYyi8xWdP4m0LB8XmRsbzd6w39YUFNRZoQxGSaeorodGVlaggZy5yVFRzLedqo1g0eW3wEj+597\n",
              "sN2wGedLu4HBzYM7DXomYvOK+0IeI//DQKmw+M1qZ+puAI/WObFc7ftwT3sjDKJFaHAQDw25jTRW\n",
              "Sp7jjA//w3A8fdzkX2tfcshlem+qyhu3aKQYo7q3fDDStl2qO7Ow/CMhr9ZpIpfkE7KDqZKkJ/r7\n",
              "H/Otq1AAGXjXhvv536DlOzzkmEkx0er7bzKM3onyUAOf037bzbHwZrSdcpb/4eOqmLiUAIAr0uh2\n",
              "7OhWctcptOQQneVkkhdyNvhaivWqA0um8QXa8s5Ufbo5JCBiBA22v15wV2cvH+az25eFXj4R5R3A\n",
              "q0PMaQzB971sqB8389iGU5n3OW0dTMhLbrlJNWbsEpuKvS2p04tC93hsiQoovKFQrD0z9y0zBjbz\n",
              "tUzK7PNlDO9i9uJ0hi9wUoT3pD3jWmbairp3iRcN5MXbOskwPNkxFZSTPb4S6YIXziImhTiWzn9l\n",
              "4xyrBgaKweVfY10nYpNouMdKIFWFUPk9njjdz0a3kfHGI/SdfIQc1k8OcFH0WC/FgQSmXXCjFNYp\n",
              "s2gAAAQDQZpCPCGTKYQS//61KoAAceCHbgIBBTskZ4HTl+6hIF45heHlWTZeEG72WWcwhNk8BO38\n",
              "1Jo7IKHATid67Mxwjj+whOvIZeKxUFKXLroBgluWQYumz7E1Wp66HXdPGscGS8BlQZX6Naur+Nm9\n",
              "89htm7cQY3mhpzuaqwGV+pk5vkL9anLjYFkmfy49FUvo1WE8HCmn+g5DoyL1RtZP09rYyRsM+1GC\n",
              "eoDilN7FGos5NO4VwG+w1VfhVviGYtG6x0YPB9tiDjEnw37noLuaQVtHq0aR5+Z2VFKwA7DK/pq9\n",
              "M0oRPK2bKENQBDLkiCtkXaFTY9ne53CUouGmms9N8VZEHrdxFzT/0DEr0R1wqQbS3fiGZ1aRcVS6\n",
              "hQtzuZANLjOvaZi/TAGcUT/9JylJM+sJ5TtsNrhm4O0+32UOfy675PGv/0jat1oqtEH/0Xnc2qZn\n",
              "fVabYR9d8U2nQzngxG2YG3TbGLlA3bozfZXasuovQNak5iqf2EIcT0lnclOIJBLqJFzRyb+sfjW6\n",
              "fnLKcQNwE29Ac23Bk7i/wHOiG3h4iLvzxdzW9slCVXRDTgON6OqrnVJCTv8C4m4wqeeGpimyBqRj\n",
              "NfqpH0AP1jLojKcsiz+UvVu0uZXD3l3AS5hz2IJSfFPSt3q62LynqaIdzewaR8xViIWXXFMVrwUV\n",
              "8U/fUIvH7Dgz8fMsqUBAV7l2dy1MlD/Ej52xRGRlhCMwdRxzcObWzBg8ePQPFOOwxIF+N/oJZ1hU\n",
              "h2/rL1HySVFLOduEJekAtjS20ciVP/aS7AvRmt1gKeawKi3LUZtO9xluo3F/7/1aPQ7AyfhR+/wX\n",
              "LKxj42RHJxSDYjDmsvKSwLAQnQH2+1j6TVnWT+X187ZvzxuaOgZrR6kRYWCKVx840097XT75DxQM\n",
              "FC8RxjaL/pmwftV8DQKeDipj6EZYYgAglxLwlwFgQAjNkiiJQOqs2FLcTnmNs5fR25gjfFIT02RZ\n",
              "FmEf9/E9zrZmEqMj3jP3XXlIiB5lBOVAKpGPLF46KCfBn/ELsGFWIiCGGzkQ20dtCijWdn4MY5I0\n",
              "u8N337t42cmRkh21uxmm9VyC3WXFkartexkFB6znTToxFgHJXn1MOFEwqEr7h1t7hfBguk47aKuo\n",
              "zWMRb4fnZUyIl0OGQ9nykWwXXeXOvMG+9Skt+kHM29dzQMc14hFetvP8vXWZFQJEJrh/xD1ejFSI\n",
              "oZJELtr++OlZoUWTHvcKgVZnqcRa4I9dCn3ve82Jg4HjjgnG2hUC13J0FONYdfxQchQP5fDuVImW\n",
              "cXQy3piiNlE6M2fFy6yl5uUe4ksjlsQUlbPpdIaWvGupgxxLlC8RI/IEKcu3Wa7lQL8btY7BcZ8o\n",
              "M9CXs7qrIQAAA8FBmmNJ4Q8mUwIJf/61KoAAN5LykA7J2ORwAihJ61g9JLO6U5c/Uk7aTvIcpu1x\n",
              "XdrP2owwvzoC6EHQO6CRqf26Pd6EmGYtjmpujtg9PieUF/3ZvdoMNtUyjUQ8NsYyDH5h+Hy2nQfn\n",
              "KJ8VSMZjeVVIYrg6Z9Y6iDQBSqaiC18HEPNYs9+mfyLwhLRprsfG/SsziAYu9uma2cF4x3Dqf+eS\n",
              "RHWEocEbovevVHn8wRviHkuw7leKUsp4rLTokcIV7qKZPHnHtpvra4A2yfg6IUVlFfvL/PeLV5UX\n",
              "fqDibavnOIB374u/vcRNVlUA4xVt2ZTupkt0BldZ5DvclW04DYWy5JuHkFWvcsAfxC9eTIBTCh/I\n",
              "oZTFPNQevSe9Z5CwNQvy40xdC1EIzk+z4OsOdDgL/i44ooPapxJZ+GJRD1fXdUDfR/t9NX7bpAVn\n",
              "CjbmrnC5JkEke/xZcc2nf2cyWz0w7Na9ThUEyn3UKLRxXPElkfDN8tdw3skec5Of4+aWXjjm6fgM\n",
              "MxxOuF1rX4Ih8zZTImErcjv67MDIVexoHjZoYkFz+bcc3OojL9UY99Qo3F0kf09aqISafTgWE3ru\n",
              "BgOHlL1RB4Ozb2QpnM2Q2l5nMfUMJxyLcF8QCqZxDkjiVVBDERMCDlV79O63GgejkRUZfAqkH3TV\n",
              "Wob/Uc+w90o7+0ZQl3R/zMo+1YkLN42o9s+WMUXfvxpbjhm04RYg+swM+Hm4xoj+oor03nALQnht\n",
              "JT4vHFcQQLn1e0Keb0IjW+RgdLUAy/6B9YJl/DDqv6p1r1Qz3xyrl34YWral8CoW+D7pqBAkwsHd\n",
              "9S4jlJbvgFQqXWRj/wf61dinJqMLUZg4V+HbYtC2vMoE4i9WARJTyc9Z5yEbeg6jrrpEcdPQdOv/\n",
              "EpyEiHOAQ9ri9BDj945b9aldbFvdrNoFWjfHe8hNX+F8CGNeGUtTyyaKggetzB9lUg+ujOpuI6bK\n",
              "jj2HXMKT88Xa44SKIiz3JjROxvKWzmDnSDT4uX/BA0YMU6MrfKwXWqccQ3zU61wo4y3frGYJooDQ\n",
              "+ijlI+6R84nDC0pFlpzs7qBK7Nq2f/eBVrTqzcnOJTx745qi2/Sq7vnS27MGapyXlA7DpSldVJkA\n",
              "6xr9OOBtUpCW/jd9eblHpNP/TvGp7OXypFVRA5pGkAqy4KOggLdcuB0ZSfr/E9fdofN56vX0RlWb\n",
              "9J8Zc6SbK2IIOXz++b1CmGsjgg4CEbbM+MiGQM1kyOjrxM544K6UYEL1dnpvPsnf7LnfzxX0ziI/\n",
              "Nj1YAAADB0GahEnhDyZTAgl//rUqgABvOYmKlAFnoRXY3TAmEYz18XWGl8qqL+rOQwRLPsIIB1/t\n",
              "gd3F3gcMV8++KrU/lOoMd8HzZYOZxojLmCQ2pRz3Lb88uF1ET6lpF/PvjtBouzk2OeS/gePZ/IQc\n",
              "pxGxiu0NhdrT8oY5YbrLTEwKecRJu59lLGX69afZvr44HlnFxjKr7+dZaHVvgjoH0TBrSFTIORwu\n",
              "EImEiv5KBgoAdMpVZPp6Xzw5V/3eXTPBSbestm4Xoz9/aD5s5wXZ6Xlk9ryK3NzP7g1jYN+fGhTi\n",
              "wiBUkCZgKP7PPTJd4X4FsuZCN5e5S9HSz+dfUFva0/DlkagbexCrhlm6VODvexgzV8szckYzw6PR\n",
              "az70S5I3S10D4uJc/jf9pWAuey65Ivsi/fx88IRUMhq+co94MZCW6PWQPxAuBi0qF7ZoGNnwznV7\n",
              "BVNTBdKbhXzVWLdf0rWucm5Wno/YKjqMSsWcQ4qHRiCWLerlN5djyhq0sb6d8AYgSXg+u6r1UFZX\n",
              "tXf7B/cDoPhkU5N5YPuRY2JtY6AvshRyhtEf5+Em16AFSR2pvK48wjrMzGo7M0wgVft6MFULs7xm\n",
              "qZfirDenOWohNH37IksdeDCjgczVsEGLybfFg1vOgDDCKx+e9L1ByXLVKvnMaerQBU8o98vTzDvb\n",
              "WtHlJ+9J2mcqYo9KA4JKzZmYMkva4Sgo7Boy2TDCFpkGALRFyyvs+E598eZUmFdhq9S1Z04KjGPt\n",
              "iVIqyd1ZoTi/Xa81Vy4Rj707jXD5tmdk17MrZr1U8nQvugHVgHT11apDImjFR3pQyy3ybFTNeqsh\n",
              "5/alZjKdQ67I0Shbvw9wyOBhCvyrrnZy8clF2O2tamaNCCNlEAlrwNEfUy0UX0anhcqVSeICcqWm\n",
              "PAllKYbNFfTwGYtIIg9/nE5VxGdsGvdU1LWWXDG21psZD/KI0XCDUOq/StRMzWmHOmRJ/VCvYxKd\n",
              "Tx6qSYDaRN+285WG2Wu9pb354MyXkS+jt79XWGYe3xYMMn5Nu7MMu4EAAALFQZqlSeEPJlMCCX/+\n",
              "tSqAAG8j825oUIAIpOSSGkmUOkrSOGFAMsb/OlO43qXa5GjukOpfn6QxGf51dXLeKAFgbxZjLl8r\n",
              "qB45HCCQ8489lfEVrsW7zf3heoIB4Phaec0QHeuceffeqUH6fsvT3jlTWSpAa7tRxfnwHelLXijI\n",
              "udbOqHG3c6hmF20C1FrQxIojBsOWWI/L1T6aona/AJr649u0rUx9hLGtb+XmugPLyXTq8sDzVkzY\n",
              "3WOaUWMwd6OpOGC7YKvmFxyb3m1Ivr8mNDNQ2Lc5ptJl4NQcxGdTLbUOqTHr+59QJXPo9wegYPC7\n",
              "VtJgR9ZCCNBOMX++aRmFeM/4Pf6zJ54luSPRm1aMRtAKtgNI6TYGcm0AuDn0DsUmStwwpy/prncf\n",
              "hjRbD8yIKypRXACXia8jJ0jPsbaFygw0uikSrPuPenCG7AwuU5PdZdfSDZDANghbWiu4VBZ1+J0a\n",
              "cmkqJDjqZ8napTdk2eIs59i/sEXEBVpN2nRT44nXJOKHH4NmLNJ1hfagLL6qjTYNqxAjxgF1E4f7\n",
              "jqZVepHrJA1x8MNPDxWGTHgyr6/GqTEOn0T64M9UtYyuBBvWmneEY/2JSY4okEsCCCA9Jxcdmpwd\n",
              "yOpzNVjQ/tSgTJHEMzzfWMib0/icVjE+LU/AW4kCAT9JEkDCTqB4aY7ajHWRKt46l3eLYBwHtST8\n",
              "BBguvFMhNDiOFs2TpIoppTsjpsRdVLAxJtyxMZ10hcOVifCJJfmgi9h2yMeOz4XESF0MWz7N28Xz\n",
              "Z5bvmhx7CzhMPlvhy3kodseTkqn8BZbKC6u6flBNP0yEuYXxxlZHvzQrqTlj4fB/T5idsbJwRjso\n",
              "Qq6cSkibKEUE4MXOknPXfMAMzcDQDu2enp1QuPD3PqiECXHW91+rUv1pfnrwiQrIF/m5+9kF68cL\n",
              "zm++5jsJm4jIxMzpgQAAAqNBmsZJ4Q8mUwIJf/61KoAAb6J/uWN2AL9AVUR97oXtziYKMLr/lnhP\n",
              "4QlN01nR+XtJyMUkk5KFWqUguFAARnkmHZbLM1JuNl13apeNefEIbtIcBNfKCcLsuT0pXls3dL3c\n",
              "oVPKAoV3r8zgLJtsdOwvXitM2PHSSx/+EZftPrpIzC+dlTwxJDT62GKLVYYdNqYLuUWTuH3cN7uV\n",
              "X+21Ezeky5RWU0L7NVGoBg2MjWMkqxOhgajc16YC6Nsr0QJTJH9VzL7hOeNa79FOrRQbMgGKWHA6\n",
              "cFCOrxyqTUGtbzH/7dsCqx7H+8i3X6Bcj2lLr5gzx02ldp6x/V+4M/5FhEYtvwO8jTXcCsJclQ58\n",
              "VYp/9lcbu+2oiAL2xsSKitOq+DpCB8sfwubetCbl0/J0xe5gr008H9YSuD7ynm1oGv7Xm6XY6ZDG\n",
              "UCQUN4qHh0qo42i8Rxe8dmoBh3wEmpTnY6oWwpgonwhNfggD8tjptL0S3N1C06S2KJ4EAErFeXia\n",
              "umB3YbP8IpskqyYzpSSJcByh6AWEqj/rVNovrQ6XoW4oufTc9PBLRF6DdXpELJi3I78HnoBjaCG5\n",
              "YfX5h/KtVZGOVQWUaeuMMP2rXLZ3pz2v8rw/tsaaSq8/EKMBDYzZHDY6zF5kDa9jjLxahDmjJUlt\n",
              "bnRhWA5vFR3b/g17BVbppS89+jfnRnvwjexLyNxHHCvi7fNerlRIlLwfYmXh+WrtJ/5GA96QJRLS\n",
              "A1gSqWyxBtGj7B0OZeNzNxxPA4uZeiT22P9x3mCqunPg8FUsSVP0iJ0NM5rtvj+NVsFJFeeSifWz\n",
              "3i6tHJPwtTdMNqIfxm6W6OA4eQLZpgpUCAmfweqDnkyuQsk4hVBZ+/5rbvXachRNmD3d6AoBq4qZ\n",
              "LV9ZpHRny+cAAANSQZroSeEPJlMFETwS//61KoAA3nMUFSu3xEFkmrsqCyYyqueIUVoTlQLN9L+f\n",
              "hSGC1NquO10eiAvqQuBVdUFm8d6Kn2UnUSjLYP8Pk7I6TaGV8ljV9qUYf0ktz1mFceT+9UbMZXXr\n",
              "Z/O242E79YGPHqy0dcPXHLfdbLxVL5qdPJH560DIWFiAl9uJ5vHOHjtAxkUX+tMMkuEmTscYM9cF\n",
              "DArSiIUDKrwRKQy6yo4M1FPjw3GHrJ7CymkLM/feB2f0K9erdw5l9xYvVv58t+G8mOhmgIXbS6ON\n",
              "ZCqub3NnAoyd4XJqD6HjAzs4IomyYcyo/cvmmf2zUAYTK/GqSZ+HXjcUEwqt/uJj6wOSTjdJBbgL\n",
              "iyZXF06Go0wG5r1SJWwv2Lk3k1xdw+F601ynexqberSZHpVZwEdc0BeBSojqi01IkyXfGtR+nMOf\n",
              "13Vv3Az4uMS0yRaoPRsqf4LteGCpLONWF0xYz/aDwuii7BOCXNtYWY1OxUx2rggmGrqSt1ooKdpF\n",
              "Flv2r1z6Xbh8lJfOTQBZ/ogyfb3tqU3TJrz72sPpseb/1hP1v+dr0SwLcMlNKMVqhIVzoDOWnB1O\n",
              "ZV8ZHciLtiz82T5ECXWl2qQ537d3hB0qoN74saGs2kuE1it9zbww3qYU33i9r0hBJt7LZvesW0Pe\n",
              "xrV/W2W0GDWbVjNAMfzlGN5rgU8ToeMOlWj2pFjR/KoL7vwbSlTR/w8WONFepVPh7LaQBr2m6m2b\n",
              "Q9Ufoj3sMp+NPRxfHWcWU1L6kJDbNpUHMgj+me9s3gD0PIzCUzEAfQV6OfHfuCPmWWLpcubHXV5p\n",
              "j5Y6S37u6wW/56ovra2/6+I6Y3FanVUiLc/3t3iMglne4IUge7EqO/styn/mMQ0GwdnMpC+x7R2y\n",
              "Ah8S9cbSYhKNlKFHuy5dF7fb5vvr8IUhnn/3oJSBxMMWsM5XL2BfS3A2CSnlK3s+nJkSwODnpwCH\n",
              "y13QZGpctUNSDPkdICRn21YcelxQaraQ2zKDltWqWXqi/S2/oCf4uBiG5UxNSa7Z95g/CvfMPovG\n",
              "QEUDS5NPtlD9KP1S0WFUJh8gGjA/M9puLlH50ZaI+u1DNInO5NriLM3Lk8/jtUMt9TAbjTkRxTWo\n",
              "+DeT6xIP8QAAAHABnwdqQ/8AAmsGziUFwJ6aMPmKbTk62EFs/O/Rw9Mjqzi+zl9zYkJMlfilHrNS\n",
              "liwADi5T0K6PCk5S8dza7u9yvdi2fPpUAkEnP9HfWaTSXPhQXmxc8Y1UzvRlIqjHLlXo+HGCAnd6\n",
              "SnYTnnTCeWK8AAACpUGbCUnhDyZTAgn//rUqgADecyK4OAQjrzxrZNtIV59UAwVk9O9joxrtrhuV\n",
              "rAJrPLIK/J33W9rcH95Ne+BnxwZYOUCbxWr4U7QHhVf53dh1Y1aD7zSS6aF8FWbLaJ6cKzL+ikP9\n",
              "D6hS7aVqH837IMs/4N+uIWd1diLRW8ssk7xt8bQAsafRRud94QhsWkXr2JPtI/qv/JxEhObJnueM\n",
              "COcfRJGHBhppsDInT2Wdry9iJ/nKrTr3vvPYdTzzz2fyJjD6yK+M5tv2H8Aqab3vqn8GnNyRsUPN\n",
              "aMHVVcQZ6P/T3vlPGCi1R1N4HIKR0SXADlipQ+zVxKKGX+CnVIW/J7bFQJz6G+MmdA/yjdlFf0Vk\n",
              "HPA8litDs4s0mtDwwcrvdutdrcGT0He5uHa+RekmibToWvTfDX4qThGeQjVyqxJV1cMbxf7S/zn8\n",
              "bk+9tFyCP9iRM8OYPL04BJD5qTSu+SkdtGMfCirjadtDZp1M5KPwlEQm+srEu0Z0p9Z3+3hnlk1v\n",
              "eBHfxdxr2HzTHeOz3c/8qIfIf/JXojY9oTXGPE3PlMCLjCMBU2FFox4+7RxF0UJNHoELKvkqu4fU\n",
              "O1fvijokXwSlypHxPsxW8ZRqDAvnfKIC9S9I0E9tzE2UJ8VHoBnqskg8R8ZH3p0zNFrdcZP9+oKV\n",
              "cb6hLrQ/00lwUJYxYem2Tb4cCAUMEq3SPul3+jGMXEJpgmD5BMPNPNPhdGLwrOoYCfPsDHWSK1jO\n",
              "F2z/009FSAKihh7HhV0Rm+yaULdEru4iRjTsAeyuhQEbCfsDMrg9bsjg5xkSvjyYX+Zrp5GV/D0z\n",
              "nMGc+17cnUlU037HeD9ApD+0qpt7Vsr5GxBWaZCI/+AFQGczbVKPheamH8JlotmQWA7JSx9h+s93\n",
              "3+hfnOsvAAADeUGbK0nhDyZTBRE8E//+tSqAAN5Ok4ZanTsoAWElOTVud9RZ+jRJQKeR419H74GV\n",
              "0Psxy1zM8bl61JvqTvXm3hJ3mlZVvich15WI4Nio1qLPDHSt6Du3aY1DET7i/1G63zrgIpA1v83W\n",
              "nxXgC1FXUvdpDw7MK4SaVb8NvDJd+KLGxrOKGBuOv4ghIA1h14vO8qxU6Il2FQz9YQ4U1XHX00i4\n",
              "G9RPeTMRSuq7Q1rCa5GGHDG6ZRdy97xoMJSTR8YFdkv1HfeIhxQmt4d761ToSUqTRQU/AHHuMxej\n",
              "c9fHuVrCWtC3Zq2NH+Hn+qNl9wqkd+vjVdL8fAUo/YCghhLEdW/2+hLOLH3ifXW23Ar+xNA4TU7h\n",
              "1KyaoKDFgBZTEXSrrqBqFcIjBArptkOQdAYRTor4MAy9dsDMnotNrdrDUtmnev6eHLC166nzyy0B\n",
              "yA7n0Mr2BDfs3R+6MbHsVb24GRfDbZm1u4KQwa8JaipCDyDY7jKAoyj7UUr1Dpkf/NvGg/u7CpQi\n",
              "m3ibAVPrh4z2TuYJtwzREj8aiiOIFaCPTt5Phby6fE/0ih40nlI2znogHfuzm9ttda2GLzFTJI17\n",
              "kefhyWqoIPVwISgH5/rO/eH0z1owF01N1bqFIPli2a8fo3kl8Gq93srNt9teEzcEu/oIdcxn1WC/\n",
              "2miWSXFBznF+sulFL3azLN7YEA2I7T/J08jGs4F/1cz4f3aLTbHkJIFqPAoJhOIbI9enxmLf1pIf\n",
              "0MeOM2Xa7pk9euDLhEJ9B7+iYmNwzaHFAJglF+XUlWsx34eZ+Rb4tGKHqA8jGqWT8do7yoOICjhi\n",
              "HUplHg9YgfHrej6ru2f52lEGxZ1yrCGvlbJSFnXlfrLwHsZuwRZ6m2SrDt7FUgthbhUP8z4vp1P+\n",
              "mpAZSGR6h71XPckus+Z7rrEmt1zAvSEYPmO5PeasF2IyYDSUEDUcSvOpnVA59a4e5pRQU+EXopxW\n",
              "0zkSWhr098HqeCGsRaFMP7/x4insXXFcul6TF6yURqq0ucZTWuKbTLG3/ixTEBnDvTurDD4dgHv9\n",
              "gn3JFvV81jnohidbK+GxLACQaAOMsP2mzGKmckAiOx80O7YQQ5VArFppHsuGOrMoRG0CBrZRf5s3\n",
              "MY8UxRWPTY5nGTqyAUpwhKz1i4yG4kT/JRb07eEKkvzEnjf/+Q6TPqjXx8EAAABlAZ9KakP/AAJq\n",
              "lJCB8YxvU1ShECJqrUieBKfNoqeWu7IhcG5FdtR4gplK3B0L9HHxWWs6BDAXQthQxDEOZeCx8Wme\n",
              "+SE0m2em/20AFnvpBv/yvZrKv0/+S38j19mPt4BcH1aRgsAAAAMUQZtOSeEPJlMCCf/+tSqAAb7c\n",
              "f+EFKT4cd4KnvfqTeMIEwOetZLcEiKOM1BzgPUOmUEzSKzZot12+RIOTEeOWoQsImh0CCw0Xkflz\n",
              "e8R445B47P/H4AEDgeBYs/HbBa+PhkcqxVZ+M42LArsEYAXxIwWUpaUot76f75i3oHbI3PdYV6sQ\n",
              "Aypl9hYInt1amA3LXdTS7nUnJ0CjPSkQxjHK1u26dhZV06k8IfbnOhsnQP37xwo8vyGDOi2fWZcS\n",
              "fZQFwNEzfLzYw/Lv78vpoG38+NVAKQ48ddkKg9FTmh9bQMUAv2iCsdO/aMWv1RrgFvwVdS/R6VCR\n",
              "VCSqQLRJUhPOZayQ1jSsvz9N68qFBfyRcJbQ1RtnnZBXTljTQOvUnSG546nRIdFtDZcRNwUZFfvJ\n",
              "x+YgHjvEfxkNoCLx4is89wuZ56zSOESgnYdqE7fsFK8bUa+SZSsYWcWyMMq4PNjtn09BMW/pHwt8\n",
              "Jz4fttPuei4JECPG1a6eCeMxIPXfro0h4MQztA0McfwCMbVdiEQ+7wGaqguO0bX7H3DZwtNpZv+h\n",
              "MX7sIG4RbJgO/YhdeveVl69xCvJwk2yHfgePWkCceCuRLG8f4xhKngK0HvaKWG7X7JuiAFW49MVc\n",
              "T8iRA0rRDGysepOmQWLRHID9l6PIOZ/20kVpK4t536BHgUwMWqxcxobfOIL65hKrHFja9Fb5RPHk\n",
              "dJMyJm76VY3XsVv99Cp2xnWy0r9JbedeJLj/lXDXO3RstrJDavDBJ0kO1jB9SplhEBUsyFETShLG\n",
              "REyJpcCaUGFpeL8UwNlQWAKq4RWqcH94Bg5TSbN3sPvEHFDOe7UnkyWS3SX26eKDfmvYIhe1nxgA\n",
              "58wHdg0QM82oZ3aAD28fNuxIlHALk1NrCwGM5NaDs4rVT/M90oyA8YZjd7nQ61AjfsvRjz9Ix9av\n",
              "FPOMLdQTSJPlkdWOknAMrqwzSt17XH1ey47UQK44stj0Poayjw6phrRkrBYx5dMOoYUfGoF09ovn\n",
              "xvoFsCtktPYjSApE7H2ZzucXuBblAmLOVS7lizAAAACBQZ9sRRE8EP8AAiq20SeWPvhDR+HhettU\n",
              "uEpMWlxn9EDQ0EeAprFuOCTACPDwI+itTWBzyGkrXb2pwbeSH5GBrH1FL7iDkDe5EfJDTRusN4gq\n",
              "dOmmYp9mBswQ1C8GblUJmuf+MHaNj92VOuhuw6xQHbN/Ft3w2ud1s/9hU4YA9GfBAAAAQQGfjWpD\n",
              "/wAE1g2cSk+QD4vWRxFoI5BHlru/j8/o4Bso5GLjzoHQyMaWU3UX57ZanXi+xBk0ck6sEZ+k0J8F\n",
              "ZVtBAAAC4UGbkEmoQWiZTBTwT//+tSqAAbzmaSgcAr8Ydha3imPxN2eWzSF1RC0961a2nAqUMQP7\n",
              "ZRmU5wwnsuxCB4nKqvOg4RhYiyuv3DNfDb+qYV4/6nbuqsMxM2dspUXnG/7ITbmWZmjP/M2R9lL2\n",
              "GVw/rAsEufmCkCw/9vYUA4gvwQM9fK+PZrPZIFJqJw+KoasOk4nCG9i4VRXusD++azMed37VrFCc\n",
              "zLb+sjN+5l4uQyDdf9i1CrX9b1E2J6Yv5LlEpmDDGSdP45HBajZV9HTkDFi8t0k18/yQr1IuwpSA\n",
              "QKlw7LM8smyC5SQzlDhWmiU2crIIp2q0ppZIZZRFydILDSOIopzytoLNyQYXDZSGz9VzOkgeO64s\n",
              "w2f87vjSkn2JAw7Bw8i2rVERwl2zco2DnSMHg2Z5dNkirD1J0wkoQxWa9FNFxkjwTkqqwPDZQGmh\n",
              "kJoIawKpMZy1iBGjgpQ4YPpc1ntSn6/rNvJqGNMTC29OEAMrNjwZhlVf/Inavf0PKOzq117TBtIf\n",
              "tqM6b7LEJvCzLedNvpdyS772Wy6lB+3t8ung7gOMx2AMD7vnNF0BVu+5WAk63GlCPS8UB36MfGTH\n",
              "iWsdUyL+KwQhzWsSXZd+GEluQd0GDCM52P4nrzgF7i1Wm2ssKSW8lftLNCPhoxEJJrJs5aLJqlkB\n",
              "HyQPqfMznP6tck9zZAWB014fOXREX/0sPW7IhYCCvykXo+QXAwWGD9HTfIqd94MgHwCYrfKSsL4U\n",
              "qjBo0y2MmJi96aeiCOCak66z3TwseLe/Jvvr3N+KiVrcNViGrvB36tSIfSJ0w0NpZoMX0eXdOmBh\n",
              "dU+xmvL182sllI6ABSWj0I1ExKXk2pZetVq4/mMMC6gX3cogzN6lFzmy5FP7vR97jefTSPP8fRxl\n",
              "PJlfeOFu6GbZ9ixWaNUUAnXr5k88Ve6irPTaocySdfXJjhOapRaJcTHP7Hw5eAJfKXO2YCrHxAj1\n",
              "Mez5AAAAWgGfr2pD/wAE1iAxqcDBGdJ4QX+9PiVyfeHel7aGMn9X3tMv/HJlM1tpCZUyRLWBKUmZ\n",
              "r4cW8Ditx8UxfTR/xvG/gGGOjIDcvJnSQTVUBhuLrlGEmrSaCw1WUwAAA0tBm7NJ4QpSZTAgn//+\n",
              "tSqAAb62IrxQ4gAbfJGvszHBhhyM6aIbmwH3ZMYt02nxV7WrFKGlfxERDDhlnBKMlFVYN6EvdbQo\n",
              "fXkkctSWjd8Zz5qiz5az5q3QiNyEJkjDXybq1hR9frxro6VqjJL4D+XGZUoySiVxD7j9g2wT8HkO\n",
              "x69+1qxn2z0lS4QbvNSKiRWSqC88vodvzwBdHIIKHFO15conFpH9XE0lK364CASaIIBZKYMH3KdQ\n",
              "6wg3d/DCO3gorHdsctd6G5/yMKcaPsqsX1pFDRF9LnqO7NEtzzqyJFGP7/oyxj/uOvr1J5QRNTH1\n",
              "Z4KepLsV3iAHQnt3Tvko6Oirg719PrlUF4/D2ez9hOrSE8K3ARTt7jP590eHgEhhmYUf8VQkiQWB\n",
              "pDLIXn8Be6GE4MwXenPTVesKHJo5e972d/TW1lfPxtVF6JKYoIg5q7KkOwuWFHe+oUAXx5SQDT0H\n",
              "R4zAjh4ygwRqorEFVfP5DjmUFcXqBCwbnUELRvcjljKq5Q49+1N98jLxupqwDasYUySKxGrlxuZs\n",
              "29JEutEWCiAGUMv/1mnlt/bF4+jpykIlZiNct85I3nHmiNwZG9Y8aULOObHnhEkRUA1kup0HBNCe\n",
              "YgZGnCjl3VL2DOSbYfKbByQtlcTzCP6yOnh9u18vgmjNA5z5ImwvvVWQYknefg1wCmoXPnsx1jCe\n",
              "+eJV26vIaAFukjnAcJDU3cKNR9waVTNb4Bi45hvnA9w761+B9ryNdWEbXK6Hdq2FwuVehITAdtsc\n",
              "snSvE2dWd5Wfb5Lf1P2/D8jfjKIKNPuknfCetMa81JNtFSRKFm5iOicn/iPwGiDg0Eg1rBipZsGN\n",
              "vmF6/6Xu66CUl1MyMot0xsT62H5u9DsMMODThkNmgtF47mOFkL68QrdQyOvcxTJACXR/ufG1dQo1\n",
              "M4e07vQSfSpX0KRRocTSXoQiX/DevboFMECNh+vXBAaKNq2AMLkfOX2qqUqrPRacfta6Qec8w2AW\n",
              "EuFkIUEqNjPpEEqDlDSQgYVMVmeQPdmWTTE1z7scch+2uIRt/ezGevi7tfgOyIKn+RUpokfHp2L3\n",
              "bLpBiV2higBvvKCY4+WJ/K7oFlmBTJFDZtz9x1z97bsAAABcQZ/RRTRMEP8AAikzdb4TMiuxlw+q\n",
              "XSxZFS1GPZlLvzuRUgIDK6XAGrUNqq5BV1kj2dAGbqNXAhBNZ4bVOe89ppy2HOGFZhvir4KolcRr\n",
              "96FiEGmcSlBHOC28Q1MAAABLAZ/yakP/AATUs5KszCCO1s+whbTfooUqz2r6pyVGP7+tECaVwATP\n",
              "aVrfOh7zBejrwNOU/9xXZi8PBu5ESOk36xurRUmI064p+yCgAAABw0Gb9EmoQWiZTAgn//61KoAB\n",
              "vObCKgA478UYZIPg4BbEOqj+J26xCzR1rJXkkMGKTJeYnSo4Di+p+N2LeURNeImxcua4OEs3Pi2Z\n",
              "nIAos9PFVmmNbYD2/+qK30ZLu1wWP7h/uHfju1jASixu0q4lSrN7MusGY0X4cTuhE+nXfb2WIZ+C\n",
              "+30KCmGOR2FMPtDzRuS3bAFSTnd4SFnD3kIVJPIeU9jp3J1ZAFuLCNlsxRG7wLj3BsfuRIrSrHPy\n",
              "ZNeXtcEtCaFpBUFu/2IVCAgQgCwnT6jUW+3W9MGqWtwko41QN13Sqv5D2Oq6v/UhDvgx+AiFuKYd\n",
              "eqelUNB/K953mY+dh4S5qdbXwvrs9tqF9XcUTaRcxOPP19S4R2A4hkgpQXSj30+KCL2aYc/U4CJ3\n",
              "2od4EiV4MvrwVos46/nyezUe5qE2WKUMTJYr+z6KU4VxbRcuDZWxa9QcWo4hP2eSI36RnD0WMOlb\n",
              "KrEdsgS8WWascd7inAYng9r4AzAs+a27MbjBwPLw4IGRuKHqb4xU0YJ9KQwVlohHHTCWmyOKslQC\n",
              "U09J21ORG8WNNv5UxdW8deXCBqhe4uE/vZJdMMsNEJ2xqsAAAALqQZoXSeEKUmUwIJ///rUqgAG9\n",
              "um3jIAKnZ5dhLb2uXaxBuN619cXjaMbbzlkPDSsq4LBBSPWtthBSukgbBUp0CLMbQwmAKpuGbqSC\n",
              "9moc7QqCdOerIQdn9eLwmUCdpqBN8vFPjIJV/5BWcDhEeuIiBb1ibUj0MHxdzOrS2eKVSUYIR056\n",
              "DNmUGCbWdxOTW1TV6v4FlvCdqyyMFVnVan/Y2+49rdZ6l4ODp2I7SHDLDM5YAICHKz3q4ogA2jxH\n",
              "wcXbygnMeggivbE9zhKGN3mGYm956/taXXa7Z5Zw8Mv0ILXAV4FujjJf8eSk0os1FSWNDiJlXMdP\n",
              "/XUtgzqKkMke8JaaMtO2EgeMvfZUzlhhAAR8AteejDqKikZRFZ8tpsY6rt7m40fVBHjeNKWTQBXd\n",
              "iLTl91D1RD4pYgH/HmACS198iGAzzi8rK/VR24wfjqe4jblKApByXvlR5JiUdLPHLTVqN9X5t/02\n",
              "zb92BuQANwMw8CCI/jV1NuoPfoRWX/xWy/6JXttwkQYPpVdMBbSSsd9WDjLpJMAO6HHyHxvoOJxm\n",
              "uKy0/pIji5E/HXZCmWE0j8B1V6/XOnyuVdQcwgbV1pJsd9BWSquNP6hSA7VKtjvp5i7bBjVOrG0C\n",
              "OPfzfrsDZo5TcDDdN62AdZUfRySjW5cb1SGe7ejzcNfIL8TzCilBcsAEOkAiX/1yFM6VZ5Gk0AXG\n",
              "dnX4F4r9SeteHHc/EKm17R+DrlCVJK001gSNPY46ZWIqkovj7ZaU9CZI5oM/8aCknbRalQps9xCY\n",
              "Wp0EMwJoQ5+JEHWlxk13qtbxt28MZtKH8lkqW7OpK3UmXUUKMRBNwe+K4+jis3OD48CS2edGzHF0\n",
              "9IWiIVMSkkHgT/8DzTdcv7agfI2d8+QN10bsdg4PtHiHqwLcy578mwFHqZKUXC1L23FEqI5vnwgA\n",
              "PofaObzavBx4/os2ll9R8ra8Kxxi8rIkY4+CyHhU/cyFJXsvewbDnwm82TkAAABcQZ41RTRMEP8A\n",
              "AirA741cLJMP3TakpqnzWm4ywcQkL1EQWdmfmTusiJEDParUAFdln3sGFDA+tc8S6zl51fCp4ylA\n",
              "vOAilgKz8iTw8bpaPqiLsq9GqyHoP2B27cAAAABIAZ5WakP/AATV4F6G+tTT/QI58GR5Wf/TJhOO\n",
              "Xz3CLSfyxBoyJWWrVUklRTdCcuVIWlvsTohnnm9XxHOygBNqRp1jC96CcUZhAAACWUGaWUmoQWiZ\n",
              "TBTwU//+1oywAOOqoEYWChyJ3c1691p1L9/UwRGgG7zEJQyEmEoSHi/RhbFVrf9a0m6IrtYzxq0T\n",
              "Knp6Z0grhp4WNO/UuNfSI/R+PgQPBJIpIv8vKYZoyB2JJ/DEypXDrMfHWdMsjt3aQXH3AgC7eBqa\n",
              "1DmdQw/k5tSxA0AvGmmktPW4G2uUv1Vl2bwWf38v+iWdl9gE/np5kqtCV6oTKbHU/IC8Tcb6t3DH\n",
              "egWA1Zm4rf3McBI3WVqa6ZNlE2GQBAEHvraPoyUpDhe7MiDdAk2aibe2JgIBputyneRl3y2gLS4z\n",
              "QGPtWZSxHC82Btv+Gp5NZwfNsFHITSlHx7wWu3c6/2AhBxbR0q/bnCq12FsscYgdDKArtBhFv3q2\n",
              "gitkpoZGM1l9dtvI0fQgrNPIXfmg4hnh34hAwXOtFNCIEPyy/gaCKeV1pcvesviLY9IcFsvHDvsv\n",
              "BupQ99yRsEl3lsZ4f0LQEZZUSjTMN6jv4djQc9oqIQBsI4VtWrop2tlVS1sRDes1SEthme+v5Ihk\n",
              "f8tmjhB4y73P4TJ5RpuwFku0LfzUti37XMo38QtdsEnb7hl7rzgywIECOVOWx6itq5Regq/Zsnkj\n",
              "9G4xBvx2ZsE+aIJ5LnEYJ7Q63JP+0DsyiBFzvqMfhNIgYiv3k3vxCmq9bXME0r2oq+CZilmNxMd0\n",
              "p8Jch9dW5SO3IZPFgZXF6f+mKeSRdZ5CzDftEuCY2/4io7KztK2C7FcMzyjsObwsQrDCrmphUWjY\n",
              "A6DzESW+Jubqqs/s052+alIiyuyBYPkAAABQAZ54akP/AAmsRv2xd9uoZhqkNDKpzOGV4WC7egld\n",
              "9ZwtdMN5LQILb616D0vXgmRN+Medx1lqDOuEVlfAC4i1OqwG6kNhOpABMya+eEPYqmAAAANXQZp9\n",
              "SeEKUmUwIKf//taMsADjodRJLKMAGQYQ5PrAg7Aa6y5Q5IbQpHxHTsFamotHjsRq1TZIRDt7MDr4\n",
              "92qVzD8iigG1uIyvVqw5wMhFzgY3ZArHzeCBldY9x4xrveWRIyV2s23sNp5T/YMe3n0hv/TCYBiI\n",
              "55wTARBiYqP2JTn79HDLrWH376lOFW0MNL3b3FxC1rlFyrfVYTjYgs7W6cp3diM85qImoqR1mguZ\n",
              "9RzdH39Anf2xHCYYNN6N8kCv1CSAUs2mY8xNXjyE7zTjKythm/5nmd1JLWjepml7XvFmw1qofXso\n",
              "ZizSvAOeweEotmy+p4PTDW18+WaiWNDL1+wUYDUAZ07/nn49NuaDKz3BYO5Enqha38SdAcxgDd/s\n",
              "7BPaUca44EHyei6gtjnmBOb090wLm8DP537pEpC1mewnu7cvJLb+gud9CIq/Gtdq6+YV7vyK8pT4\n",
              "AXfBRG549ODaPDzrq7V2lHMnBr0Y43Ffol+839ESVFlYQYbJOdxz6LqHLbiq0UJU98lspBw7Sy8U\n",
              "2OaBqTpAgeWZJ32o0/+CW0o1vRfcDw6s5M36Mo3iImish16Jm4N0U/VHvG7tW0DapObM8WWXEpvI\n",
              "cIjHNGbgDF39wsXmzWd/IxyEFXaBoz0A8V0nY1/3A0/VO8pR8M1jMulv1EqCVfqzLP6hHlSazDY6\n",
              "W5ZLrhmncEeIHUwkAePPJB4qzn3/t13Z5UXku1O1KP5+5ZvGXldu5ky5ky5aYC3SNo3ctesfoBEH\n",
              "dapJdgFCUpEnRPjCl54W07HzAZ4fSBpynIkTA2b0p9gV1w38zibQ7i5x97tsfpuukqzU7vgXKdoD\n",
              "Bt20n+5cvt3tlDZlJ7JF79x8fk7JfSuFNhQFbYF+JeEiOEOihrbpfC6dSw2T1jXZF2PMzNCpR6Jp\n",
              "RiVy362fYhMOKI0xCJ8Msx/GYjT9gkCGUb4oLjO1lR8OrlRSK0a4nSFwBjQ4JAMkEcl1nmRKqqEA\n",
              "94L7zAO5dM6YZgZpnGkbBvH19fXNKecdhfESwnljTaekaMUPPzJXbzSz46n8bxQV9AJ7ArO6VnHf\n",
              "LK7ColODaYjgOESzSk2dXLz9bBeBUrZ0IW7LaNB5B6TzQg2473c26Tepm4jKW49BISPKyHkPAAAA\n",
              "eUGem0U0TBD/AARVgGAZw/ppI4GlD/5V90SV+Om3djE5ZCPdVsJABfQ5Hw5Uji7CTImYvyfjbGAD\n",
              "d/+4ab3A09fwQfx6++AcIPKwJLJbVRqhpOV+naK/8MCVKzENoDg2Hikc9jRjB3EdO1j4url6IPet\n",
              "c9P1TFoWLD4AAABMAZ66dEP/AAmrxqTtQwGoB2XgEj2iyINLoIMYN2FfiCwlgA/koWC6A2XriRxy\n",
              "ljbQKUWDgzNkFMHtexNOaIxer+5ll+wKOfvQ+8tQRQAAACgBnrxqQ/8ACaxDOZgyirFkv2sWkdNZ\n",
              "uerKPrJvOLHWt5BQxeWz1/rdAAAC0EGaoUmoQWiZTAgp//7WjLAA5Nq0sC+IAR7C7ioGsGEKf6m+\n",
              "owVO/rlotmr49cD257OAGPHQE7FitgM85Pes/41LN7B/pkPKb7wBiJVOyFJiujU5GCV62IDnFfes\n",
              "AoLJKqj5ub6JCrKDId5sHiY6n4wGs59xpoK65c3cuc/t8wEwE7n7loD+ZmQfASSFrtQM5KWlMt4+\n",
              "35Ed9tDKjGP1/uq62oKmg/oAS78AslgrRd+5/AtyUb/yVhsqGdJcNPJAmMERxsoV7akcdVEUqCMl\n",
              "tTLM3Xt6XGpD0ah0qXzJkJF6nuWCeedTuYNEimYoeSIsrAY060iQySHakxShmKV1DuWh9/i1JyWG\n",
              "hzJoOZpGw5YOMnK8EJWHC22alhO8nfnveK2TWNUIPO4i/AYNivJ2d5smBwtcigFL3qefv19fr/gD\n",
              "YUPDFKQWj2w2+/5VFc8e0n3VzLYg8N+1NAJLI0IS5w4UfGUr3BXF5sA+9HAS0d4jnerkUCxuMd4l\n",
              "UJAEaz7GAMhbEEAga2gnHkAnfNou+m+Ep4oXSOOMNJ81j7kLiBsk+i/AE2xejraFX1rMUBHcEcXN\n",
              "DIKD3Q28yrr1GtYOci0xgJLEpfjPsr/OoUmARJQ+Y5/GOB3pyh34tLcKup2gpWflZb7PYivblWKG\n",
              "H4TTnl7hPj1sCuBxAgeLVtfi/taTdU/jF9oWsbqJhBJaWscHA0NdFymONEkdpWHO57kPq/Dtzp2P\n",
              "VDh7AQIVoOC/2S5soh4s5B+9rjQarJh/ugH9LPuly2nnnVs/FbOoSi54wQnMvH00ddOeEpOU4lAJ\n",
              "0t1btkR+4gX9Z5z5Y1OfEr8zxlnsa92y8upHNxKDoAjQ6gVIbiIglwKpn6xa4G4x7yqwRG9M/xBM\n",
              "Xt+QdOuPwQoslyq+9ZS6VHrgDqZYwhTxNGe3C8RkmrDiEUcOjSMIDoU63myhBg1QrP7jc+XrrCL7\n",
              "NAAAAGZBnt9FESwQ/wAEVDKLftsk4t1fhSbo2JEgUEVoBzHJB8kdHCGdpjV2dH01B7z7ABLOaIrx\n",
              "P6j0P9+YHN1Zc4/YsLJ0baRum0CEU52s7i5m7M/SGan7wD3QWUgC/UmcFW4VOxsWqXwAAABlAZ7+\n",
              "dEP/AAmrFfKQ13+3mGoKCOMAd/B7+kQ9koFXJdBw/Rt8p5i6C3NbxihlYyoAC5ZgbIPyXGpLKI6u\n",
              "pfcR2Bmt9i3keDeMugPpLfaO/dH5MdzIg+P1T7pPgXlkVJkPZAW5aScAAAA1AZ7gakP/AAmrwL/i\n",
              "bwoTTRwOPM1tLj5kT0TJgdV/qAC6oUzUu+d0oKTe9eP9Ye7BkeBIA9YAAALYQZrlSahBbJlMCCn/\n",
              "/taMsADk2q9ZQg0AVLsF6EWHr1crDr/jOay8Hu7McY8IdLoiAavJLL/BHkR8e2phcWKjpywya79c\n",
              "/jpHWnO68t1LkrG6EBRBXAnyAQ7i4ZrpZNzKHVnfGJME8GWfwKyDeAZRGcplq/mzWIfIvW9RH1SL\n",
              "oLUELzlBXM1gs5y6RVeLamE0FkDH0Vo8FBjz5pulMycbpJktlIn3smPkElaC5jV4olXAuobrH0Q9\n",
              "Lqh4biqP6/u9AKhPhrFKQwaMenbla+4Mn1TOOobfCx0or7jaNLD0fpwk7E2Cy5uDFgUIadGFgOzH\n",
              "tOcGSu7Kfid94lM2acscaY2pHZOmVHCjqVih+MZmCZqgoG7VsoTOMx8kRaedOUdSmOnSmO613pTZ\n",
              "T12ChtOV63ycd7IViA2tFhh8Fc6W29PqG7sZjKRIURrSvahIz5Dd5AOmDm4cWooKIDrUR+h/JWav\n",
              "Gmzp/Ptesg8pFmM8+lVZ2ehuo7B815tVJ2SWlxi5l+kHsilb1Y5EcR6JKX1WzLyXeuHM6ZZkzL1g\n",
              "RTq8gquOx7hJHGaDCZEVY/r9OpK3uwMsUK5Qq3Fgfx8lMaid4MoQtzX1HYld40aDwPvyPgFlO2nz\n",
              "e2Z7s0EEw+c01xT3Eu0x9D7U+W8ZOYSwO3cCUpTLzOB6W1fKsiVgTMUPmCjKAQ1/opVHloDQlMH5\n",
              "YrSIevy7nTdQ8bhFnIWizGqGHvKBoip82nubjWxvCYT6JVG3JTRUCyJJrDnSdPB79/qGqh7hLuLc\n",
              "A4F8sB7VaFaXUdE+GgHzz7QbFQvS/6eANX8xdE/Wjj2GRD3UQR/MqI6KDiNBIIFSm4qkvdkRNwy3\n",
              "c+CJsmmXZ23iz9YQRAVbRFLsxmNo0I8ArHC09LSgPAKNzlfMPdWrpCZl67xAZ28irKxt9Dt3zTsv\n",
              "HyW8vBR2/lHzyWpv7Modop3+0ISncDu538oC04259MsAAACAQZ8DRRUsEP8ABFMaBm8WHNdGEHi4\n",
              "JoQRHrODhEOkKw39Zo7Z7MjZY0wIXr38izNq9S4ALpzhcNwHwVhWJBz0nu1c6eCbab+g6lOLxCzM\n",
              "JlmHAoQ0O4dkEcp6YB3VkYRF8e3sI6lkxJGFqypDHfW+wPme54+KFV/pDIEf69G/o/AAAAA9AZ8i\n",
              "dEP/AAmsu2eKyOhIHpR86fAjIj984JtJQdJ9TtQMMWYVXmeRjmEQhZjNA2TLbDXSge1u7V4SHEnK\n",
              "QQAAADsBnyRqQ/8ACavCuhvrk1IN3wXzEncRR+Kfg6ORi8AAC6j3kK7U4AjjO6wVqRChjLepsZbF\n",
              "rz0HguOgfwAAAtZBmylJqEFsmUwIKf/+1oywAceOf15YDFcFil1NsWqNF96GD7Uctw+c2iZ0CXcd\n",
              "El4iYv85LaTmT/Lv0zm3LIjZAha5nlBAWJpv2Q0/HiJQOeCUFwrtyJdeXI6zBqzIxU027f3Qeu31\n",
              "4wFCeBakfYIUatp5UwnGjL544MANprrUQGCQ4f1Y/aafI3anU6BQT4WO3vmHq2Y8XACOvqX/Fu8C\n",
              "9sILdUJ9R2scXk81A3JdsPRVWBbGeiBoGkgmRPXx/YkbnEQlqMlBsAXvAyfOlWslwt6OUsxs+ged\n",
              "TJwY+cns4KfgPN8YLYouHWS7hBVkxcr+Pdm+9pOQTE0KXpaIvJAJa8oRp6ZrClgP3LhGPUQs7UQG\n",
              "PJv+NNkXQ+VGbo/vr5JOseNkMJroKWLvE4jo/H+zLx74zXsMptgC9qtZkEK6Oe/wSdiSUvqk9K0S\n",
              "NdooG5jLHDmEgLjk0TRJ8h5SAH1C474SqDODq+IEUHJj8iySoJlWUB0qDrrs8hbv4/1wR0+lh+8x\n",
              "pZKYuxBbVJaGLxQ3Wxrt97tzvjSFa93miXFYOm031BVqF4AJLqhb6BsvYbsOnounYeW/pRJAu8Bm\n",
              "BjFu1piP8gf5vsFxaMRbXfMC7o7plcz1fjk+794PTQbJ/tQt1WBayVl/ed2AWaD5Bj+82XSHg3c8\n",
              "l8FjtbEFsMqdQKrVolQdhZBKuMKzHnyzsbmr1GF86oVMtHNqcR+vmuTjQAL7ZaB/fK1xzFKA3w7p\n",
              "Sqy3+0jqOqR9zlD/uFWoE8K9sOpS4yyFS8RDvlqu78WSJn4qa5le8IXA4jXL0TVugx3q7BgpPmE/\n",
              "KrwGWhwSG3Pw2dimiy03LN+8MKEqGa/jBpNawG9QBbY3HrwHAABaF6DZ7YjgxlvvIOcfclVf/sS0\n",
              "5CDAtsJ+Ky37tPli81Rt/gXSQ39DlxUDM+BTRJI7CvzfuWsjkvyNiAu9EexfjoxLNNb9qoEAAABy\n",
              "QZ9HRRUsEP8ACKrbRE82EGImNQZWyWk06z2rQubC3fXMCCp4a7fowlc5l8fTjlcY4U56MMvdD/J9\n",
              "FeelQABubxAIese2BU3vRylF4Qc2h0OXhK1OmvM+qi33tJZE5iwql0nXtywWDxybLW3mY106nFNh\n",
              "AAAAPQGfZnRD/wAJqxXw4D1ipEIzEszh9WzANwE7KZXxs+WdcsU0+KmPJwjfaNzDq/bBvu4IiUxV\n",
              "6UtDbdG2mmgAAAA1AZ9oakP/ABNYdsYXX15vlNFqx2/kEfuj8M+0bwwng6LSueby0M7kEhCmTjVE\n",
              "2lRO8fRmrMAAAAMDQZttSahBbJlMCCn//taMsAHHVUW93AAlZsG9BaKOQ3zXnvp9wSmaLk3RVBhB\n",
              "iuCD1+ejar4e77E/5rP6qx19DFa2gQFvmusnbYApfhiP4lnC4SxfGHjBcwQfjYtH2FN7NVVXc/51\n",
              "PGM507OwipSwDeWE+KnK/v4mKyWolA2fUJvlceZEYS+ixeXMFFQ6WovRGxAY9yDrko2qKbRdi/rM\n",
              "b9uoxcduUwczu3uE68IwAoyzNjwrlSVvzhaKiS0JncAYoQAprD6HM871SxMtz0g9lSdx6PYuov+J\n",
              "nHOBYeowIxCpQqMFSYB8CNq8mmkdbe5i1+ltlWeM+G9yzqwSvmmXr0wvaKttSPpv8+M7+FnH9UwO\n",
              "ogUbXdFcSLzZaapgCy3sbtUY9oox0Lya3RiQ8ry/i0dJs06ur05u2UyjaScR9T1fFYmeFVkMwYYQ\n",
              "56LMgK9K/yy6g9XXrrwq32n4tNV2/HJAP0qBlRV/Ut/xCkBeo9uSiG4CINAeqwFoKGk28kOAi+Ov\n",
              "1Pt73R/Iq/8Gmtb7JYsfxWHet2qr0t5I1ed/fFWK4cGHGJFyeU1tAgTtOYan/z0FQtuqkQnwJQZh\n",
              "PHwjugwu1ceVGAr6H8PZa2mGiB9rtxMzZKqXWMv+4Y8La9+RrZtV6JjG+nl2/fKIbYGXN1bjA9iv\n",
              "aWYTdYe25f4JBY8oTQ6vKZlSzIeDO/b4axmKHG/dovz9MThQH3nxob9hlE/7ZrW26qtA1Zeb4KHI\n",
              "2HzNrhe3veP/zAxUbEAYgvW6O16fttvpNoWxzOES7Q5iH0aG0RGib8fM7PyBjq606Mn/jp6Sk/Fg\n",
              "3PAZdm4MQLPc8vnLYfdVZxVLelwkG1KSJiEy0AipTlwnC1coVP7pqDOtV26YMJwbpirC+MYEHphW\n",
              "4viDZKWpmR3g/G9UeceTx8/HQ+zJwdkETY1nVFTazswjK3owXoM5UT/82UKR11beEKqEiGgGUSeZ\n",
              "UCpw8IOpPUY1Q/mPyU0YbHE5NoBVJ8r9QOdSWYkgwkzxoPQsGmA3IIB5AAAAP0Gfi0UVLBD/AAir\n",
              "AlXOZsIJfvaMx6HqGde9qQDKVJ0T66Na6fxt0SAB6nMNBlX8cPX/gAA4UbLLHpzLOwEdtAAAADgB\n",
              "n6p0Q/8AE1eMsBfqmBGHCzRmi/Tu42IjCbmLpZHCGsN0EJxYRkAFvqRVdES4BIqIikDxR8aVNAAA\n",
              "AD4Bn6xqQ/8AE1eFdDc/P6ycMHqWvbuFwXILp4aoSoaaxdQp9u7K7YGHtvRIgt2aVYG7HFuS0oAH\n",
              "5yDpf2nbwQAAArhBm7FJqEFsmUwIKf/+1oywAcmu5DYwAlDBDoBEq3Cj9rpR1G3MlbaebBux27LD\n",
              "KTfie3oVH+VaqHLSJjvBKq/sx7gxXqtc+Foupx8sXHNcxNUFF0ZWnMu1qrIH7diFob4dAv9H38v4\n",
              "SJPletdpz19fZIEHPWEq55/G9GDk+6KijenDiorNVgW9JUuBqZvG5DsgJVpu97rcJhkB2t4Mc9St\n",
              "fi6E2DJynN49I2+vU9yHTSRfa+OvNObySkng5sg1Pya+lDbyHMfEAHgUmvkQ+nT1E1V4e7CdUYxa\n",
              "eGv3qdHOPMmVhji2l+hNJcDcBHaMKJ3NeGrQ0HPfDlEd4RBXlmU3MaiCPnShNUbdVK+2ArqBNKPJ\n",
              "Y/1JCuB+tunyO2cp1gIn1iipNQQaetb3lmugUJ9Wmx9OYorEw/3EjFJpCxFeoao3H+w3yHc+qLeJ\n",
              "DiBdpxC+3A5fIZKORDlDdx99+JRviwe6fVIxwSBd+j9wRpevW6r5U/+aYahUXVQBgCY/7PkKAI/y\n",
              "l6N4DLLGD7SVEyMeuQhS0qjCm/lgY7JGyeAjoXzbdzMQ8jjBbdfOx1F1j/Muc+caAd/HMz8AZKax\n",
              "Y9+LEUlHldT5r3MkOSbG89EoFhdRJkwHNf4ckm9GtEK9iwtNv1JPpeY4s7pXhxATKYpPmh6ntE+1\n",
              "HzSf9Ed1S0ajvpbKgvRmI2TmlnBz3IvJrD0lfvf3maQzfa7SqnHlQ/DfOJSB+dSS43ogXJIIPB26\n",
              "ASX7uraxxKhNzeT+Hp4FUOpPIzGxPgdxnbOAm0QiGzSNh/dYijd2KYi1xKNpcXO/oXpCGkuVu1ky\n",
              "JvUKLEwt+DJgd7aODLjIp987w1kN4YYXaxg3H0DrFGT89XI6A8/6+ETyIg5d9Kp9uxVnAxcIZaXQ\n",
              "OfTCVa23JDiQOIG9N/SPT0B6RL1TBB0AAABlQZ/PRRUsEP8ACKKLAb8eG0aeB5VQGN8gSJSA8JYe\n",
              "yu5aPvah0FP6+n5brU08++x8b4bgAeyw7pLKamdlDZNHSMXirOVLT7Hrc5ZZUn2Pcp2icOFLvEqt\n",
              "6FNI8Gzl5zfFDpgw+fEAAABFAZ/udEP/ABNWK+HAZ8m3rLOkH4So8lcoRwjHe/F5T/GoI6i6snOR\n",
              "Av+GACBXZmTrex/I9mJmspy433OqplMg15ZvPLTAAAAARQGf8GpD/wATTjKJWuqqqzpw4Ye1UKJr\n",
              "VAUpApTIHDyz854sXX3ZCg1Jb8FZh7YcExwpSTF0TvIQTMrOotfUAD3wBLtdIAAAAnFBm/VJqEFs\n",
              "mUwIKf/+1oywAceOXj6gALCRNDKcPdfCVuW3MVdG+93+mBF8y9BRyzVtS9iZv4DCWiguNeydMT2V\n",
              "IjpjPmAvqII56R+TUKaASVhxA5bImOdA+aCqd9Hcetkhunubfy7C7n9ZKxzlOYBeovUr89yv/8oq\n",
              "zINaCktjjXeiOMRTNqTanlzeMJ46OkYBtVa39S/ckUqjobiMXlqoeGoLNM7ekb8bPqM3k7MgqJGf\n",
              "LstdF2VRlKclC2yzsaufXdCwxU7+QLvxwAktBnH0Kfwe37o+Ka9Kul5ewVwp6/VCGholDCRw52a7\n",
              "CywHmw8PD81vwCG/Zo7YlrP7CICuJ/0Fgnd+N2mFqTS6JY4WPVvSFT2EsfdQVeeOvHPCEbyX+z5d\n",
              "d01uzzZ6QmQ27IqWsIS1UZ9f6PnvhvG1N17KaQN22RAXJYnPE36Kw9TWnnd7GX+gh+5Rknwr2Biq\n",
              "zY6z7S75Xv97HVrJ1/un03aelgnTql1rMDzsK5UlStC6AVkS8hzJk3oxtEYltDTlfA2DYwXvtdT3\n",
              "JfIOYwlJOLhmwfZPhGRNlJO8wvDnIcHTQG7lNTDc17nRJWZyrBlh3WqQJwgcBre/MfKYf+J0k6SK\n",
              "/NXn5DtNB8npCFcVlVjbz1XNCr7cNf76EfiE2TGqpLd+aMO76ItzWWr7mEFDjpLuNMVkSpBUN2gG\n",
              "2UNvgnIq3Z3REc8vUbz7GMzzr3t+4UCG2MefNBrnM1oCehDZzM1CJGRTDpad0I/BiLKZ/W8sLcOu\n",
              "jN/HJRp3/bQKg/RDgKEApM4n4JQQge+FRmi5L9qYmAwcE+GKlOv/w4XgAhPm0id9AAAATkGeE0UV\n",
              "LBD/AAirAvDhULINCUnPxwUtNGqJBRbYPc0aj/cAiAFnrhBzYSoaLRxvFPwVKU7r5dDmUfFGVYd5\n",
              "/6r0RDBB53X92Ldmst4BsQAAADQBnjJ0Q/8AE1lxEYf39U75NJeQBeQ/a46WBFvpWsgZJho/ZuC6\n",
              "h7e60G3Tb3lZeJjHhkpVAAAAMAGeNGpD/wATV4F6G+tnXikspjhQGlXSQ4+VEzuPd4DDaMeU78ER\n",
              "VnxQSRsTC9eUwQAAAl5BmjlJqEFsmUwIKf/+1oywAcm148zRABXjyERNQ3WLh10JE5qggVKj9jPy\n",
              "XBmes0u5Wn/qVnM8m44ESmvz//RApCbjdXTxpJmbA0VeOA0zJnbpu97JGMLz/lLaMYkCohqaGWQp\n",
              "RpCatQUo5/vod8El5OsfJ6fjS3VLL15LKJHXMi/PK2FJWJIeZvIpa6TK6Wz5aEPa1nvIsnaw5SKW\n",
              "EtF8JYJLcvTu40poRfCSQOkHvj+f/pFaFb7b6n0jgUVQWoQ22Yo0+ffalB69jELLQ3S1cNGzWboK\n",
              "G7hVkpytFQN+MS0dhHkb2c54wPdpfnTy/d69Pg+nZgu+FXoWdMPqptNha9Wx3aso3csUATdoSmw6\n",
              "S4BRdyGHmVQoaaK2D4Z1Awhno6Eu5AeW4c++d682o7Ar/hd/tFEBlVo9oCy09hPmhDXvjf4PxXWS\n",
              "Gvo6AhPPSu0PnIzbLoKg69NcTQvRqOAmyz7DOgug2kzfWb6s7f9w2dHTDeudARTdsf6PQAl02gvu\n",
              "pC7h1bWrEicyxdHiiA+2WesYCVwJJRbUiGXCRaIXHyDh63E4mSIJeUkGbeLg9o3dMEgT01iOpscN\n",
              "6iwLBA1s5qw6g7UpnMRlIZ74c+3D18ItEjhA3z/0V9cZMPaNxXdvVQ5pUoSxQ4cMNjSnaWusr7aq\n",
              "rsF2rDJK/ePYbPfxWxgM880Vc6vXFdgEYyK0y6hPKNb/uoeGCbq8nPVqzDNj+Y9Vr/0x5N4Q1w/U\n",
              "YBaXiwGROQnqzhElBZxRVZ0BYqYUiF31X9OcsIRBitNW5VltCCmgoCLH8Xyo6mF4Y8cAAABaQZ5X\n",
              "RRUsEP8ACKj9WDfC2tZRD31C5bfyRCscNgAG7+eWcXRvPGXZhLZJmPojx8bnuEXwK6zC5uR8/2Hd\n",
              "aBiEYsyr1rsjqErv2AsyXqC55YUG+/VHfxYog6qBAAAAMwGednRD/wAS1cr5kmSVcp/5ahzXBTw4\n",
              "cPK8PrVlnMcxZlCSip4uBu4R8hJ05d7qy/DUaQAAAB8BnnhqQ/8AEtg2zrK+S2gMWFXfcQoN5kXw\n",
              "3Gma7MXcAAACjUGafUmoQWyZTAgp//7WjLABybU+tIowBUWAsLTFFmLnonLc6dL61fiVxEIMmsZM\n",
              "xVM2w5LIRb27E7KKHBbWHSatmKkotsOJB/wnjURzsdyvpHssEl/CffY8h4lzNa7Kzmyvuqd7De0d\n",
              "+iAxeXJe+bxsdRLENwKi8LeWLSPtf4XlkJfNk8pEp5Hqnk6YAQ3YQEL+eyy+HtA6ds1hNGvI8T9u\n",
              "QwsP6EhgCKISCZzzZHd1RLDPHHNGaNETlcDcPMGCwjyqiWwTFnWpSgJ7ZeWDy7wFvGazF9/OkLtC\n",
              "HEhs5dAuejyU8sJHbwETn9rusqP4Pz3EGoG1EXG99emMG1A6Y3fTDUZXmHnpzbKEvTi3Zo1Hs+jE\n",
              "+VJJRQIS4GcIqYrcZ8FL5FdNAPXSICJeNv1CjO6o46BL+k+FRTbfO0dUE7+5YjIZft3me1bTNXNv\n",
              "m4ZqndIfKJ2lZ+acXbRqNc5DdBaq9F6bPNarX42f4uh7BsrP5Y8Noec6Xwhx57BlI8NJ91tCTdBK\n",
              "AN3P/YnSsEb2BsH38TVgpWAKcUlxsts2eMfPR9PL3j1B6Nr6te6OAEipcNBPHL/s2f4pTDhym7Wn\n",
              "HlN5uSWmAClA0/kkNAm20XRs201ORUPxcYOSIW8BHHFv2XqwrHyFOZDI/zZAfFA8D5szaSOifV7z\n",
              "NZY+OxXO+5y8wrbLL9MXoxDAU8Y0UfpQD0ltx9ymFE5cpUpG4mwoX0/NsiJBFEJ/tORETAPvkYET\n",
              "5xMQjgYetsp2dlU0CyFLaWWeY0C7yiipwNNO+IVURzLg+KKxpWUSkjUu3McvRclqsCJW1Lbag+7N\n",
              "sH+MLZocXMT7NETUDuhcEzCM0JGIprN+xkbgY+N9ffydutpNAAAATkGem0UVLBD/AAioZ6bQ8Wxl\n",
              "DLdGv4wlUGzDh3DOPd5d+Tb2pQTbmy/AAFtm5Gx+rjGRXGR6Pkueb1ovS7t8fupg2FCVX3PcyRh6\n",
              "gNEEPAAAAC8Bnrp0Q/8AE0mGJpLNmxkkKHS1mYNt3LwmPX5vMtovvrPCGKcVNsY4wCWXuTEjKwAA\n",
              "ADEBnrxqQ/8AExxauV5Xb6xtGFXxNXx0E89Ue6oCrwgm9hkf7wwBffVnhnJnXdg3bS7BAAACaEGa\n",
              "oUmoQWyZTAgp//7WjLADjx2vXoCphkTHjy2nwOO8W6gv9Ui4CU7nEUjIPZzbI/9T46ttlmTPt0ia\n",
              "Aifg9fYW0l1N1UKcNaB9LrJ1nQwPw7EjQ1upTP0pArzNLgSZgiLBaA1sKbZ6I3bGIUWMKYLs/I8X\n",
              "EFM1JcO4W8kQ7ZRj9yJ4jBCGULRjnt4pRsvHCBtGTGjvtcxMyjH3O8dEB2jFv6sug+j3usTklnm/\n",
              "C06ZM8cytrAMRXCYqHme9c084ccIjnn1Y08ZPRmmBybqSaZo/CAthjxANK2vgoeHdN12YDh63vQD\n",
              "KHojQtK2No6ec+g4j4K1e2e0bf4rCCUmeFuo/ce76Pf/3vNu/i+Bg9F6uLWrY7nzTC1V7MMcsJfQ\n",
              "jIXoWhY/Q0ni0n8wwwGVgK65jmPdMI0Ui+Xyc1RmHaMl+Fdkt7iEyjXXNcX1o2i2eml7TbMGNf3w\n",
              "789dVXhFfgz9lxpIio7wL91yqDwXSdn2Mxk2ecVW2VStu3c+9kP+yuVt9Ph7l28eKkCxsGjBDj5K\n",
              "6Doec8oOjygWKhyq3CGbtklpC0B1SpZ5nDeHKsauUGF2T9rKc6gMMPVUQeGy+XRPQ/To1rEYRAIt\n",
              "bM234rWMcQOM2FpfEqZZbjt0qh4BcgTd3JmUgETWndhgg00LMGGuAvZbaXuJ6GzEimaGqSDKxs0m\n",
              "8TCpcko64aWH/ohFdoBGBf9ICzklnTIfISi4yrcT5Dg2eNDSi7sSPc8pW6f4GF0ePbn+IDA7vxGE\n",
              "oD4ll5iNVDGUh7/Xl9dgibMgv/KRI21GBrxpbX8Fo64l51+SeAbZnUVTloAAAABmQZ7fRRUsEP8A\n",
              "EVYHfbisvEnf3HE9HMMHYfn0n/VOgmChORmmU7llkhDBEu7xTQEDUuq1UAJbBlDKAAAbOqDWmFkX\n",
              "M+nR0RoxUWKNOx3UBrKOHM9nW6fpf28yeUbkE6rNG+9Izf7QAAAAPQGe/nRD/wAmsZpV/VMz9uyY\n",
              "CZA9OMIHbVI9SMZId1L9pseCkcBpS5xGFSUP4Nfx4gpeQ9UufMumhAd4VrEAAAA8AZ7gakP/ACbB\n",
              "LgBy6O5xt/80DXQ0APXQhp/9r1YgdnXTcVDXiWNLw3avI+dreZsID1pfb6Pv2s+cgPaVAAAB90Ga\n",
              "5UmoQWyZTAgn//61KoAN5ZqUkuAKEx6rK32FAJbwbh2tipeez3VdPX/14qSdhpJVNwGryVrIYudE\n",
              "K8byw0NS1xH6py0d2Ag9A23kxunFceHGkni5KHn1TeEz/HwdVqgpRaCffpQr0wY2pWzom2SK+jTL\n",
              "i0K+d1czqdNEF46A29YI2s885pGKIun3VpKUS5bTA6pslo9sHaegHW5Ukwu1GPOjGwrwzSvznrVl\n",
              "PGLOIeQ6dnKe9IhZ8Z9Q9cIxzS5qzf5U+U4ltZerxARK4ws5obqvB3ShfP6fbLgU12iuh7niyAGc\n",
              "MPIHaYCGdFluF1PH2SBO/gJq6luNUdKAnBiwQ8+F7zN2u3Ot1EGuPnTKdbPtTKq4uJ/MXySrdetO\n",
              "JP2LzJCdjQJ00Ycil2uxa+fa+Ne1sulZDYFUdHZ+BIax5ccRRFVWFacoUdOuQnPiQoxBxfIRvnz5\n",
              "mHdPFGjG15HV/oUPRl4WsXK7Dx5I6kJkixRVmfM8AdzKYhMEmx964AG6MbzkKxqnKeh/N9idk/p8\n",
              "ipzT1buYAj5EdS3GtTWHpV7CGu2zzLc4RV/WgkbgwOB1nepj3bSeKB2EHP8WZ1VE9YEP03Ie/kTx\n",
              "/pjEHdHb8a1d2RpElYm9yPkY8he3wWSOmlDRI23HzTXO+0HZw1DnsaQrsRKhAAAARUGfA0UVLBD/\n",
              "ABFWYreCNyCDsNLR0NlMz2NVjpFaEEg9979AfvLHFi0dDJFSVw1I6u1cQWG7Kq4zY0hY8PhzfVAy\n",
              "PccbEAAAAEABnyJ0Q/8AJrLdaK9IqzQNpnKsz3Dh/Ug5uHRyawLdl7oj87cJShomGfFTs1FT3jdh\n",
              "WY6nlnVvUnDNs2AaMkZRAAAANgGfJGpD/wAmrqS4v9KaTw+pzhWHlClYf3/oKbbxoZ33ZXOHj4kD\n",
              "bzEA7np7/Ks/PRlxbnJ8wQAAAhJBmyhJqEFsmUwIKf/+1oywA46qtzvnORvuMKtcAfwRDR/r2AE8\n",
              "T8mmJbcBCGbuPg5qFfhgKUgh4IiMqrFXvOqIzd3NUjQvbwonw+/NjRPdtOHWduT202uRcnF4fQXD\n",
              "Ytl8YRqpLKJ0AEkbPpNBzLi8whUpwX3AB34aNOzKU/j2nj6f6KpbJXGQ4fv6YHUJRv4WvWb22liu\n",
              "1XUNBvrl/yYFDHWvlllYYSpUGhVwMPp7dD/EzQyJp8Fz0ynv2EYjQiEakvhds8dw2I7DHPt7vV3U\n",
              "K9LwaLFMbnyygcQFhIaDmG2Bz541hWBysjkc6q/1uJY6g2rE28WsJJBkE0NVQIHkTtjA1j3uzYBv\n",
              "7pEowtktEI6Gn5uhE3n72/q5UMHp1J2KwooAbJzQOAzncnZO3AvBHFZo6a6dddy1oQSgKHNi6GyN\n",
              "19smG6bbm4Fw1j5rfeKHh2sO0rg9FqYho51E68afX5SPNkzEH9o8L3b4iu5+A8kNJZHpkKHvdXV8\n",
              "u90TCR/QWinD9Zzjw+P4s7IjPZd9vGiPbzTxnL60i4NlKFFbvzoTc8tQiPjFd2/1uWZ2pSfDuTtf\n",
              "HN6CKBxXg13fQ1nML24FXv/mLA6o2Kigi6piE/SKdKW7zvf33wn/y8SVhcVnVw06YO2UapM56uZk\n",
              "QRGEcfRaChEN45ab8RVmEqAUJUCKz+04okoSqMV4n0k9aZcs7QAAADJBn0ZFFSwQ/wARVepl2nUq\n",
              "wjuehvVNRqhl7CaJQAJ9cYv7HGlRQmMTiyok0PUJofmGDQAAAB4Bn2dqQ/8AA0vjw1D1V951oI/O\n",
              "XI3lnEEPOOYeG1AAAAIhQZtsSahBbJlMCCn//taMsAOS3HW4DABkN/7WZlscfc7VvFXIc+F/2Gzf\n",
              "WzdX56R8N1ofKzwl4/jBwdgCwynKuT69rXJAfhqu1JRh3WXuA5VBoLgkUOMe7FNUc4wh3Isgl/Mv\n",
              "pORhhqMuhyyH6NneFTtOlQGk71wKg0f4cIsQ8DoUHxrfzbynhKD9P6/nRuG+mn8NMZNaRQ3PwCiY\n",
              "2Snm9aLBd/VEndd9LXOWJs2thgxsAJbpmE5UKOS74sfXJetsDhWQJQzxcWbKse4h5qrEofabU/ZH\n",
              "eF1euDuuZZWMfYGPI6qf2og1OOLZy/ziiP1nlbU5oQAqJB86dov7chAKCLPIFYUWmYcQF6Y1sw+p\n",
              "MwM3b6ZWs6CEJ3LBmfjGrn8HYElqrbUEFe6hv21A6xSkuU3Dbc9LL0RkOghvPkL3yidO++EMqvfy\n",
              "Cv/QoJgUhhScfPfMLWzW9G4B7Y2b33tIksN4mZixv7/JJY4jlm7Ruz0I16H5V0NCZIZOXwA/c0+i\n",
              "FSeoI3Gb5dQC7a4q0XujBWzMnYqbX+8jMGw2QYPqhzH6UGWOuFxgnt9MbpivW/b7yHMREKp03irP\n",
              "IMcUYAILlhrEBiJPnbEX2xGYIWXxZ29s6UAMGbEq8Igt5eG1nAqFDzP46H/1MlXkL5rpt7ldTkMu\n",
              "yvMpBiqREkFhC4Z5fmVufBNmDrMzL0+jd3UnG4h+5wKmxyoL0WTAdwY2nLYo7sAAAABqQZ+KRRUs\n",
              "EP8AEVT/FtVMg9+Md0uQAEFHrmgKMuA8e5xVGJ8TG2wTyK96EUWAnNMSARVUFAct3SE0LOWlKRgD\n",
              "WoEVmso4DAZaqNtmFeoycT77sA2waeMwC3cnTiZLC9rRPFHbhyT++KL1sQAAAEUBn6l0Q/8AJq8c\n",
              "52aCwYCMZRMfe+LlDLH4tGW9+PGPgzA1whbGwu1kVNFFJgwVf0tNSjiN7RWjycLkY6u0h2z4fiFs\n",
              "3/gAAAA2AZ+rakP/ACavAvQ3cyxa+eLRbSuJSuKGhovELMa1eV6eEbhjyAaZlN5kclWhokkb0rIi\n",
              "uv/cAAAB8UGbsEmoQWyZTAgp//7WjLADka5AzqAAsOGEkFR6oJIIHiBMN+wmQ/9nmnOTA9veGrB4\n",
              "NK5y7SmcNrNwnzKMkfUeivyX1cWeRkrcHXOSYffXbB2ZeMbzoLH+Hpz4BsRqwhtXcji7cZyw8t4A\n",
              "8SCWQUgs1MCI0iSla/5yibIpHPZIvwmav1E00h+h+Ck55utEYjLYKukAz30ruZAbl5hRnTbsdnp2\n",
              "LFvgHuP7LB3Umyl11Llz2fzBcjwHkzBEZNE5Mjd3R2DxMhMY8Frlxtqa6NVbSJaOORtC4RAwe5TR\n",
              "aSSKOYU5/SlxtLd0QrLgJA47NCn96Yp3W1ZD2KHRWP3QznL/T7dZyUsZx2hikzXfy0m896/Zk8V6\n",
              "/VS1NnZypa5gGktUC1BKfRbz+skOco3vPSd0reqmkiT7N0ZlVgjxhPWFcK0drKDlTi0AJYxWwW7Y\n",
              "HCdX1WdYviYi+dKgmbzhRU5L6jSfypqZBEIlQkeKv6d0n9fRA3vRnkaEj7LmikrYUOtcvSTwN30w\n",
              "OClQL+x9hOL8e954yMWyAMASlf5Gd9W2kc4HEOF4DZl5KYDzkvYhG6hrbT2SSjHMKwHW3P2FByGQ\n",
              "kjRQO3un2DAZcnPlzAFIwvyRVPz90WUAhk3F2fv0NAgGr17eUd0mWeF/DhRR93OBAAAAU0GfzkUV\n",
              "LBD/ABFWBKuzBvC8Gh+u2sIVlQGIk8pDencBdcB6LsMhdcvfbgDA95QcOCdYhmB4yy0fJ5vMoUjd\n",
              "rtXUGgXUznqHREcOi+vLlnLXQaRBAAAALwGf7XRD/wAmst1eh6PDNlyeahaVZFPfe97H4OLx6zFf\n",
              "OXVeUGEcbc7n2BcJF5BxAAAAJwGf72pD/wAlsG0emeqJFxqMVXIkGxyLzVo/Jj5/EWMixtkEgaf3\n",
              "oAAAAf9Bm/RJqEFsmUwIJ//+tSqADfWzEhDXQP2P4Zb9V8kAOmndua/22TmY63SCQoHkNUIgFUm6\n",
              "BqGkMGaDvYIooKI/+oqfTbXlrMoJAEyr3JYeevmgGOPHY5Bqolrr9ekzFnsjwkURg4CzywyZajDM\n",
              "gRgfeKDcjZZcX5tmYhibGFP+gvtNZISC0K74XqSISyg75MN3v/EbMDm+/0uZqh6M6S7hPNPiqQSr\n",
              "xHrxfp2Oz2ufEOhZpDbzhN9f+BdbjYJrPEXH4+Twey2W1xoSeR6zVYNy+XVHtgDcQ3uNS+FFtY25\n",
              "y+O61UKebPgnzHeoL34xPyyEsonC+515/1UWWJwgg/uPpl0ScXvQAbPMGxIbLtv76t0Yh6FlHTIj\n",
              "nN2hX5aA5fwOpK2SLKg2NrkDq3fXubxGNG0co42PFvmO5wu1h2sKv1CBHXub5xJnou2pJeJNrjhe\n",
              "SlMw5gt5cvWEN8T9bWY+VGngGvXnnjeLVN0nj0HrasWN8W4MpMFgyw/U0at39psPUvOAeuPGD5QQ\n",
              "0DEZHfE/Nuacyp1HMz09LXAhn+eYLo7phesU0wTNzSfLg2ELg1Wsi00gshKwF/j4efiyxjS9BqUH\n",
              "I0eYkpK8RZ8rd8zSA5WsN/tIdhv33xSkxgjXbYaX5KuHA84nG8hsSy4BsY3+MFJbQJrdGW1mYgm+\n",
              "jD34AAAAbEGeEkUVLBD/ABFW/NjJDiJNuBLK+XGy96IjT6eUijD33IC+xDRxAri1v3JiQkchwjsC\n",
              "1TSSEYV5zhs+D9MckovbEQbVU5LqovhYGkSXDBAMou1u24dwuBCsjvuLYAJVEuryLXN/1pBKU4BC\n",
              "wQAAAEEBnjF0Q/8AJauVWG1yrndVH1aEp3iucGLenqqvk73deNr1zDG7iPKwSF1yvKWxjKHxYl6P\n",
              "vwmYSN2v4fTyPrA2QAAAAD4BnjNqQ/8AJqlL4kl4ke3d5yKqP7SGjoHn+AVuWPhfXBX0BO3BdnRZ\n",
              "GSfhHi67pwa51wMJw584s3BiuV5C4gAAAUtBmjhJqEFsmUwIJ//+tSqADec2GIcAEL2G/JjzsFqC\n",
              "SxtH1G4PENmnk4nTbAkljtTxo23MR/GVz9ttg/055W7nS8WqDwDkjkY3g0dUaTOYJln2BeRmzMSG\n",
              "OgdIvvoM2obYRh9Of/QryMhLrfrmjXg3ceE077uc5L/E0l/rJTcYqtf84IyIp0lFdu0ty70/9pdd\n",
              "BnJYQXmEKfoZc7d+kyV8DSjJn8EtT+6U7mneGOz9SBP+bv18MkOU4pp/S/gy5cWa+O0bhBg70VBX\n",
              "Se4AatuRTFhHhd31RiCCDSnO7zwEn5s58y5ovVZ8Iu0oC0vMMZhZe8sZIO36zyvQhhJlvhgYx6xk\n",
              "pZVrBjjsEl7fGOcmNJGgbnARUQ+KnZ3Gkn94sa+BNV5X2yEe7+9GRd7rbLrTsNqQ7DJN6ZVisdt0\n",
              "aK5OGnOeUuCF95ZnL88DAAAASkGeVkUVLBD/ABFVBA0CYqV37+4ky9dlmXNkyhwhj9pS5dzBnvBS\n",
              "N/rH8Lh7TWFH83F8+npJXcGOhW/AgBlxEFr3x4lI0HN7W7ZUAAAAHgGedXRD/wAlq5Ui6SPXjioQ\n",
              "mmeG0xPtTW+ljJV7uwAAADkBnndqQ/8AJq8K6G6b/ou+aBcqnOSPVHTsvUnhKSiRBXSQXJXlenoj\n",
              "0TDbdX4YNyy5jubtj78F/N0AAAE+QZp8SahBbJlMCCf//rUqgA3xZR2evbfNLd6u2mUAKpcHgI7j\n",
              "iI/SKyfyzcIhyPatT9R3rc5t3DXoetSJqiAJPi+nxuN0g0N091LBWQxSjcW/Lf3olmWQwIIjZp9x\n",
              "t67LpTC/CRQQIWGSndExx1r7GXfj25c+mLnGHLrGfmKQPHTZN8Rr8wGZVINlpOz/M083Ui3aSvEs\n",
              "C+osyEbwJaYe7Nc6qD3huDT8+lQPILw16AzTkD5YdtNws4Kqet+rKnT0Lv71M9LXh8UpU3yavOt/\n",
              "hJSCjLMBNE+ePypdaIH1Is+sALap5Tqc5RI7QWAIiucKcqd7cvp7aRDB1o9jO6s47TKxw5AHDK53\n",
              "iFxZ6Qt+IkA94/fh32H00vze8oS1VIYRSj+3Kd70WLJGdK2fHJhY7qoC2ZoLxHQcIT0WoHDAAAAA\n",
              "P0GemkUVLBD/ABFVBA0CYZM5zI37sOyaULpfvwlFYpdyl4rpaHL62w2VhhQrlKXWtFdylZ+H84To\n",
              "cauy+UA6oQAAAB4Bnrl0Q/8AJauVIukj144qEJpnhtKgRbgIKwicWtYAAAAqAZ67akP/ACauo8bp\n",
              "O6V3QEdYZoZx9tLsUNsb1cPqczj3jf7H+NJ0I0hdAAAAqUGaoEmoQWyZTAgl//61KoAN5zQfvS2b\n",
              "ez5OnnrLr9TJvm4DC/hHz0L8aY8y/eK4Lm7EZ/2eAEpdPlH7CtH76cw0YtqT1+xaZukST4lyuVz+\n",
              "KXDGMrIb0ck/4ZkEKEwbEeoX19MzUzctBn5QDPR7CdZe61vYCPIbuVZmoLqhBre32sSS23MP0J6p\n",
              "p3G/+tZI9/jnWS/ces6UFbykPrNrWt7fiUUQaAmoEJEAAABGQZ7eRRUsEP8AEVYHfIYPtJ3hj6uH\n",
              "19wGoJXOGuFchEbU/gsjotNZ7Tiy1ItXPdLB9PCygSF3wEtawwsI/oYWISeNC6QI+AAAADUBnv10\n",
              "Q/8AJrJo1v/kj7vhNLBPsX+ZDgHfVySKZzS6+zw2lRahvkwXmubd92G0IqtLc1NugAAAABwBnv9q\n",
              "Q/8AJbBtDodbDmnC4z9RWdG4gYDDfHExAAAAhEGa40moQWyZTAh///6plgD67k/TQRDQXJZWjRsw\n",
              "5quFQYAbQ+wKP18VIzngdXSBtelHdD09Y+C9oMRACZaIzg/JPsTNn4zvn/DFpZlrWySXnI0leguq\n",
              "muGekSEArhxcFpaVjJTFNsNcUhW7BqurHYHoS5Ki5938VHcIrb8T2wPDmwA6wAAAAEFBnwFFFSwQ\n",
              "/wAiaeQrMTiEOykUIC2ptriIW+ITl1gBhAZFjibn+J/FXkstazvSHgyztv5nvlRxv0PD0T9jsqUn\n",
              "wQAAAEEBnyJqQ/8ATLkbjy8G1Widdr1xbj+BliuWcmHSy4y2TAvpSPrww4Mcqa634jDIF0vkgSH1\n",
              "AtxVy/LKEtNYDxwvgAAAB4Ztb292AAAAbG12aGQAAAAAAAAAAAAAAAAAAAPoAABOIAABAAABAAAA\n",
              "AAAAAAAAAAAAAQAAAAAAAAAAAAAAAAAAAAEAAAAAAAAAAAAAAAAAAEAAAAAAAAAAAAAAAAAAAAAA\n",
              "AAAAAAAAAAAAAAAAAAACAAAGsHRyYWsAAABcdGtoZAAAAAMAAAAAAAAAAAAAAAEAAAAAAABOIAAA\n",
              "AAAAAAAAAAAAAAAAAAAAAQAAAAAAAAAAAAAAAAAAAAEAAAAAAAAAAAAAAAAAAEAAAAABsAAAASAA\n",
              "AAAAACRlZHRzAAAAHGVsc3QAAAAAAAAAAQAATiAAABAAAAEAAAAABihtZGlhAAAAIG1kaGQAAAAA\n",
              "AAAAAAAAAAAAACgAAAMgAFXEAAAAAAAtaGRscgAAAAAAAAAAdmlkZQAAAAAAAAAAAAAAAFZpZGVv\n",
              "SGFuZGxlcgAAAAXTbWluZgAAABR2bWhkAAAAAQAAAAAAAAAAAAAAJGRpbmYAAAAcZHJlZgAAAAAA\n",
              "AAABAAAADHVybCAAAAABAAAFk3N0YmwAAACzc3RzZAAAAAAAAAABAAAAo2F2YzEAAAAAAAAAAQAA\n",
              "AAAAAAAAAAAAAAAAAAABsAEgAEgAAABIAAAAAAAAAAEAAAAAAAAAAAAAAAAAAAAAAAAAAAAAAAAA\n",
              "AAAAAAAAAAAY//8AAAAxYXZjQwFkABX/4QAYZ2QAFazZQbCWhAAAAwAEAAADACg8WLZYAQAGaOvj\n",
              "yyLAAAAAHHV1aWRraEDyXyRPxbo5pRvPAyPzAAAAAAAAABhzdHRzAAAAAAAAAAEAAABkAAAIAAAA\n",
              "ABRzdHNzAAAAAAAAAAEAAAABAAAC2GN0dHMAAAAAAAAAWQAAAAcAABAAAAAAAQAAGAAAAAABAAAI\n",
              "AAAAAAEAABAAAAAAAQAAGAAAAAABAAAIAAAAAAEAACAAAAAAAgAACAAAAAABAAAYAAAAAAEAAAgA\n",
              "AAAAAQAAIAAAAAACAAAIAAAAAAEAABAAAAAAAQAAIAAAAAACAAAIAAAAAAEAABgAAAAAAQAACAAA\n",
              "AAABAAAoAAAAAAEAABAAAAAAAQAAAAAAAAABAAAIAAAAAAEAACgAAAAAAQAAEAAAAAABAAAAAAAA\n",
              "AAEAAAgAAAAAAQAAKAAAAAABAAAQAAAAAAEAAAAAAAAAAQAACAAAAAABAAAoAAAAAAEAABAAAAAA\n",
              "AQAAAAAAAAABAAAIAAAAAAEAACgAAAAAAQAAEAAAAAABAAAAAAAAAAEAAAgAAAAAAQAAKAAAAAAB\n",
              "AAAQAAAAAAEAAAAAAAAAAQAACAAAAAABAAAoAAAAAAEAABAAAAAAAQAAAAAAAAABAAAIAAAAAAEA\n",
              "ACgAAAAAAQAAEAAAAAABAAAAAAAAAAEAAAgAAAAAAQAAKAAAAAABAAAQAAAAAAEAAAAAAAAAAQAA\n",
              "CAAAAAABAAAoAAAAAAEAABAAAAAAAQAAAAAAAAABAAAIAAAAAAEAACgAAAAAAQAAEAAAAAABAAAA\n",
              "AAAAAAEAAAgAAAAAAQAAIAAAAAACAAAIAAAAAAEAACgAAAAAAQAAEAAAAAABAAAAAAAAAAEAAAgA\n",
              "AAAAAQAAKAAAAAABAAAQAAAAAAEAAAAAAAAAAQAACAAAAAABAAAoAAAAAAEAABAAAAAAAQAAAAAA\n",
              "AAABAAAIAAAAAAEAACgAAAAAAQAAEAAAAAABAAAAAAAAAAEAAAgAAAAAAQAAKAAAAAABAAAQAAAA\n",
              "AAEAAAAAAAAAAQAACAAAAAABAAAoAAAAAAEAABAAAAAAAQAAAAAAAAABAAAIAAAAAAEAACAAAAAA\n",
              "AgAACAAAAAAcc3RzYwAAAAAAAAABAAAAAQAAAGQAAAABAAABpHN0c3oAAAAAAAAAAAAAAGQAABSf\n",
              "AAAGKAAABAcAAAPFAAADCwAAAskAAAKnAAADVgAAAHQAAAKpAAADfQAAAGkAAAMYAAAAhQAAAEUA\n",
              "AALlAAAAXgAAA08AAABgAAAATwAAAccAAALuAAAAYAAAAEwAAAJdAAAAVAAAA1sAAAB9AAAAUAAA\n",
              "ACwAAALUAAAAagAAAGkAAAA5AAAC3AAAAIQAAABBAAAAPwAAAtoAAAB2AAAAQQAAADkAAAMHAAAA\n",
              "QwAAADwAAABCAAACvAAAAGkAAABJAAAASQAAAnUAAABSAAAAOAAAADQAAAJiAAAAXgAAADcAAAAj\n",
              "AAACkQAAAFIAAAAzAAAANQAAAmwAAABqAAAAQQAAAEAAAAH7AAAASQAAAEQAAAA6AAACFgAAADYA\n",
              "AAAiAAACJQAAAG4AAABJAAAAOgAAAfUAAABXAAAAMwAAACsAAAIDAAAAcAAAAEUAAABCAAABTwAA\n",
              "AE4AAAAiAAAAPQAAAUIAAABDAAAAIgAAAC4AAACtAAAASgAAADkAAAAgAAAAiAAAAEUAAABFAAAA\n",
              "FHN0Y28AAAAAAAAAAQAAACwAAABidWR0YQAAAFptZXRhAAAAAAAAACFoZGxyAAAAAAAAAABtZGly\n",
              "YXBwbAAAAAAAAAAAAAAAAC1pbHN0AAAAJal0b28AAAAdZGF0YQAAAAEAAAAATGF2ZjU3LjgzLjEw\n",
              "MA==\n",
              "\">\n",
              "  Your browser does not support the video tag.\n",
              "</video>"
            ]
          },
          "metadata": {
            "tags": []
          },
          "execution_count": 117
        }
      ],
      "metadata": {
        "colab": {
          "base_uri": "https://localhost:8080/",
          "height": 309
        },
        "id": "F86EIdmII8k1",
        "outputId": "9d472090-f881-4daa-8398-e024a62c7a99"
      }
    }
  ]
}