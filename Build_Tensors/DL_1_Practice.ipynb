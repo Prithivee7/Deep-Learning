{
  "nbformat": 4,
  "nbformat_minor": 0,
  "metadata": {
    "colab": {
      "name": "DL_1_Practice.ipynb",
      "provenance": []
    },
    "kernelspec": {
      "name": "python3",
      "display_name": "Python 3"
    },
    "language_info": {
      "name": "python"
    }
  },
  "cells": [
    {
      "cell_type": "code",
      "metadata": {
        "id": "5emln9JlOyRy"
      },
      "source": [
        "import tensorflow as tf"
      ],
      "execution_count": 2,
      "outputs": []
    },
    {
      "cell_type": "markdown",
      "metadata": {
        "id": "cq8FilArNVIV"
      },
      "source": [
        "1. Create a vector, scalar, matrix and tensor with values of your choosing using tf.constant()"
      ]
    },
    {
      "cell_type": "code",
      "metadata": {
        "colab": {
          "base_uri": "https://localhost:8080/"
        },
        "id": "ImpdMA2zNNOa",
        "outputId": "c8acc81b-6989-4b7e-e274-a10a14e51ff0"
      },
      "source": [
        "vector = tf.constant([1,2,3,4])\n",
        "vector"
      ],
      "execution_count": 4,
      "outputs": [
        {
          "output_type": "execute_result",
          "data": {
            "text/plain": [
              "<tf.Tensor: shape=(4,), dtype=int32, numpy=array([1, 2, 3, 4], dtype=int32)>"
            ]
          },
          "metadata": {
            "tags": []
          },
          "execution_count": 4
        }
      ]
    },
    {
      "cell_type": "code",
      "metadata": {
        "colab": {
          "base_uri": "https://localhost:8080/"
        },
        "id": "Ej1qNNQkO6z4",
        "outputId": "f9d9e9ba-182e-4e79-d6f0-f9e388af9dcd"
      },
      "source": [
        "scalar = tf.constant(3)\n",
        "scalar"
      ],
      "execution_count": 5,
      "outputs": [
        {
          "output_type": "execute_result",
          "data": {
            "text/plain": [
              "<tf.Tensor: shape=(), dtype=int32, numpy=3>"
            ]
          },
          "metadata": {
            "tags": []
          },
          "execution_count": 5
        }
      ]
    },
    {
      "cell_type": "code",
      "metadata": {
        "colab": {
          "base_uri": "https://localhost:8080/"
        },
        "id": "xRywaZaAPEZU",
        "outputId": "81484bdc-f82d-4bab-acba-c02cc85d1e83"
      },
      "source": [
        "matrix = tf.random.Generator.from_seed(3)\n",
        "matrix = matrix.normal(shape=(3,2))\n",
        "matrix"
      ],
      "execution_count": 7,
      "outputs": [
        {
          "output_type": "execute_result",
          "data": {
            "text/plain": [
              "<tf.Tensor: shape=(3, 2), dtype=float32, numpy=\n",
              "array([[-0.43640924, -1.9633987 ],\n",
              "       [-0.06452483, -1.056841  ],\n",
              "       [ 1.0019137 ,  0.6735137 ]], dtype=float32)>"
            ]
          },
          "metadata": {
            "tags": []
          },
          "execution_count": 7
        }
      ]
    },
    {
      "cell_type": "markdown",
      "metadata": {
        "id": "CyNtiyAKP9N3"
      },
      "source": [
        "2. Find the shape, rank and size of the tensors you created in 1."
      ]
    },
    {
      "cell_type": "code",
      "metadata": {
        "colab": {
          "base_uri": "https://localhost:8080/"
        },
        "id": "6JLtSaRSPyMw",
        "outputId": "d969537e-009d-40ad-e37a-2711f1470c91"
      },
      "source": [
        "tf.shape(scalar)"
      ],
      "execution_count": 8,
      "outputs": [
        {
          "output_type": "execute_result",
          "data": {
            "text/plain": [
              "<tf.Tensor: shape=(0,), dtype=int32, numpy=array([], dtype=int32)>"
            ]
          },
          "metadata": {
            "tags": []
          },
          "execution_count": 8
        }
      ]
    },
    {
      "cell_type": "code",
      "metadata": {
        "colab": {
          "base_uri": "https://localhost:8080/"
        },
        "id": "8L47VWbpQKsx",
        "outputId": "a40846ba-aa0c-4d1f-ad5b-5f7fe95a2b04"
      },
      "source": [
        "tf.shape(vector)"
      ],
      "execution_count": 9,
      "outputs": [
        {
          "output_type": "execute_result",
          "data": {
            "text/plain": [
              "<tf.Tensor: shape=(1,), dtype=int32, numpy=array([4], dtype=int32)>"
            ]
          },
          "metadata": {
            "tags": []
          },
          "execution_count": 9
        }
      ]
    },
    {
      "cell_type": "code",
      "metadata": {
        "colab": {
          "base_uri": "https://localhost:8080/"
        },
        "id": "PKbB0hBcQMwH",
        "outputId": "e4ff317b-3a6e-487d-c22a-9a27259a4a20"
      },
      "source": [
        "tf.shape(matrix)"
      ],
      "execution_count": 10,
      "outputs": [
        {
          "output_type": "execute_result",
          "data": {
            "text/plain": [
              "<tf.Tensor: shape=(2,), dtype=int32, numpy=array([3, 2], dtype=int32)>"
            ]
          },
          "metadata": {
            "tags": []
          },
          "execution_count": 10
        }
      ]
    },
    {
      "cell_type": "code",
      "metadata": {
        "colab": {
          "base_uri": "https://localhost:8080/"
        },
        "id": "lt62rc1cSQwX",
        "outputId": "3020c730-87d2-4e24-8ce1-7b3d46ad379c"
      },
      "source": [
        "tf.rank(scalar)"
      ],
      "execution_count": 11,
      "outputs": [
        {
          "output_type": "execute_result",
          "data": {
            "text/plain": [
              "<tf.Tensor: shape=(), dtype=int32, numpy=0>"
            ]
          },
          "metadata": {
            "tags": []
          },
          "execution_count": 11
        }
      ]
    },
    {
      "cell_type": "code",
      "metadata": {
        "colab": {
          "base_uri": "https://localhost:8080/"
        },
        "id": "qu6axhifSVMt",
        "outputId": "5a21a2d0-ecc9-4c52-d355-442caeef5ae5"
      },
      "source": [
        "tf.rank(vector)"
      ],
      "execution_count": 12,
      "outputs": [
        {
          "output_type": "execute_result",
          "data": {
            "text/plain": [
              "<tf.Tensor: shape=(), dtype=int32, numpy=1>"
            ]
          },
          "metadata": {
            "tags": []
          },
          "execution_count": 12
        }
      ]
    },
    {
      "cell_type": "code",
      "metadata": {
        "colab": {
          "base_uri": "https://localhost:8080/"
        },
        "id": "JGOgLWHNSXgU",
        "outputId": "c15e329a-0597-49eb-f2b7-7c916432ec33"
      },
      "source": [
        "tf.rank(matrix)"
      ],
      "execution_count": 13,
      "outputs": [
        {
          "output_type": "execute_result",
          "data": {
            "text/plain": [
              "<tf.Tensor: shape=(), dtype=int32, numpy=2>"
            ]
          },
          "metadata": {
            "tags": []
          },
          "execution_count": 13
        }
      ]
    },
    {
      "cell_type": "code",
      "metadata": {
        "colab": {
          "base_uri": "https://localhost:8080/"
        },
        "id": "tWcQ82XfSZ3y",
        "outputId": "16263bd2-cea3-47e6-818f-d63d16efa6fe"
      },
      "source": [
        "tf.size(scalar)"
      ],
      "execution_count": 14,
      "outputs": [
        {
          "output_type": "execute_result",
          "data": {
            "text/plain": [
              "<tf.Tensor: shape=(), dtype=int32, numpy=1>"
            ]
          },
          "metadata": {
            "tags": []
          },
          "execution_count": 14
        }
      ]
    },
    {
      "cell_type": "code",
      "metadata": {
        "colab": {
          "base_uri": "https://localhost:8080/"
        },
        "id": "1rtaYp-3SfIx",
        "outputId": "ba599ede-615c-4d83-b9f6-2736bc498385"
      },
      "source": [
        "tf.size(vector)"
      ],
      "execution_count": 15,
      "outputs": [
        {
          "output_type": "execute_result",
          "data": {
            "text/plain": [
              "<tf.Tensor: shape=(), dtype=int32, numpy=4>"
            ]
          },
          "metadata": {
            "tags": []
          },
          "execution_count": 15
        }
      ]
    },
    {
      "cell_type": "code",
      "metadata": {
        "colab": {
          "base_uri": "https://localhost:8080/"
        },
        "id": "2uEQPS1lShsT",
        "outputId": "00a7b42d-c5f2-4d9a-c47a-f1ccc53f2028"
      },
      "source": [
        "tf.size(matrix)"
      ],
      "execution_count": 16,
      "outputs": [
        {
          "output_type": "execute_result",
          "data": {
            "text/plain": [
              "<tf.Tensor: shape=(), dtype=int32, numpy=6>"
            ]
          },
          "metadata": {
            "tags": []
          },
          "execution_count": 16
        }
      ]
    },
    {
      "cell_type": "markdown",
      "metadata": {
        "id": "ELfPBKGaSlou"
      },
      "source": [
        "3. Create two tensors containing random values between 0 and 1 with shape [5, 300]\n"
      ]
    },
    {
      "cell_type": "code",
      "metadata": {
        "colab": {
          "base_uri": "https://localhost:8080/"
        },
        "id": "Nx2k_8bZSjum",
        "outputId": "a4c65aad-3c3e-4915-bb04-da4b8f912652"
      },
      "source": [
        "tf1 = tf.random.uniform(shape=[5,300], minval=0, maxval=1)\n",
        "tf1"
      ],
      "execution_count": 18,
      "outputs": [
        {
          "output_type": "execute_result",
          "data": {
            "text/plain": [
              "<tf.Tensor: shape=(5, 300), dtype=float32, numpy=\n",
              "array([[0.31269336, 0.00539625, 0.04541814, ..., 0.6895721 , 0.91105616,\n",
              "        0.9651989 ],\n",
              "       [0.2686497 , 0.8777261 , 0.658779  , ..., 0.9153099 , 0.88586986,\n",
              "        0.5596211 ],\n",
              "       [0.8828579 , 0.62549007, 0.95173204, ..., 0.4642074 , 0.7283939 ,\n",
              "        0.09631729],\n",
              "       [0.3974831 , 0.00961459, 0.4709952 , ..., 0.4502647 , 0.6250684 ,\n",
              "        0.21976388],\n",
              "       [0.1864345 , 0.7747674 , 0.17867434, ..., 0.80021775, 0.01815736,\n",
              "        0.04299021]], dtype=float32)>"
            ]
          },
          "metadata": {
            "tags": []
          },
          "execution_count": 18
        }
      ]
    },
    {
      "cell_type": "code",
      "metadata": {
        "colab": {
          "base_uri": "https://localhost:8080/"
        },
        "id": "cDKJCH8HTBui",
        "outputId": "438c9dba-3ebf-4350-a934-65fca110e974"
      },
      "source": [
        "tf2 = tf.random.uniform(shape=[5,300], minval=0, maxval = 1)\n",
        "tf2"
      ],
      "execution_count": 19,
      "outputs": [
        {
          "output_type": "execute_result",
          "data": {
            "text/plain": [
              "<tf.Tensor: shape=(5, 300), dtype=float32, numpy=\n",
              "array([[7.20492482e-01, 7.70267487e-01, 7.80865669e-01, ...,\n",
              "        1.16231561e-01, 5.88883638e-01, 9.76636410e-01],\n",
              "       [6.66856408e-01, 6.35197401e-01, 2.54219532e-01, ...,\n",
              "        8.41227889e-01, 6.34982586e-02, 3.93311262e-01],\n",
              "       [5.95684290e-01, 4.42870855e-02, 5.36375642e-01, ...,\n",
              "        2.26654172e-01, 5.57364345e-01, 9.81157064e-01],\n",
              "       [5.78388691e-01, 1.63654089e-02, 7.87641525e-01, ...,\n",
              "        5.97105265e-01, 2.61798263e-01, 9.82278943e-01],\n",
              "       [6.80642247e-01, 8.64217877e-01, 1.07351184e-01, ...,\n",
              "        4.87565994e-04, 9.33412552e-01, 5.38791537e-01]], dtype=float32)>"
            ]
          },
          "metadata": {
            "tags": []
          },
          "execution_count": 19
        }
      ]
    },
    {
      "cell_type": "markdown",
      "metadata": {
        "id": "2GIXRHCLTTCz"
      },
      "source": [
        "4. Multiply the two tensors you created in 3 using matrix multiplication."
      ]
    },
    {
      "cell_type": "code",
      "metadata": {
        "colab": {
          "base_uri": "https://localhost:8080/"
        },
        "id": "qP3KohSJTMSO",
        "outputId": "b7fa292c-b410-4263-bd6f-9da93449099f"
      },
      "source": [
        "mat_mul = tf.linalg.matmul(tf1, tf2, transpose_a=False, transpose_b=True)\n",
        "mat_mul"
      ],
      "execution_count": 22,
      "outputs": [
        {
          "output_type": "execute_result",
          "data": {
            "text/plain": [
              "<tf.Tensor: shape=(5, 5), dtype=float32, numpy=\n",
              "array([[76.3908  , 72.07866 , 73.48688 , 72.866516, 74.72468 ],\n",
              "       [84.36606 , 77.318985, 79.25997 , 75.878845, 78.96509 ],\n",
              "       [79.15996 , 74.86331 , 74.79949 , 75.579254, 74.9893  ],\n",
              "       [85.20123 , 81.32399 , 81.15618 , 78.0764  , 81.05906 ],\n",
              "       [79.14336 , 76.85788 , 77.99496 , 75.52966 , 75.797165]],\n",
              "      dtype=float32)>"
            ]
          },
          "metadata": {
            "tags": []
          },
          "execution_count": 22
        }
      ]
    },
    {
      "cell_type": "markdown",
      "metadata": {
        "id": "Gbcf4_DwVr19"
      },
      "source": [
        "Multiply the two tensors you created in 3 using dot product."
      ]
    },
    {
      "cell_type": "code",
      "metadata": {
        "colab": {
          "base_uri": "https://localhost:8080/"
        },
        "id": "RysH_St2VhuP",
        "outputId": "2192e16a-66dc-4f78-d497-3e445d9eb22f"
      },
      "source": [
        "tf.tensordot(tf1, tf.transpose(tf2), axes = 1)"
      ],
      "execution_count": 24,
      "outputs": [
        {
          "output_type": "execute_result",
          "data": {
            "text/plain": [
              "<tf.Tensor: shape=(5, 5), dtype=float32, numpy=\n",
              "array([[76.3908  , 72.07866 , 73.48688 , 72.866516, 74.72468 ],\n",
              "       [84.36606 , 77.318985, 79.25997 , 75.878845, 78.96509 ],\n",
              "       [79.15996 , 74.86331 , 74.79949 , 75.579254, 74.9893  ],\n",
              "       [85.20123 , 81.32399 , 81.15618 , 78.0764  , 81.05906 ],\n",
              "       [79.14336 , 76.85788 , 77.99496 , 75.52966 , 75.797165]],\n",
              "      dtype=float32)>"
            ]
          },
          "metadata": {
            "tags": []
          },
          "execution_count": 24
        }
      ]
    },
    {
      "cell_type": "markdown",
      "metadata": {
        "id": "HtavgHGNa0pn"
      },
      "source": [
        "6. Create a tensor with random values between 0 and 1 with shape [224, 224, 3]."
      ]
    },
    {
      "cell_type": "code",
      "metadata": {
        "colab": {
          "base_uri": "https://localhost:8080/"
        },
        "id": "V39bI_N-asbY",
        "outputId": "344d2005-d65e-4756-e32b-9a1f588725b1"
      },
      "source": [
        "tf_random = tf.random.uniform(shape=[224,224,3], minval=0, maxval = 1)\n",
        "tf_random"
      ],
      "execution_count": 78,
      "outputs": [
        {
          "output_type": "execute_result",
          "data": {
            "text/plain": [
              "<tf.Tensor: shape=(224, 224, 3), dtype=float32, numpy=\n",
              "array([[[1.3789880e-01, 4.1559017e-01, 7.2211385e-01],\n",
              "        [1.6739309e-01, 5.2545452e-01, 7.2191298e-01],\n",
              "        [7.7589262e-01, 1.6143703e-01, 7.4247444e-01],\n",
              "        ...,\n",
              "        [9.6981454e-01, 6.9088745e-01, 8.2151473e-01],\n",
              "        [4.0783536e-01, 2.8745139e-01, 5.9122860e-01],\n",
              "        [4.2396140e-01, 4.6285331e-01, 9.3328691e-01]],\n",
              "\n",
              "       [[9.3200660e-01, 1.2352574e-01, 4.4805491e-01],\n",
              "        [5.2641308e-01, 7.7343225e-02, 8.0505383e-01],\n",
              "        [6.8567872e-01, 5.1807880e-01, 6.1314094e-01],\n",
              "        ...,\n",
              "        [9.8988020e-01, 8.0083513e-01, 7.6455891e-01],\n",
              "        [8.6703813e-01, 1.7610645e-01, 3.2413316e-01],\n",
              "        [2.6510465e-01, 3.0483723e-02, 4.9457920e-01]],\n",
              "\n",
              "       [[6.8132138e-01, 2.2464180e-01, 4.7343087e-01],\n",
              "        [5.0287759e-01, 4.9911845e-01, 4.1840398e-01],\n",
              "        [5.6134498e-01, 5.3679943e-04, 5.7394004e-01],\n",
              "        ...,\n",
              "        [8.0451465e-01, 7.6471269e-01, 4.7916818e-01],\n",
              "        [9.8646259e-01, 7.0838034e-01, 6.2705481e-01],\n",
              "        [8.9644420e-01, 5.4308259e-01, 7.0674503e-01]],\n",
              "\n",
              "       ...,\n",
              "\n",
              "       [[3.0802453e-01, 6.6947746e-01, 8.8058591e-01],\n",
              "        [6.7911541e-01, 5.6833148e-02, 5.3377450e-01],\n",
              "        [8.6577392e-01, 8.4933305e-01, 2.9969180e-01],\n",
              "        ...,\n",
              "        [1.7436874e-01, 1.7932606e-01, 5.1844239e-02],\n",
              "        [8.2402670e-01, 9.9010623e-01, 6.2715423e-01],\n",
              "        [3.5881567e-01, 5.7943547e-01, 5.8188450e-01]],\n",
              "\n",
              "       [[5.1810992e-01, 6.2607217e-01, 2.1294487e-01],\n",
              "        [5.3154588e-01, 5.3261185e-01, 6.0949349e-01],\n",
              "        [8.0429423e-01, 3.3579075e-01, 2.5361896e-02],\n",
              "        ...,\n",
              "        [3.6246204e-01, 7.0857966e-01, 6.3791919e-01],\n",
              "        [1.3015306e-01, 7.6317215e-01, 3.7391186e-02],\n",
              "        [5.0076973e-01, 9.6238244e-01, 8.6130750e-01]],\n",
              "\n",
              "       [[6.8344176e-01, 5.3432798e-01, 4.5906591e-01],\n",
              "        [4.6224666e-01, 9.8007762e-01, 2.7100885e-01],\n",
              "        [5.6718588e-03, 8.8428771e-01, 1.0262942e-01],\n",
              "        ...,\n",
              "        [9.7747123e-01, 4.2869627e-01, 8.4375954e-01],\n",
              "        [2.1732950e-01, 9.4143283e-01, 2.0986092e-01],\n",
              "        [9.6115232e-01, 5.8243358e-01, 9.4184232e-01]]], dtype=float32)>"
            ]
          },
          "metadata": {
            "tags": []
          },
          "execution_count": 78
        }
      ]
    },
    {
      "cell_type": "markdown",
      "metadata": {
        "id": "mtWFDFJ5bFuj"
      },
      "source": [
        "7. Find the min and max values of the tensor you created in 6."
      ]
    },
    {
      "cell_type": "code",
      "metadata": {
        "colab": {
          "base_uri": "https://localhost:8080/"
        },
        "id": "yJOEN7T7fGP0",
        "outputId": "9fa6e176-7a19-4d25-f4df-94739706ec68"
      },
      "source": [
        "min_tf = tf.argmin(tf_random)\n",
        "min_tf"
      ],
      "execution_count": 79,
      "outputs": [
        {
          "output_type": "execute_result",
          "data": {
            "text/plain": [
              "<tf.Tensor: shape=(224, 3), dtype=int64, numpy=\n",
              "array([[112, 182, 106],\n",
              "       [153,  11, 204],\n",
              "       [  4,   2, 123],\n",
              "       [178,   3,  46],\n",
              "       [ 71,  15,  30],\n",
              "       [ 17, 146,  88],\n",
              "       [ 75,  83,  34],\n",
              "       [166, 198, 196],\n",
              "       [131, 107, 213],\n",
              "       [ 43, 109,  74],\n",
              "       [193,  67, 111],\n",
              "       [ 17,  16,  35],\n",
              "       [171,  60, 157],\n",
              "       [ 82, 155, 188],\n",
              "       [139,   2, 111],\n",
              "       [ 27,  66,  16],\n",
              "       [178,   4, 202],\n",
              "       [ 80, 115, 113],\n",
              "       [176,  74,   8],\n",
              "       [104,  28, 129],\n",
              "       [ 76,  29,  64],\n",
              "       [126, 206, 160],\n",
              "       [ 79, 176, 185],\n",
              "       [ 91,  43, 174],\n",
              "       [ 10,  29,  92],\n",
              "       [116, 216, 138],\n",
              "       [ 91, 101,  72],\n",
              "       [151, 131, 217],\n",
              "       [ 38,  71, 160],\n",
              "       [169, 162, 165],\n",
              "       [ 16,  84, 129],\n",
              "       [ 35, 123, 167],\n",
              "       [ 52,  55,  55],\n",
              "       [ 95, 215, 168],\n",
              "       [180, 109, 111],\n",
              "       [104,  79, 160],\n",
              "       [ 16, 188, 174],\n",
              "       [138, 218, 170],\n",
              "       [102,  78,  22],\n",
              "       [ 38,  16, 188],\n",
              "       [151,  38, 171],\n",
              "       [188,  45,  22],\n",
              "       [185, 171, 216],\n",
              "       [143, 202,  82],\n",
              "       [  6,   6,   0],\n",
              "       [ 14, 182, 183],\n",
              "       [  7,  70, 160],\n",
              "       [  5, 211, 212],\n",
              "       [ 74, 199, 135],\n",
              "       [ 60, 175,   2],\n",
              "       [ 41, 114, 209],\n",
              "       [182,  48,  69],\n",
              "       [ 96, 118,  75],\n",
              "       [ 38,   7, 174],\n",
              "       [110, 105, 146],\n",
              "       [103,  57, 150],\n",
              "       [ 51, 117,  94],\n",
              "       [ 46,  29, 130],\n",
              "       [ 37, 153, 212],\n",
              "       [ 13, 184,  63],\n",
              "       [221,  58, 198],\n",
              "       [114, 174, 198],\n",
              "       [207, 212,  70],\n",
              "       [176,  20,  76],\n",
              "       [210,  99,  97],\n",
              "       [176,  57, 177],\n",
              "       [158, 198,  31],\n",
              "       [ 67, 219,  18],\n",
              "       [ 33, 183, 141],\n",
              "       [152, 126,  37],\n",
              "       [134,  91, 179],\n",
              "       [ 74,  15, 130],\n",
              "       [ 44,  31, 194],\n",
              "       [  8, 204, 208],\n",
              "       [ 50,  28, 208],\n",
              "       [ 35,  15,  38],\n",
              "       [162, 138, 219],\n",
              "       [ 82,  31,  24],\n",
              "       [101, 184,  16],\n",
              "       [ 85,   7, 207],\n",
              "       [ 77,  75, 176],\n",
              "       [ 40,  80,  21],\n",
              "       [200, 105,  58],\n",
              "       [ 27,  64,  94],\n",
              "       [  2,  56,  80],\n",
              "       [186,  21, 102],\n",
              "       [125,  59,  57],\n",
              "       [ 59,  21, 203],\n",
              "       [134,  93,  31],\n",
              "       [140, 125, 220],\n",
              "       [ 16, 218, 125],\n",
              "       [ 39, 125, 114],\n",
              "       [ 64,  31,   8],\n",
              "       [175,  20,  88],\n",
              "       [222, 158,   4],\n",
              "       [ 25,  23, 172],\n",
              "       [ 73,  42, 104],\n",
              "       [204,   9, 220],\n",
              "       [207, 125,  31],\n",
              "       [ 83, 162, 147],\n",
              "       [179,  72, 162],\n",
              "       [ 47, 171,  63],\n",
              "       [165, 108,  60],\n",
              "       [ 82, 144,  57],\n",
              "       [ 33,   4,  89],\n",
              "       [ 16, 215,  72],\n",
              "       [103,  13,   3],\n",
              "       [  5, 114, 118],\n",
              "       [ 89, 193, 142],\n",
              "       [ 27,   5,  49],\n",
              "       [ 56, 155,  65],\n",
              "       [ 86,  52,  89],\n",
              "       [ 67, 181, 151],\n",
              "       [ 19,  28, 120],\n",
              "       [132, 193,  94],\n",
              "       [183,  98, 172],\n",
              "       [168,  33, 107],\n",
              "       [102,  13, 157],\n",
              "       [ 62, 158,  12],\n",
              "       [ 72, 189,  87],\n",
              "       [ 33,  99, 103],\n",
              "       [ 37,  81,   3],\n",
              "       [ 87,  81, 150],\n",
              "       [  0, 160, 120],\n",
              "       [ 88, 138, 142],\n",
              "       [104,  54,  13],\n",
              "       [149, 156, 189],\n",
              "       [ 31, 135,   1],\n",
              "       [ 93,  19, 115],\n",
              "       [164, 203, 211],\n",
              "       [ 72,  98, 144],\n",
              "       [169,  73,  49],\n",
              "       [ 25,  12,   6],\n",
              "       [ 42,  92,  34],\n",
              "       [162, 139, 129],\n",
              "       [192,  93, 180],\n",
              "       [208, 148, 190],\n",
              "       [ 15,  42, 175],\n",
              "       [136,  87, 179],\n",
              "       [174,  46, 199],\n",
              "       [194,  36,  46],\n",
              "       [150, 153,  49],\n",
              "       [180, 209,  92],\n",
              "       [ 18,  86,  55],\n",
              "       [201,  95,  99],\n",
              "       [ 22,  20,  49],\n",
              "       [219, 222, 111],\n",
              "       [161,  81, 220],\n",
              "       [ 45,  21, 128],\n",
              "       [101, 194, 120],\n",
              "       [214, 156, 172],\n",
              "       [202,  22, 165],\n",
              "       [ 63, 100, 187],\n",
              "       [188,  72, 203],\n",
              "       [ 32, 207,  90],\n",
              "       [159,  22,  46],\n",
              "       [185,  10, 102],\n",
              "       [ 71, 105, 185],\n",
              "       [110, 148, 113],\n",
              "       [ 88,  90, 109],\n",
              "       [201,   0, 178],\n",
              "       [202, 171, 106],\n",
              "       [113, 178, 200],\n",
              "       [128, 201,  27],\n",
              "       [ 38,   9,  15],\n",
              "       [ 40, 107, 193],\n",
              "       [ 59,  81, 103],\n",
              "       [ 18,  26, 145],\n",
              "       [174,  37,  42],\n",
              "       [214,  27,  39],\n",
              "       [217, 145, 102],\n",
              "       [109, 109,  12],\n",
              "       [149, 223, 168],\n",
              "       [ 28,  50, 184],\n",
              "       [ 80,  52,  13],\n",
              "       [147, 167,  56],\n",
              "       [ 54, 130, 185],\n",
              "       [115, 209, 110],\n",
              "       [142, 193, 198],\n",
              "       [  2, 194, 173],\n",
              "       [152,  74, 216],\n",
              "       [146,   1, 194],\n",
              "       [ 35,   4, 133],\n",
              "       [170, 149,  27],\n",
              "       [ 11, 128,  60],\n",
              "       [195, 136, 154],\n",
              "       [131, 218,  80],\n",
              "       [175, 144, 108],\n",
              "       [204, 198, 144],\n",
              "       [  3, 103, 184],\n",
              "       [105,  99,  76],\n",
              "       [219,  94, 214],\n",
              "       [125, 179,  64],\n",
              "       [222,  61,  78],\n",
              "       [ 75, 186, 125],\n",
              "       [131, 135, 166],\n",
              "       [ 37,  79,  67],\n",
              "       [122,  83, 142],\n",
              "       [168,  69,  86],\n",
              "       [148,  38, 204],\n",
              "       [216,  77,  88],\n",
              "       [184, 196, 164],\n",
              "       [129,  19, 144],\n",
              "       [163, 100, 123],\n",
              "       [216, 151, 112],\n",
              "       [ 27,  94,  55],\n",
              "       [ 79,   9, 141],\n",
              "       [ 61, 116, 153],\n",
              "       [115, 106, 194],\n",
              "       [ 98,  83, 222],\n",
              "       [  9,  68,  79],\n",
              "       [ 66,  95, 180],\n",
              "       [169, 218, 209],\n",
              "       [189,   8,  48],\n",
              "       [217, 150, 214],\n",
              "       [127, 109, 115],\n",
              "       [206, 111, 222],\n",
              "       [ 68,  12, 140],\n",
              "       [ 91, 131, 196],\n",
              "       [207,  84,  77],\n",
              "       [194,  42,  13],\n",
              "       [217,  83, 178],\n",
              "       [ 57, 107, 185],\n",
              "       [135, 201, 182]])>"
            ]
          },
          "metadata": {
            "tags": []
          },
          "execution_count": 79
        }
      ]
    },
    {
      "cell_type": "code",
      "metadata": {
        "colab": {
          "base_uri": "https://localhost:8080/"
        },
        "id": "DKRYapDAbABg",
        "outputId": "500e6d74-b528-4bc9-b360-ffe1c0d3c3f0"
      },
      "source": [
        "tf.reduce_min(tf_random)"
      ],
      "execution_count": 88,
      "outputs": [
        {
          "output_type": "execute_result",
          "data": {
            "text/plain": [
              "<tf.Tensor: shape=(), dtype=float32, numpy=3.9339066e-06>"
            ]
          },
          "metadata": {
            "tags": []
          },
          "execution_count": 88
        }
      ]
    },
    {
      "cell_type": "code",
      "metadata": {
        "colab": {
          "base_uri": "https://localhost:8080/"
        },
        "id": "fTyTnMChnsHw",
        "outputId": "44c3f852-b138-4af7-ae67-09173c2cb0f7"
      },
      "source": [
        "tf.reduce_max(tf_random)"
      ],
      "execution_count": 89,
      "outputs": [
        {
          "output_type": "execute_result",
          "data": {
            "text/plain": [
              "<tf.Tensor: shape=(), dtype=float32, numpy=0.9999974>"
            ]
          },
          "metadata": {
            "tags": []
          },
          "execution_count": 89
        }
      ]
    },
    {
      "cell_type": "code",
      "metadata": {
        "colab": {
          "base_uri": "https://localhost:8080/"
        },
        "id": "gjwjCXksbOYg",
        "outputId": "cb1f9c34-b284-40ec-8ea7-a32ebed81040"
      },
      "source": [
        "min_tf.shape"
      ],
      "execution_count": 29,
      "outputs": [
        {
          "output_type": "execute_result",
          "data": {
            "text/plain": [
              "TensorShape([224, 4])"
            ]
          },
          "metadata": {
            "tags": []
          },
          "execution_count": 29
        }
      ]
    },
    {
      "cell_type": "markdown",
      "metadata": {
        "id": "G4O2soBUhpgV"
      },
      "source": [
        "8. Created a tensor with random values of shape [1, 224, 224, 3] then squeeze it to change the shape to [224, 224, 3]"
      ]
    },
    {
      "cell_type": "code",
      "metadata": {
        "colab": {
          "base_uri": "https://localhost:8080/"
        },
        "id": "7IJRooD8cFJP",
        "outputId": "219d6b50-43cc-4403-cf38-5b1405e23b47"
      },
      "source": [
        "tf_create = tf.random.uniform(shape=[1,224,224,3], minval=0, maxval = 1)\n",
        "(tf.squeeze(tf_create)).shape"
      ],
      "execution_count": 55,
      "outputs": [
        {
          "output_type": "execute_result",
          "data": {
            "text/plain": [
              "TensorShape([224, 224, 3])"
            ]
          },
          "metadata": {
            "tags": []
          },
          "execution_count": 55
        }
      ]
    },
    {
      "cell_type": "markdown",
      "metadata": {
        "id": "iplbH8hLiMOZ"
      },
      "source": [
        "9. Create a tensor with shape [10] using your own choice of values, then find the index which has the maximum value."
      ]
    },
    {
      "cell_type": "code",
      "metadata": {
        "colab": {
          "base_uri": "https://localhost:8080/"
        },
        "id": "bOduI_JOiGFi",
        "outputId": "169a565a-51b7-4eaf-ae6a-736230ca3436"
      },
      "source": [
        "from numpy import random\n",
        "tf_create = random.randint(100, size=10)\n",
        "tf_create = tf.constant(tf_create)\n",
        "tf_create"
      ],
      "execution_count": 73,
      "outputs": [
        {
          "output_type": "execute_result",
          "data": {
            "text/plain": [
              "<tf.Tensor: shape=(10,), dtype=int64, numpy=array([ 5, 73, 62, 30, 51, 40, 37, 99, 89, 31])>"
            ]
          },
          "metadata": {
            "tags": []
          },
          "execution_count": 73
        }
      ]
    },
    {
      "cell_type": "code",
      "metadata": {
        "colab": {
          "base_uri": "https://localhost:8080/"
        },
        "id": "lt2lcazciSeA",
        "outputId": "a985f7a2-ef7b-4442-ffeb-9229f7d552d1"
      },
      "source": [
        "tf.argmin(tf_create).numpy()"
      ],
      "execution_count": 74,
      "outputs": [
        {
          "output_type": "execute_result",
          "data": {
            "text/plain": [
              "0"
            ]
          },
          "metadata": {
            "tags": []
          },
          "execution_count": 74
        }
      ]
    },
    {
      "cell_type": "markdown",
      "metadata": {
        "id": "TQX_Ds7Oih7A"
      },
      "source": [
        "10. One-hot encode the tensor you created in 9."
      ]
    },
    {
      "cell_type": "code",
      "metadata": {
        "colab": {
          "base_uri": "https://localhost:8080/"
        },
        "id": "LxnzwxWaiZ2E",
        "outputId": "99f4e0cf-aa6d-4f57-8f6f-8adcf7088ead"
      },
      "source": [
        "tf.one_hot(tf_create,depth=100)"
      ],
      "execution_count": 77,
      "outputs": [
        {
          "output_type": "execute_result",
          "data": {
            "text/plain": [
              "<tf.Tensor: shape=(10, 100), dtype=float32, numpy=\n",
              "array([[0., 0., 0., 0., 0., 1., 0., 0., 0., 0., 0., 0., 0., 0., 0., 0.,\n",
              "        0., 0., 0., 0., 0., 0., 0., 0., 0., 0., 0., 0., 0., 0., 0., 0.,\n",
              "        0., 0., 0., 0., 0., 0., 0., 0., 0., 0., 0., 0., 0., 0., 0., 0.,\n",
              "        0., 0., 0., 0., 0., 0., 0., 0., 0., 0., 0., 0., 0., 0., 0., 0.,\n",
              "        0., 0., 0., 0., 0., 0., 0., 0., 0., 0., 0., 0., 0., 0., 0., 0.,\n",
              "        0., 0., 0., 0., 0., 0., 0., 0., 0., 0., 0., 0., 0., 0., 0., 0.,\n",
              "        0., 0., 0., 0.],\n",
              "       [0., 0., 0., 0., 0., 0., 0., 0., 0., 0., 0., 0., 0., 0., 0., 0.,\n",
              "        0., 0., 0., 0., 0., 0., 0., 0., 0., 0., 0., 0., 0., 0., 0., 0.,\n",
              "        0., 0., 0., 0., 0., 0., 0., 0., 0., 0., 0., 0., 0., 0., 0., 0.,\n",
              "        0., 0., 0., 0., 0., 0., 0., 0., 0., 0., 0., 0., 0., 0., 0., 0.,\n",
              "        0., 0., 0., 0., 0., 0., 0., 0., 0., 1., 0., 0., 0., 0., 0., 0.,\n",
              "        0., 0., 0., 0., 0., 0., 0., 0., 0., 0., 0., 0., 0., 0., 0., 0.,\n",
              "        0., 0., 0., 0.],\n",
              "       [0., 0., 0., 0., 0., 0., 0., 0., 0., 0., 0., 0., 0., 0., 0., 0.,\n",
              "        0., 0., 0., 0., 0., 0., 0., 0., 0., 0., 0., 0., 0., 0., 0., 0.,\n",
              "        0., 0., 0., 0., 0., 0., 0., 0., 0., 0., 0., 0., 0., 0., 0., 0.,\n",
              "        0., 0., 0., 0., 0., 0., 0., 0., 0., 0., 0., 0., 0., 0., 1., 0.,\n",
              "        0., 0., 0., 0., 0., 0., 0., 0., 0., 0., 0., 0., 0., 0., 0., 0.,\n",
              "        0., 0., 0., 0., 0., 0., 0., 0., 0., 0., 0., 0., 0., 0., 0., 0.,\n",
              "        0., 0., 0., 0.],\n",
              "       [0., 0., 0., 0., 0., 0., 0., 0., 0., 0., 0., 0., 0., 0., 0., 0.,\n",
              "        0., 0., 0., 0., 0., 0., 0., 0., 0., 0., 0., 0., 0., 0., 1., 0.,\n",
              "        0., 0., 0., 0., 0., 0., 0., 0., 0., 0., 0., 0., 0., 0., 0., 0.,\n",
              "        0., 0., 0., 0., 0., 0., 0., 0., 0., 0., 0., 0., 0., 0., 0., 0.,\n",
              "        0., 0., 0., 0., 0., 0., 0., 0., 0., 0., 0., 0., 0., 0., 0., 0.,\n",
              "        0., 0., 0., 0., 0., 0., 0., 0., 0., 0., 0., 0., 0., 0., 0., 0.,\n",
              "        0., 0., 0., 0.],\n",
              "       [0., 0., 0., 0., 0., 0., 0., 0., 0., 0., 0., 0., 0., 0., 0., 0.,\n",
              "        0., 0., 0., 0., 0., 0., 0., 0., 0., 0., 0., 0., 0., 0., 0., 0.,\n",
              "        0., 0., 0., 0., 0., 0., 0., 0., 0., 0., 0., 0., 0., 0., 0., 0.,\n",
              "        0., 0., 0., 1., 0., 0., 0., 0., 0., 0., 0., 0., 0., 0., 0., 0.,\n",
              "        0., 0., 0., 0., 0., 0., 0., 0., 0., 0., 0., 0., 0., 0., 0., 0.,\n",
              "        0., 0., 0., 0., 0., 0., 0., 0., 0., 0., 0., 0., 0., 0., 0., 0.,\n",
              "        0., 0., 0., 0.],\n",
              "       [0., 0., 0., 0., 0., 0., 0., 0., 0., 0., 0., 0., 0., 0., 0., 0.,\n",
              "        0., 0., 0., 0., 0., 0., 0., 0., 0., 0., 0., 0., 0., 0., 0., 0.,\n",
              "        0., 0., 0., 0., 0., 0., 0., 0., 1., 0., 0., 0., 0., 0., 0., 0.,\n",
              "        0., 0., 0., 0., 0., 0., 0., 0., 0., 0., 0., 0., 0., 0., 0., 0.,\n",
              "        0., 0., 0., 0., 0., 0., 0., 0., 0., 0., 0., 0., 0., 0., 0., 0.,\n",
              "        0., 0., 0., 0., 0., 0., 0., 0., 0., 0., 0., 0., 0., 0., 0., 0.,\n",
              "        0., 0., 0., 0.],\n",
              "       [0., 0., 0., 0., 0., 0., 0., 0., 0., 0., 0., 0., 0., 0., 0., 0.,\n",
              "        0., 0., 0., 0., 0., 0., 0., 0., 0., 0., 0., 0., 0., 0., 0., 0.,\n",
              "        0., 0., 0., 0., 0., 1., 0., 0., 0., 0., 0., 0., 0., 0., 0., 0.,\n",
              "        0., 0., 0., 0., 0., 0., 0., 0., 0., 0., 0., 0., 0., 0., 0., 0.,\n",
              "        0., 0., 0., 0., 0., 0., 0., 0., 0., 0., 0., 0., 0., 0., 0., 0.,\n",
              "        0., 0., 0., 0., 0., 0., 0., 0., 0., 0., 0., 0., 0., 0., 0., 0.,\n",
              "        0., 0., 0., 0.],\n",
              "       [0., 0., 0., 0., 0., 0., 0., 0., 0., 0., 0., 0., 0., 0., 0., 0.,\n",
              "        0., 0., 0., 0., 0., 0., 0., 0., 0., 0., 0., 0., 0., 0., 0., 0.,\n",
              "        0., 0., 0., 0., 0., 0., 0., 0., 0., 0., 0., 0., 0., 0., 0., 0.,\n",
              "        0., 0., 0., 0., 0., 0., 0., 0., 0., 0., 0., 0., 0., 0., 0., 0.,\n",
              "        0., 0., 0., 0., 0., 0., 0., 0., 0., 0., 0., 0., 0., 0., 0., 0.,\n",
              "        0., 0., 0., 0., 0., 0., 0., 0., 0., 0., 0., 0., 0., 0., 0., 0.,\n",
              "        0., 0., 0., 1.],\n",
              "       [0., 0., 0., 0., 0., 0., 0., 0., 0., 0., 0., 0., 0., 0., 0., 0.,\n",
              "        0., 0., 0., 0., 0., 0., 0., 0., 0., 0., 0., 0., 0., 0., 0., 0.,\n",
              "        0., 0., 0., 0., 0., 0., 0., 0., 0., 0., 0., 0., 0., 0., 0., 0.,\n",
              "        0., 0., 0., 0., 0., 0., 0., 0., 0., 0., 0., 0., 0., 0., 0., 0.,\n",
              "        0., 0., 0., 0., 0., 0., 0., 0., 0., 0., 0., 0., 0., 0., 0., 0.,\n",
              "        0., 0., 0., 0., 0., 0., 0., 0., 0., 1., 0., 0., 0., 0., 0., 0.,\n",
              "        0., 0., 0., 0.],\n",
              "       [0., 0., 0., 0., 0., 0., 0., 0., 0., 0., 0., 0., 0., 0., 0., 0.,\n",
              "        0., 0., 0., 0., 0., 0., 0., 0., 0., 0., 0., 0., 0., 0., 0., 1.,\n",
              "        0., 0., 0., 0., 0., 0., 0., 0., 0., 0., 0., 0., 0., 0., 0., 0.,\n",
              "        0., 0., 0., 0., 0., 0., 0., 0., 0., 0., 0., 0., 0., 0., 0., 0.,\n",
              "        0., 0., 0., 0., 0., 0., 0., 0., 0., 0., 0., 0., 0., 0., 0., 0.,\n",
              "        0., 0., 0., 0., 0., 0., 0., 0., 0., 0., 0., 0., 0., 0., 0., 0.,\n",
              "        0., 0., 0., 0.]], dtype=float32)>"
            ]
          },
          "metadata": {
            "tags": []
          },
          "execution_count": 77
        }
      ]
    }
  ]
}