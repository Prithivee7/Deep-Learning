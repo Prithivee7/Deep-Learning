{
  "nbformat": 4,
  "nbformat_minor": 0,
  "metadata": {
    "colab": {
      "name": "DL_2_neural_network_regression_with_tensorflow.ipynb",
      "provenance": []
    },
    "kernelspec": {
      "name": "python3",
      "display_name": "Python 3"
    },
    "language_info": {
      "name": "python"
    }
  },
  "cells": [
    {
      "cell_type": "markdown",
      "metadata": {
        "id": "EnGecxRBzSht"
      },
      "source": [
        "## Steps in modelling with Tensorflow\n",
        "1. **Creating a model** - define the input and output layers as well as hidden layers of the deep learning model.\n",
        "2. **Compiling a model** - define the loss function(a function which tells how wrong the model is) and the optimiser(tells our model how to improve the patterns and reduce loss function) and evaluation metrics(metrics for interpreting the performance of the model)\n",
        "3. **Fitting a model** - letting the model finding the patterns between X and y(features and labels)."
      ]
    },
    {
      "cell_type": "code",
      "metadata": {
        "id": "gkpsAWehHyif"
      },
      "source": [
        "import numpy as np\n",
        "import tensorflow as tf"
      ],
      "execution_count": 1,
      "outputs": []
    },
    {
      "cell_type": "code",
      "metadata": {
        "colab": {
          "base_uri": "https://localhost:8080/"
        },
        "id": "4NtLCRDMbumX",
        "outputId": "6e88d0ce-a997-49ad-ea05-8a63357d9510"
      },
      "source": [
        "X = np.array([-7.0, -4.0, -1.0, 3.0, 7.0, 11.0, 14.0, 17.0])\n",
        "y = np.array([3.0, 6.0, 9.0, 12.0, 15.0, 18.0, 21.0, 24.0])\n",
        "\n",
        "# Convert numpy arrays into tensors and then convert them to float32.\n",
        "# This is done to prevent the warning message. In tensorflow 1 there was an issue and now it is deprecated.\n",
        "# So if we want to use tensorflow 1 in tensorflow 2 we have to do this conversion. Here this conversion \n",
        "# is done just to avoid the warning message.\n",
        "\n",
        "X = tf.cast(tf.constant(X),dtype=tf.float32)\n",
        "y = tf.cast(tf.constant(y),dtype=tf.float32)\n",
        "X,y"
      ],
      "execution_count": 2,
      "outputs": [
        {
          "output_type": "execute_result",
          "data": {
            "text/plain": [
              "(<tf.Tensor: shape=(8,), dtype=float32, numpy=array([-7., -4., -1.,  3.,  7., 11., 14., 17.], dtype=float32)>,\n",
              " <tf.Tensor: shape=(8,), dtype=float32, numpy=array([ 3.,  6.,  9., 12., 15., 18., 21., 24.], dtype=float32)>)"
            ]
          },
          "metadata": {
            "tags": []
          },
          "execution_count": 2
        }
      ]
    },
    {
      "cell_type": "markdown",
      "metadata": {
        "id": "uaufQqCtcgv2"
      },
      "source": [
        "Sequential groups a linear stack of layers into tf.keras.Model  "
      ]
    },
    {
      "cell_type": "code",
      "metadata": {
        "colab": {
          "base_uri": "https://localhost:8080/"
        },
        "id": "s5m_sY5CcQtj",
        "outputId": "2e3047c2-e39f-4435-ec26-0b3e2776c31b"
      },
      "source": [
        "# Set a seed\n",
        "tf.random.set_seed(42)\n",
        "\n",
        "# 1. Create a model using sequential API\n",
        "model = tf.keras.Sequential([\n",
        "  tf.keras.layers.Dense(1)         \n",
        "])\n",
        "\n",
        "# 2. Compile the model\n",
        "model.compile(loss = tf.keras.losses.mae,\n",
        "              optimizer = tf.keras.optimizers.SGD(),\n",
        "              metrics=[\"mae\"])\n",
        "\n",
        "#3. Fit the model \n",
        "# epochs ------> How many times the model will go through the training samples.\n",
        "model.fit(X,y,epochs=100)"
      ],
      "execution_count": 3,
      "outputs": [
        {
          "output_type": "stream",
          "text": [
            "Epoch 1/100\n",
            "1/1 [==============================] - 0s 497ms/step - loss: 10.6497 - mae: 10.6497\n",
            "Epoch 2/100\n",
            "1/1 [==============================] - 0s 4ms/step - loss: 10.3897 - mae: 10.3897\n",
            "Epoch 3/100\n",
            "1/1 [==============================] - 0s 6ms/step - loss: 10.1297 - mae: 10.1297\n",
            "Epoch 4/100\n",
            "1/1 [==============================] - 0s 3ms/step - loss: 9.8697 - mae: 9.8697\n",
            "Epoch 5/100\n",
            "1/1 [==============================] - 0s 3ms/step - loss: 9.6097 - mae: 9.6097\n",
            "Epoch 6/100\n",
            "1/1 [==============================] - 0s 5ms/step - loss: 9.3497 - mae: 9.3497\n",
            "Epoch 7/100\n",
            "1/1 [==============================] - 0s 6ms/step - loss: 9.0897 - mae: 9.0897\n",
            "Epoch 8/100\n",
            "1/1 [==============================] - 0s 3ms/step - loss: 8.8297 - mae: 8.8297\n",
            "Epoch 9/100\n",
            "1/1 [==============================] - 0s 5ms/step - loss: 8.5697 - mae: 8.5697\n",
            "Epoch 10/100\n",
            "1/1 [==============================] - 0s 3ms/step - loss: 8.3097 - mae: 8.3097\n",
            "Epoch 11/100\n",
            "1/1 [==============================] - 0s 5ms/step - loss: 8.0497 - mae: 8.0497\n",
            "Epoch 12/100\n",
            "1/1 [==============================] - 0s 3ms/step - loss: 7.7897 - mae: 7.7897\n",
            "Epoch 13/100\n",
            "1/1 [==============================] - 0s 3ms/step - loss: 7.5297 - mae: 7.5297\n",
            "Epoch 14/100\n",
            "1/1 [==============================] - 0s 6ms/step - loss: 7.2697 - mae: 7.2697\n",
            "Epoch 15/100\n",
            "1/1 [==============================] - 0s 5ms/step - loss: 7.0097 - mae: 7.0097\n",
            "Epoch 16/100\n",
            "1/1 [==============================] - 0s 5ms/step - loss: 6.7497 - mae: 6.7497\n",
            "Epoch 17/100\n",
            "1/1 [==============================] - 0s 3ms/step - loss: 6.4897 - mae: 6.4897\n",
            "Epoch 18/100\n",
            "1/1 [==============================] - 0s 6ms/step - loss: 6.3075 - mae: 6.3075\n",
            "Epoch 19/100\n",
            "1/1 [==============================] - 0s 3ms/step - loss: 6.2962 - mae: 6.2962\n",
            "Epoch 20/100\n",
            "1/1 [==============================] - 0s 3ms/step - loss: 6.2850 - mae: 6.2850\n",
            "Epoch 21/100\n",
            "1/1 [==============================] - 0s 4ms/step - loss: 6.2737 - mae: 6.2737\n",
            "Epoch 22/100\n",
            "1/1 [==============================] - 0s 4ms/step - loss: 6.2625 - mae: 6.2625\n",
            "Epoch 23/100\n",
            "1/1 [==============================] - 0s 7ms/step - loss: 6.2512 - mae: 6.2512\n",
            "Epoch 24/100\n",
            "1/1 [==============================] - 0s 4ms/step - loss: 6.2400 - mae: 6.2400\n",
            "Epoch 25/100\n",
            "1/1 [==============================] - 0s 4ms/step - loss: 6.2287 - mae: 6.2287\n",
            "Epoch 26/100\n",
            "1/1 [==============================] - 0s 6ms/step - loss: 6.2175 - mae: 6.2175\n",
            "Epoch 27/100\n",
            "1/1 [==============================] - 0s 4ms/step - loss: 6.2220 - mae: 6.2220\n",
            "Epoch 28/100\n",
            "1/1 [==============================] - 0s 5ms/step - loss: 6.2231 - mae: 6.2231\n",
            "Epoch 29/100\n",
            "1/1 [==============================] - 0s 5ms/step - loss: 6.2118 - mae: 6.2118\n",
            "Epoch 30/100\n",
            "1/1 [==============================] - 0s 5ms/step - loss: 6.2006 - mae: 6.2006\n",
            "Epoch 31/100\n",
            "1/1 [==============================] - 0s 5ms/step - loss: 6.1945 - mae: 6.1945\n",
            "Epoch 32/100\n",
            "1/1 [==============================] - 0s 5ms/step - loss: 6.2062 - mae: 6.2062\n",
            "Epoch 33/100\n",
            "1/1 [==============================] - 0s 4ms/step - loss: 6.1950 - mae: 6.1950\n",
            "Epoch 34/100\n",
            "1/1 [==============================] - 0s 4ms/step - loss: 6.1837 - mae: 6.1837\n",
            "Epoch 35/100\n",
            "1/1 [==============================] - 0s 5ms/step - loss: 6.1725 - mae: 6.1725\n",
            "Epoch 36/100\n",
            "1/1 [==============================] - 0s 4ms/step - loss: 6.1839 - mae: 6.1839\n",
            "Epoch 37/100\n",
            "1/1 [==============================] - 0s 4ms/step - loss: 6.1781 - mae: 6.1781\n",
            "Epoch 38/100\n",
            "1/1 [==============================] - 0s 13ms/step - loss: 6.1668 - mae: 6.1668\n",
            "Epoch 39/100\n",
            "1/1 [==============================] - 0s 5ms/step - loss: 6.1556 - mae: 6.1556\n",
            "Epoch 40/100\n",
            "1/1 [==============================] - 0s 5ms/step - loss: 6.1564 - mae: 6.1564\n",
            "Epoch 41/100\n",
            "1/1 [==============================] - 0s 6ms/step - loss: 6.1612 - mae: 6.1612\n",
            "Epoch 42/100\n",
            "1/1 [==============================] - 0s 5ms/step - loss: 6.1500 - mae: 6.1500\n",
            "Epoch 43/100\n",
            "1/1 [==============================] - 0s 6ms/step - loss: 6.1387 - mae: 6.1387\n",
            "Epoch 44/100\n",
            "1/1 [==============================] - 0s 7ms/step - loss: 6.1289 - mae: 6.1289\n",
            "Epoch 45/100\n",
            "1/1 [==============================] - 0s 3ms/step - loss: 6.1443 - mae: 6.1443\n",
            "Epoch 46/100\n",
            "1/1 [==============================] - 0s 6ms/step - loss: 6.1331 - mae: 6.1331\n",
            "Epoch 47/100\n",
            "1/1 [==============================] - 0s 4ms/step - loss: 6.1218 - mae: 6.1218\n",
            "Epoch 48/100\n",
            "1/1 [==============================] - 0s 6ms/step - loss: 6.1106 - mae: 6.1106\n",
            "Epoch 49/100\n",
            "1/1 [==============================] - 0s 5ms/step - loss: 6.1183 - mae: 6.1183\n",
            "Epoch 50/100\n",
            "1/1 [==============================] - 0s 6ms/step - loss: 6.1162 - mae: 6.1162\n",
            "Epoch 51/100\n",
            "1/1 [==============================] - 0s 8ms/step - loss: 6.1050 - mae: 6.1050\n",
            "Epoch 52/100\n",
            "1/1 [==============================] - 0s 7ms/step - loss: 6.0937 - mae: 6.0937\n",
            "Epoch 53/100\n",
            "1/1 [==============================] - 0s 7ms/step - loss: 6.0908 - mae: 6.0908\n",
            "Epoch 54/100\n",
            "1/1 [==============================] - 0s 7ms/step - loss: 6.0993 - mae: 6.0993\n",
            "Epoch 55/100\n",
            "1/1 [==============================] - 0s 8ms/step - loss: 6.0881 - mae: 6.0881\n",
            "Epoch 56/100\n",
            "1/1 [==============================] - 0s 7ms/step - loss: 6.0768 - mae: 6.0768\n",
            "Epoch 57/100\n",
            "1/1 [==============================] - 0s 9ms/step - loss: 6.0656 - mae: 6.0656\n",
            "Epoch 58/100\n",
            "1/1 [==============================] - 0s 8ms/step - loss: 6.0802 - mae: 6.0802\n",
            "Epoch 59/100\n",
            "1/1 [==============================] - 0s 8ms/step - loss: 6.0712 - mae: 6.0712\n",
            "Epoch 60/100\n",
            "1/1 [==============================] - 0s 19ms/step - loss: 6.0600 - mae: 6.0600\n",
            "Epoch 61/100\n",
            "1/1 [==============================] - 0s 10ms/step - loss: 6.0487 - mae: 6.0487\n",
            "Epoch 62/100\n",
            "1/1 [==============================] - 0s 7ms/step - loss: 6.0527 - mae: 6.0527\n",
            "Epoch 63/100\n",
            "1/1 [==============================] - 0s 6ms/step - loss: 6.0543 - mae: 6.0543\n",
            "Epoch 64/100\n",
            "1/1 [==============================] - 0s 8ms/step - loss: 6.0431 - mae: 6.0431\n",
            "Epoch 65/100\n",
            "1/1 [==============================] - 0s 4ms/step - loss: 6.0318 - mae: 6.0318\n",
            "Epoch 66/100\n",
            "1/1 [==============================] - 0s 5ms/step - loss: 6.0252 - mae: 6.0252\n",
            "Epoch 67/100\n",
            "1/1 [==============================] - 0s 8ms/step - loss: 6.0375 - mae: 6.0375\n",
            "Epoch 68/100\n",
            "1/1 [==============================] - 0s 6ms/step - loss: 6.0262 - mae: 6.0262\n",
            "Epoch 69/100\n",
            "1/1 [==============================] - 0s 5ms/step - loss: 6.0150 - mae: 6.0150\n",
            "Epoch 70/100\n",
            "1/1 [==============================] - 0s 7ms/step - loss: 6.0037 - mae: 6.0037\n",
            "Epoch 71/100\n",
            "1/1 [==============================] - 0s 6ms/step - loss: 6.0145 - mae: 6.0145\n",
            "Epoch 72/100\n",
            "1/1 [==============================] - 0s 5ms/step - loss: 6.0093 - mae: 6.0093\n",
            "Epoch 73/100\n",
            "1/1 [==============================] - 0s 10ms/step - loss: 5.9981 - mae: 5.9981\n",
            "Epoch 74/100\n",
            "1/1 [==============================] - 0s 5ms/step - loss: 5.9868 - mae: 5.9868\n",
            "Epoch 75/100\n",
            "1/1 [==============================] - 0s 5ms/step - loss: 5.9870 - mae: 5.9870\n",
            "Epoch 76/100\n",
            "1/1 [==============================] - 0s 8ms/step - loss: 5.9925 - mae: 5.9925\n",
            "Epoch 77/100\n",
            "1/1 [==============================] - 0s 9ms/step - loss: 5.9812 - mae: 5.9812\n",
            "Epoch 78/100\n",
            "1/1 [==============================] - 0s 14ms/step - loss: 5.9700 - mae: 5.9700\n",
            "Epoch 79/100\n",
            "1/1 [==============================] - 0s 13ms/step - loss: 5.9595 - mae: 5.9595\n",
            "Epoch 80/100\n",
            "1/1 [==============================] - 0s 22ms/step - loss: 5.9756 - mae: 5.9756\n",
            "Epoch 81/100\n",
            "1/1 [==============================] - 0s 11ms/step - loss: 5.9643 - mae: 5.9643\n",
            "Epoch 82/100\n",
            "1/1 [==============================] - 0s 10ms/step - loss: 5.9531 - mae: 5.9531\n",
            "Epoch 83/100\n",
            "1/1 [==============================] - 0s 13ms/step - loss: 5.9418 - mae: 5.9418\n",
            "Epoch 84/100\n",
            "1/1 [==============================] - 0s 18ms/step - loss: 5.9489 - mae: 5.9489\n",
            "Epoch 85/100\n",
            "1/1 [==============================] - 0s 8ms/step - loss: 5.9475 - mae: 5.9475\n",
            "Epoch 86/100\n",
            "1/1 [==============================] - 0s 9ms/step - loss: 5.9362 - mae: 5.9362\n",
            "Epoch 87/100\n",
            "1/1 [==============================] - 0s 11ms/step - loss: 5.9250 - mae: 5.9250\n",
            "Epoch 88/100\n",
            "1/1 [==============================] - 0s 11ms/step - loss: 5.9214 - mae: 5.9214\n",
            "Epoch 89/100\n",
            "1/1 [==============================] - 0s 10ms/step - loss: 5.9306 - mae: 5.9306\n",
            "Epoch 90/100\n",
            "1/1 [==============================] - 0s 9ms/step - loss: 5.9193 - mae: 5.9193\n",
            "Epoch 91/100\n",
            "1/1 [==============================] - 0s 9ms/step - loss: 5.9081 - mae: 5.9081\n",
            "Epoch 92/100\n",
            "1/1 [==============================] - 0s 7ms/step - loss: 5.8968 - mae: 5.8968\n",
            "Epoch 93/100\n",
            "1/1 [==============================] - 0s 4ms/step - loss: 5.9108 - mae: 5.9108\n",
            "Epoch 94/100\n",
            "1/1 [==============================] - 0s 4ms/step - loss: 5.9025 - mae: 5.9025\n",
            "Epoch 95/100\n",
            "1/1 [==============================] - 0s 8ms/step - loss: 5.8912 - mae: 5.8912\n",
            "Epoch 96/100\n",
            "1/1 [==============================] - 0s 4ms/step - loss: 5.8800 - mae: 5.8800\n",
            "Epoch 97/100\n",
            "1/1 [==============================] - 0s 5ms/step - loss: 5.8833 - mae: 5.8833\n",
            "Epoch 98/100\n",
            "1/1 [==============================] - 0s 6ms/step - loss: 5.8856 - mae: 5.8856\n",
            "Epoch 99/100\n",
            "1/1 [==============================] - 0s 6ms/step - loss: 5.8743 - mae: 5.8743\n",
            "Epoch 100/100\n",
            "1/1 [==============================] - 0s 3ms/step - loss: 5.8631 - mae: 5.8631\n"
          ],
          "name": "stdout"
        },
        {
          "output_type": "execute_result",
          "data": {
            "text/plain": [
              "<tensorflow.python.keras.callbacks.History at 0x7fa11e527490>"
            ]
          },
          "metadata": {
            "tags": []
          },
          "execution_count": 3
        }
      ]
    },
    {
      "cell_type": "code",
      "metadata": {
        "colab": {
          "base_uri": "https://localhost:8080/"
        },
        "id": "_VwoX3AOff9l",
        "outputId": "0045d640-e8bb-46d2-84fc-26661e621672"
      },
      "source": [
        "X,y "
      ],
      "execution_count": 4,
      "outputs": [
        {
          "output_type": "execute_result",
          "data": {
            "text/plain": [
              "(<tf.Tensor: shape=(8,), dtype=float32, numpy=array([-7., -4., -1.,  3.,  7., 11., 14., 17.], dtype=float32)>,\n",
              " <tf.Tensor: shape=(8,), dtype=float32, numpy=array([ 3.,  6.,  9., 12., 15., 18., 21., 24.], dtype=float32)>)"
            ]
          },
          "metadata": {
            "tags": []
          },
          "execution_count": 4
        }
      ]
    },
    {
      "cell_type": "code",
      "metadata": {
        "colab": {
          "base_uri": "https://localhost:8080/"
        },
        "id": "c53jBDmWc5xA",
        "outputId": "ab809ad5-c592-4c62-d43a-37544aef8202"
      },
      "source": [
        "# Try and make a prediction using our model\n",
        "model.predict([20.0])"
      ],
      "execution_count": 5,
      "outputs": [
        {
          "output_type": "execute_result",
          "data": {
            "text/plain": [
              "array([[29.701248]], dtype=float32)"
            ]
          },
          "metadata": {
            "tags": []
          },
          "execution_count": 5
        }
      ]
    },
    {
      "cell_type": "markdown",
      "metadata": {
        "id": "bg-l1beFmRi7"
      },
      "source": [
        "### Improving our model\n",
        "The model can be improved by altering the steps taken to construct the model.\n",
        "1. **Creating a model**   - More layers can be added, more hidden units(neurons) inside the hidden layers can be added, **activation function** of each layer can be changed.\n",
        "2. **Compiling a model**   - The optimisation could be changed or the **learning rate** of the optimisation can be changed.\n",
        "3. **Fitting a model**   - Increase the number of epochs(leave it training for longer) or on more data(give the model more examples to learn from)"
      ]
    },
    {
      "cell_type": "code",
      "metadata": {
        "colab": {
          "base_uri": "https://localhost:8080/"
        },
        "id": "G_dpYgy4mWHe",
        "outputId": "f1213f53-6391-4792-dfb9-fa1c155175fa"
      },
      "source": [
        "model = tf.keras.Sequential([\n",
        "  tf.keras.layers.Dense(100,activation='relu'),\n",
        "  tf.keras.layers.Dense(100,activation=\"relu\"),\n",
        "  tf.keras.layers.Dense(1)                            \n",
        "])\n",
        "\n",
        "model.compile(\n",
        "  loss = \"mae\",\n",
        "  optimizer = tf.keras.optimizers.SGD(),\n",
        "  metrics = [\"mae\"])\n",
        "\n",
        "model.fit(X,y,epochs=100)"
      ],
      "execution_count": 6,
      "outputs": [
        {
          "output_type": "stream",
          "text": [
            "Epoch 1/100\n",
            "1/1 [==============================] - 0s 329ms/step - loss: 13.3582 - mae: 13.3582\n",
            "Epoch 2/100\n",
            "1/1 [==============================] - 0s 10ms/step - loss: 12.2844 - mae: 12.2844\n",
            "Epoch 3/100\n",
            "1/1 [==============================] - 0s 8ms/step - loss: 11.2529 - mae: 11.2529\n",
            "Epoch 4/100\n",
            "1/1 [==============================] - 0s 5ms/step - loss: 10.1555 - mae: 10.1555\n",
            "Epoch 5/100\n",
            "1/1 [==============================] - 0s 11ms/step - loss: 8.9172 - mae: 8.9172\n",
            "Epoch 6/100\n",
            "1/1 [==============================] - 0s 7ms/step - loss: 7.5189 - mae: 7.5189\n",
            "Epoch 7/100\n",
            "1/1 [==============================] - 0s 7ms/step - loss: 5.8421 - mae: 5.8421\n",
            "Epoch 8/100\n",
            "1/1 [==============================] - 0s 6ms/step - loss: 3.7323 - mae: 3.7323\n",
            "Epoch 9/100\n",
            "1/1 [==============================] - 0s 4ms/step - loss: 4.3247 - mae: 4.3247\n",
            "Epoch 10/100\n",
            "1/1 [==============================] - 0s 5ms/step - loss: 3.4627 - mae: 3.4627\n",
            "Epoch 11/100\n",
            "1/1 [==============================] - 0s 4ms/step - loss: 3.4959 - mae: 3.4959\n",
            "Epoch 12/100\n",
            "1/1 [==============================] - 0s 8ms/step - loss: 3.5375 - mae: 3.5375\n",
            "Epoch 13/100\n",
            "1/1 [==============================] - 0s 4ms/step - loss: 3.4348 - mae: 3.4348\n",
            "Epoch 14/100\n",
            "1/1 [==============================] - 0s 5ms/step - loss: 3.5254 - mae: 3.5254\n",
            "Epoch 15/100\n",
            "1/1 [==============================] - 0s 8ms/step - loss: 3.4988 - mae: 3.4988\n",
            "Epoch 16/100\n",
            "1/1 [==============================] - 0s 5ms/step - loss: 3.3980 - mae: 3.3980\n",
            "Epoch 17/100\n",
            "1/1 [==============================] - 0s 7ms/step - loss: 3.5579 - mae: 3.5579\n",
            "Epoch 18/100\n",
            "1/1 [==============================] - 0s 6ms/step - loss: 3.4763 - mae: 3.4763\n",
            "Epoch 19/100\n",
            "1/1 [==============================] - 0s 18ms/step - loss: 3.4135 - mae: 3.4135\n",
            "Epoch 20/100\n",
            "1/1 [==============================] - 0s 4ms/step - loss: 3.5428 - mae: 3.5428\n",
            "Epoch 21/100\n",
            "1/1 [==============================] - 0s 13ms/step - loss: 3.4391 - mae: 3.4391\n",
            "Epoch 22/100\n",
            "1/1 [==============================] - 0s 12ms/step - loss: 3.4420 - mae: 3.4420\n",
            "Epoch 23/100\n",
            "1/1 [==============================] - 0s 5ms/step - loss: 3.5048 - mae: 3.5048\n",
            "Epoch 24/100\n",
            "1/1 [==============================] - 0s 7ms/step - loss: 3.4030 - mae: 3.4030\n",
            "Epoch 25/100\n",
            "1/1 [==============================] - 0s 4ms/step - loss: 3.4692 - mae: 3.4692\n",
            "Epoch 26/100\n",
            "1/1 [==============================] - 0s 7ms/step - loss: 3.4679 - mae: 3.4679\n",
            "Epoch 27/100\n",
            "1/1 [==============================] - 0s 4ms/step - loss: 3.3690 - mae: 3.3690\n",
            "Epoch 28/100\n",
            "1/1 [==============================] - 0s 8ms/step - loss: 3.4868 - mae: 3.4868\n",
            "Epoch 29/100\n",
            "1/1 [==============================] - 0s 4ms/step - loss: 3.4473 - mae: 3.4473\n",
            "Epoch 30/100\n",
            "1/1 [==============================] - 0s 8ms/step - loss: 3.3520 - mae: 3.3520\n",
            "Epoch 31/100\n",
            "1/1 [==============================] - 0s 4ms/step - loss: 3.5409 - mae: 3.5409\n",
            "Epoch 32/100\n",
            "1/1 [==============================] - 0s 8ms/step - loss: 3.7272 - mae: 3.7272\n",
            "Epoch 33/100\n",
            "1/1 [==============================] - 0s 4ms/step - loss: 4.0502 - mae: 4.0502\n",
            "Epoch 34/100\n",
            "1/1 [==============================] - 0s 6ms/step - loss: 3.3483 - mae: 3.3483\n",
            "Epoch 35/100\n",
            "1/1 [==============================] - 0s 4ms/step - loss: 3.5023 - mae: 3.5023\n",
            "Epoch 36/100\n",
            "1/1 [==============================] - 0s 20ms/step - loss: 3.7542 - mae: 3.7542\n",
            "Epoch 37/100\n",
            "1/1 [==============================] - 0s 6ms/step - loss: 4.0440 - mae: 4.0440\n",
            "Epoch 38/100\n",
            "1/1 [==============================] - 0s 4ms/step - loss: 3.3355 - mae: 3.3355\n",
            "Epoch 39/100\n",
            "1/1 [==============================] - 0s 4ms/step - loss: 3.5109 - mae: 3.5109\n",
            "Epoch 40/100\n",
            "1/1 [==============================] - 0s 5ms/step - loss: 3.7258 - mae: 3.7258\n",
            "Epoch 41/100\n",
            "1/1 [==============================] - 0s 4ms/step - loss: 4.0028 - mae: 4.0028\n",
            "Epoch 42/100\n",
            "1/1 [==============================] - 0s 5ms/step - loss: 3.3291 - mae: 3.3291\n",
            "Epoch 43/100\n",
            "1/1 [==============================] - 0s 7ms/step - loss: 3.4832 - mae: 3.4832\n",
            "Epoch 44/100\n",
            "1/1 [==============================] - 0s 4ms/step - loss: 3.7355 - mae: 3.7355\n",
            "Epoch 45/100\n",
            "1/1 [==============================] - 0s 4ms/step - loss: 4.0164 - mae: 4.0164\n",
            "Epoch 46/100\n",
            "1/1 [==============================] - 0s 6ms/step - loss: 3.3166 - mae: 3.3166\n",
            "Epoch 47/100\n",
            "1/1 [==============================] - 0s 6ms/step - loss: 3.4632 - mae: 3.4632\n",
            "Epoch 48/100\n",
            "1/1 [==============================] - 0s 5ms/step - loss: 3.7045 - mae: 3.7045\n",
            "Epoch 49/100\n",
            "1/1 [==============================] - 0s 7ms/step - loss: 3.9676 - mae: 3.9676\n",
            "Epoch 50/100\n",
            "1/1 [==============================] - 0s 7ms/step - loss: 3.3136 - mae: 3.3136\n",
            "Epoch 51/100\n",
            "1/1 [==============================] - 0s 6ms/step - loss: 3.4309 - mae: 3.4309\n",
            "Epoch 52/100\n",
            "1/1 [==============================] - 0s 8ms/step - loss: 3.3323 - mae: 3.3323\n",
            "Epoch 53/100\n",
            "1/1 [==============================] - 0s 6ms/step - loss: 3.3352 - mae: 3.3352\n",
            "Epoch 54/100\n",
            "1/1 [==============================] - 0s 8ms/step - loss: 3.3982 - mae: 3.3982\n",
            "Epoch 55/100\n",
            "1/1 [==============================] - 0s 5ms/step - loss: 3.3033 - mae: 3.3033\n",
            "Epoch 56/100\n",
            "1/1 [==============================] - 0s 15ms/step - loss: 3.3468 - mae: 3.3468\n",
            "Epoch 57/100\n",
            "1/1 [==============================] - 0s 7ms/step - loss: 3.3810 - mae: 3.3810\n",
            "Epoch 58/100\n",
            "1/1 [==============================] - 0s 5ms/step - loss: 3.2847 - mae: 3.2847\n",
            "Epoch 59/100\n",
            "1/1 [==============================] - 0s 6ms/step - loss: 3.3662 - mae: 3.3662\n",
            "Epoch 60/100\n",
            "1/1 [==============================] - 0s 7ms/step - loss: 3.3495 - mae: 3.3495\n",
            "Epoch 61/100\n",
            "1/1 [==============================] - 0s 4ms/step - loss: 3.2548 - mae: 3.2548\n",
            "Epoch 62/100\n",
            "1/1 [==============================] - 0s 5ms/step - loss: 3.3847 - mae: 3.3847\n",
            "Epoch 63/100\n",
            "1/1 [==============================] - 0s 6ms/step - loss: 3.3191 - mae: 3.3191\n",
            "Epoch 64/100\n",
            "1/1 [==============================] - 0s 6ms/step - loss: 3.2492 - mae: 3.2492\n",
            "Epoch 65/100\n",
            "1/1 [==============================] - 0s 9ms/step - loss: 3.4429 - mae: 3.4429\n",
            "Epoch 66/100\n",
            "1/1 [==============================] - 0s 4ms/step - loss: 3.6031 - mae: 3.6031\n",
            "Epoch 67/100\n",
            "1/1 [==============================] - 0s 4ms/step - loss: 3.9482 - mae: 3.9482\n",
            "Epoch 68/100\n",
            "1/1 [==============================] - 0s 7ms/step - loss: 3.2275 - mae: 3.2275\n",
            "Epoch 69/100\n",
            "1/1 [==============================] - 0s 4ms/step - loss: 3.4211 - mae: 3.4211\n",
            "Epoch 70/100\n",
            "1/1 [==============================] - 0s 4ms/step - loss: 3.5940 - mae: 3.5940\n",
            "Epoch 71/100\n",
            "1/1 [==============================] - 0s 5ms/step - loss: 3.9251 - mae: 3.9251\n",
            "Epoch 72/100\n",
            "1/1 [==============================] - 0s 5ms/step - loss: 3.2145 - mae: 3.2145\n",
            "Epoch 73/100\n",
            "1/1 [==============================] - 0s 4ms/step - loss: 3.4022 - mae: 3.4022\n",
            "Epoch 74/100\n",
            "1/1 [==============================] - 0s 8ms/step - loss: 3.5983 - mae: 3.5983\n",
            "Epoch 75/100\n",
            "1/1 [==============================] - 0s 4ms/step - loss: 3.9390 - mae: 3.9390\n",
            "Epoch 76/100\n",
            "1/1 [==============================] - 0s 5ms/step - loss: 3.2027 - mae: 3.2027\n",
            "Epoch 77/100\n",
            "1/1 [==============================] - 0s 5ms/step - loss: 3.3468 - mae: 3.3468\n",
            "Epoch 78/100\n",
            "1/1 [==============================] - 0s 7ms/step - loss: 3.2663 - mae: 3.2663\n",
            "Epoch 79/100\n",
            "1/1 [==============================] - 0s 4ms/step - loss: 3.2087 - mae: 3.2087\n",
            "Epoch 80/100\n",
            "1/1 [==============================] - 0s 6ms/step - loss: 3.3514 - mae: 3.3514\n",
            "Epoch 81/100\n",
            "1/1 [==============================] - 0s 4ms/step - loss: 3.6026 - mae: 3.6026\n",
            "Epoch 82/100\n",
            "1/1 [==============================] - 0s 9ms/step - loss: 3.8854 - mae: 3.8854\n",
            "Epoch 83/100\n",
            "1/1 [==============================] - 0s 5ms/step - loss: 3.1864 - mae: 3.1864\n",
            "Epoch 84/100\n",
            "1/1 [==============================] - 0s 6ms/step - loss: 3.3675 - mae: 3.3675\n",
            "Epoch 85/100\n",
            "1/1 [==============================] - 0s 8ms/step - loss: 3.5561 - mae: 3.5561\n",
            "Epoch 86/100\n",
            "1/1 [==============================] - 0s 5ms/step - loss: 3.8676 - mae: 3.8676\n",
            "Epoch 87/100\n",
            "1/1 [==============================] - 0s 4ms/step - loss: 3.1691 - mae: 3.1691\n",
            "Epoch 88/100\n",
            "1/1 [==============================] - 0s 7ms/step - loss: 3.3560 - mae: 3.3560\n",
            "Epoch 89/100\n",
            "1/1 [==============================] - 0s 5ms/step - loss: 3.5332 - mae: 3.5332\n",
            "Epoch 90/100\n",
            "1/1 [==============================] - 0s 5ms/step - loss: 3.8555 - mae: 3.8555\n",
            "Epoch 91/100\n",
            "1/1 [==============================] - 0s 7ms/step - loss: 3.1486 - mae: 3.1486\n",
            "Epoch 92/100\n",
            "1/1 [==============================] - 0s 6ms/step - loss: 3.3520 - mae: 3.3520\n",
            "Epoch 93/100\n",
            "1/1 [==============================] - 0s 7ms/step - loss: 3.5259 - mae: 3.5259\n",
            "Epoch 94/100\n",
            "1/1 [==============================] - 0s 8ms/step - loss: 3.8792 - mae: 3.8792\n",
            "Epoch 95/100\n",
            "1/1 [==============================] - 0s 5ms/step - loss: 3.1428 - mae: 3.1428\n",
            "Epoch 96/100\n",
            "1/1 [==============================] - 0s 18ms/step - loss: 3.2768 - mae: 3.2768\n",
            "Epoch 97/100\n",
            "1/1 [==============================] - 0s 7ms/step - loss: 3.2061 - mae: 3.2061\n",
            "Epoch 98/100\n",
            "1/1 [==============================] - 0s 6ms/step - loss: 3.1363 - mae: 3.1363\n",
            "Epoch 99/100\n",
            "1/1 [==============================] - 0s 4ms/step - loss: 3.3129 - mae: 3.3129\n",
            "Epoch 100/100\n",
            "1/1 [==============================] - 0s 7ms/step - loss: 3.5118 - mae: 3.5118\n"
          ],
          "name": "stdout"
        },
        {
          "output_type": "execute_result",
          "data": {
            "text/plain": [
              "<tensorflow.python.keras.callbacks.History at 0x7fa11be2aa50>"
            ]
          },
          "metadata": {
            "tags": []
          },
          "execution_count": 6
        }
      ]
    },
    {
      "cell_type": "markdown",
      "metadata": {
        "id": "QzN21Yd-3Qci"
      },
      "source": [
        "Suppose there are 2 models. Model 1 has an MAE of 6 and model 2 has an MAE of 3. But we cant always say that Model 2 is better than model1. Model 2 might have got better MAE than model 1 because it could have overfitted the data(Tweak the model so much to fit the training data perfectly by performing poorly in testing data). So, We have to predict the variable and check by how much the predicted value and the actual values are differing. Then we have to come to a conclusion."
      ]
    },
    {
      "cell_type": "markdown",
      "metadata": {
        "id": "QLbaHVFuDmKz"
      },
      "source": [
        "Learning rate is the most important hyperparameter. Providing optimal learning rates would give excellent results. The default learning rate is 0.001 and it didnt give good results. So we tweaked the learning rate to 0.01 and got excellent results."
      ]
    },
    {
      "cell_type": "code",
      "metadata": {
        "colab": {
          "base_uri": "https://localhost:8080/"
        },
        "id": "Z9hiFHSB2bl3",
        "outputId": "3a1f3ff9-1af3-494e-d395-e3759d3fb743"
      },
      "source": [
        "model = tf.keras.Sequential([\n",
        "  tf.keras.layers.Dense(50,activation=\"relu\"),\n",
        "  tf.keras.layers.Dense(1)\n",
        "])\n",
        "\n",
        "model.compile(\n",
        "    loss = \"mae\",\n",
        "    optimizer = tf.keras.optimizers.Adam(lr=0.01),\n",
        "    metrics = [\"mae\"]\n",
        ")\n",
        "model.fit(X,y,epochs=100)"
      ],
      "execution_count": 7,
      "outputs": [
        {
          "output_type": "stream",
          "text": [
            "Epoch 1/100\n",
            "1/1 [==============================] - 0s 395ms/step - loss: 11.7133 - mae: 11.7133\n",
            "Epoch 2/100\n",
            "1/1 [==============================] - 0s 6ms/step - loss: 10.9375 - mae: 10.9375\n",
            "Epoch 3/100\n",
            "1/1 [==============================] - 0s 5ms/step - loss: 10.1196 - mae: 10.1196\n",
            "Epoch 4/100\n",
            "1/1 [==============================] - 0s 4ms/step - loss: 9.2993 - mae: 9.2993\n",
            "Epoch 5/100\n",
            "1/1 [==============================] - 0s 7ms/step - loss: 8.4688 - mae: 8.4688\n",
            "Epoch 6/100\n",
            "1/1 [==============================] - 0s 5ms/step - loss: 7.6290 - mae: 7.6290\n",
            "Epoch 7/100\n",
            "1/1 [==============================] - 0s 4ms/step - loss: 6.7721 - mae: 6.7721\n",
            "Epoch 8/100\n",
            "1/1 [==============================] - 0s 5ms/step - loss: 6.0092 - mae: 6.0092\n",
            "Epoch 9/100\n",
            "1/1 [==============================] - 0s 6ms/step - loss: 5.2386 - mae: 5.2386\n",
            "Epoch 10/100\n",
            "1/1 [==============================] - 0s 8ms/step - loss: 4.4503 - mae: 4.4503\n",
            "Epoch 11/100\n",
            "1/1 [==============================] - 0s 4ms/step - loss: 3.6461 - mae: 3.6461\n",
            "Epoch 12/100\n",
            "1/1 [==============================] - 0s 6ms/step - loss: 3.3590 - mae: 3.3590\n",
            "Epoch 13/100\n",
            "1/1 [==============================] - 0s 5ms/step - loss: 3.5369 - mae: 3.5369\n",
            "Epoch 14/100\n",
            "1/1 [==============================] - 0s 5ms/step - loss: 3.8744 - mae: 3.8744\n",
            "Epoch 15/100\n",
            "1/1 [==============================] - 0s 5ms/step - loss: 4.1190 - mae: 4.1190\n",
            "Epoch 16/100\n",
            "1/1 [==============================] - 0s 6ms/step - loss: 4.2801 - mae: 4.2801\n",
            "Epoch 17/100\n",
            "1/1 [==============================] - 0s 6ms/step - loss: 4.3666 - mae: 4.3666\n",
            "Epoch 18/100\n",
            "1/1 [==============================] - 0s 8ms/step - loss: 4.3873 - mae: 4.3873\n",
            "Epoch 19/100\n",
            "1/1 [==============================] - 0s 5ms/step - loss: 4.3503 - mae: 4.3503\n",
            "Epoch 20/100\n",
            "1/1 [==============================] - 0s 4ms/step - loss: 4.2637 - mae: 4.2637\n",
            "Epoch 21/100\n",
            "1/1 [==============================] - 0s 6ms/step - loss: 4.1344 - mae: 4.1344\n",
            "Epoch 22/100\n",
            "1/1 [==============================] - 0s 8ms/step - loss: 3.9689 - mae: 3.9689\n",
            "Epoch 23/100\n",
            "1/1 [==============================] - 0s 5ms/step - loss: 3.7728 - mae: 3.7728\n",
            "Epoch 24/100\n",
            "1/1 [==============================] - 0s 5ms/step - loss: 3.5513 - mae: 3.5513\n",
            "Epoch 25/100\n",
            "1/1 [==============================] - 0s 21ms/step - loss: 3.3390 - mae: 3.3390\n",
            "Epoch 26/100\n",
            "1/1 [==============================] - 0s 15ms/step - loss: 3.2626 - mae: 3.2626\n",
            "Epoch 27/100\n",
            "1/1 [==============================] - 0s 8ms/step - loss: 3.2067 - mae: 3.2067\n",
            "Epoch 28/100\n",
            "1/1 [==============================] - 0s 10ms/step - loss: 3.2896 - mae: 3.2896\n",
            "Epoch 29/100\n",
            "1/1 [==============================] - 0s 6ms/step - loss: 3.3529 - mae: 3.3529\n",
            "Epoch 30/100\n",
            "1/1 [==============================] - 0s 13ms/step - loss: 3.3923 - mae: 3.3923\n",
            "Epoch 31/100\n",
            "1/1 [==============================] - 0s 9ms/step - loss: 3.3112 - mae: 3.3112\n",
            "Epoch 32/100\n",
            "1/1 [==============================] - 0s 22ms/step - loss: 3.2300 - mae: 3.2300\n",
            "Epoch 33/100\n",
            "1/1 [==============================] - 0s 7ms/step - loss: 3.1416 - mae: 3.1416\n",
            "Epoch 34/100\n",
            "1/1 [==============================] - 0s 5ms/step - loss: 3.0903 - mae: 3.0903\n",
            "Epoch 35/100\n",
            "1/1 [==============================] - 0s 6ms/step - loss: 3.0993 - mae: 3.0993\n",
            "Epoch 36/100\n",
            "1/1 [==============================] - 0s 13ms/step - loss: 3.1041 - mae: 3.1041\n",
            "Epoch 37/100\n",
            "1/1 [==============================] - 0s 9ms/step - loss: 3.1004 - mae: 3.1004\n",
            "Epoch 38/100\n",
            "1/1 [==============================] - 0s 7ms/step - loss: 3.0884 - mae: 3.0884\n",
            "Epoch 39/100\n",
            "1/1 [==============================] - 0s 8ms/step - loss: 3.0779 - mae: 3.0779\n",
            "Epoch 40/100\n",
            "1/1 [==============================] - 0s 8ms/step - loss: 3.0482 - mae: 3.0482\n",
            "Epoch 41/100\n",
            "1/1 [==============================] - 0s 5ms/step - loss: 3.0168 - mae: 3.0168\n",
            "Epoch 42/100\n",
            "1/1 [==============================] - 0s 7ms/step - loss: 2.9795 - mae: 2.9795\n",
            "Epoch 43/100\n",
            "1/1 [==============================] - 0s 13ms/step - loss: 2.9376 - mae: 2.9376\n",
            "Epoch 44/100\n",
            "1/1 [==============================] - 0s 7ms/step - loss: 2.8898 - mae: 2.8898\n",
            "Epoch 45/100\n",
            "1/1 [==============================] - 0s 9ms/step - loss: 2.8455 - mae: 2.8455\n",
            "Epoch 46/100\n",
            "1/1 [==============================] - 0s 11ms/step - loss: 2.7985 - mae: 2.7985\n",
            "Epoch 47/100\n",
            "1/1 [==============================] - 0s 5ms/step - loss: 2.7491 - mae: 2.7491\n",
            "Epoch 48/100\n",
            "1/1 [==============================] - 0s 13ms/step - loss: 2.7288 - mae: 2.7288\n",
            "Epoch 49/100\n",
            "1/1 [==============================] - 0s 11ms/step - loss: 2.7145 - mae: 2.7145\n",
            "Epoch 50/100\n",
            "1/1 [==============================] - 0s 6ms/step - loss: 2.6630 - mae: 2.6630\n",
            "Epoch 51/100\n",
            "1/1 [==============================] - 0s 6ms/step - loss: 2.6203 - mae: 2.6203\n",
            "Epoch 52/100\n",
            "1/1 [==============================] - 0s 6ms/step - loss: 2.5974 - mae: 2.5974\n",
            "Epoch 53/100\n",
            "1/1 [==============================] - 0s 6ms/step - loss: 2.5675 - mae: 2.5675\n",
            "Epoch 54/100\n",
            "1/1 [==============================] - 0s 11ms/step - loss: 2.5313 - mae: 2.5313\n",
            "Epoch 55/100\n",
            "1/1 [==============================] - 0s 10ms/step - loss: 2.4889 - mae: 2.4889\n",
            "Epoch 56/100\n",
            "1/1 [==============================] - 0s 9ms/step - loss: 2.4520 - mae: 2.4520\n",
            "Epoch 57/100\n",
            "1/1 [==============================] - 0s 4ms/step - loss: 2.4044 - mae: 2.4044\n",
            "Epoch 58/100\n",
            "1/1 [==============================] - 0s 11ms/step - loss: 2.3765 - mae: 2.3765\n",
            "Epoch 59/100\n",
            "1/1 [==============================] - 0s 11ms/step - loss: 2.3420 - mae: 2.3420\n",
            "Epoch 60/100\n",
            "1/1 [==============================] - 0s 4ms/step - loss: 2.2996 - mae: 2.2996\n",
            "Epoch 61/100\n",
            "1/1 [==============================] - 0s 3ms/step - loss: 2.2495 - mae: 2.2495\n",
            "Epoch 62/100\n",
            "1/1 [==============================] - 0s 7ms/step - loss: 2.1911 - mae: 2.1911\n",
            "Epoch 63/100\n",
            "1/1 [==============================] - 0s 7ms/step - loss: 2.1209 - mae: 2.1209\n",
            "Epoch 64/100\n",
            "1/1 [==============================] - 0s 4ms/step - loss: 2.0696 - mae: 2.0696\n",
            "Epoch 65/100\n",
            "1/1 [==============================] - 0s 5ms/step - loss: 2.0063 - mae: 2.0063\n",
            "Epoch 66/100\n",
            "1/1 [==============================] - 0s 3ms/step - loss: 1.9256 - mae: 1.9256\n",
            "Epoch 67/100\n",
            "1/1 [==============================] - 0s 6ms/step - loss: 1.8782 - mae: 1.8782\n",
            "Epoch 68/100\n",
            "1/1 [==============================] - 0s 11ms/step - loss: 1.8205 - mae: 1.8205\n",
            "Epoch 69/100\n",
            "1/1 [==============================] - 0s 4ms/step - loss: 1.7529 - mae: 1.7529\n",
            "Epoch 70/100\n",
            "1/1 [==============================] - 0s 4ms/step - loss: 1.6758 - mae: 1.6758\n",
            "Epoch 71/100\n",
            "1/1 [==============================] - 0s 5ms/step - loss: 1.6334 - mae: 1.6334\n",
            "Epoch 72/100\n",
            "1/1 [==============================] - 0s 4ms/step - loss: 1.5465 - mae: 1.5465\n",
            "Epoch 73/100\n",
            "1/1 [==============================] - 0s 5ms/step - loss: 1.4612 - mae: 1.4612\n",
            "Epoch 74/100\n",
            "1/1 [==============================] - 0s 7ms/step - loss: 1.4001 - mae: 1.4001\n",
            "Epoch 75/100\n",
            "1/1 [==============================] - 0s 5ms/step - loss: 1.3145 - mae: 1.3145\n",
            "Epoch 76/100\n",
            "1/1 [==============================] - 0s 6ms/step - loss: 1.2025 - mae: 1.2025\n",
            "Epoch 77/100\n",
            "1/1 [==============================] - 0s 5ms/step - loss: 1.1813 - mae: 1.1813\n",
            "Epoch 78/100\n",
            "1/1 [==============================] - 0s 8ms/step - loss: 1.0262 - mae: 1.0262\n",
            "Epoch 79/100\n",
            "1/1 [==============================] - 0s 4ms/step - loss: 0.9809 - mae: 0.9809\n",
            "Epoch 80/100\n",
            "1/1 [==============================] - 0s 5ms/step - loss: 0.8716 - mae: 0.8716\n",
            "Epoch 81/100\n",
            "1/1 [==============================] - 0s 7ms/step - loss: 0.8123 - mae: 0.8123\n",
            "Epoch 82/100\n",
            "1/1 [==============================] - 0s 5ms/step - loss: 0.6749 - mae: 0.6749\n",
            "Epoch 83/100\n",
            "1/1 [==============================] - 0s 6ms/step - loss: 0.5819 - mae: 0.5819\n",
            "Epoch 84/100\n",
            "1/1 [==============================] - 0s 7ms/step - loss: 0.5069 - mae: 0.5069\n",
            "Epoch 85/100\n",
            "1/1 [==============================] - 0s 5ms/step - loss: 0.4292 - mae: 0.4292\n",
            "Epoch 86/100\n",
            "1/1 [==============================] - 0s 4ms/step - loss: 0.3617 - mae: 0.3617\n",
            "Epoch 87/100\n",
            "1/1 [==============================] - 0s 7ms/step - loss: 0.2630 - mae: 0.2630\n",
            "Epoch 88/100\n",
            "1/1 [==============================] - 0s 4ms/step - loss: 0.2612 - mae: 0.2612\n",
            "Epoch 89/100\n",
            "1/1 [==============================] - 0s 8ms/step - loss: 0.2939 - mae: 0.2939\n",
            "Epoch 90/100\n",
            "1/1 [==============================] - 0s 5ms/step - loss: 0.3376 - mae: 0.3376\n",
            "Epoch 91/100\n",
            "1/1 [==============================] - 0s 8ms/step - loss: 0.3450 - mae: 0.3450\n",
            "Epoch 92/100\n",
            "1/1 [==============================] - 0s 5ms/step - loss: 0.3700 - mae: 0.3700\n",
            "Epoch 93/100\n",
            "1/1 [==============================] - 0s 5ms/step - loss: 0.3205 - mae: 0.3205\n",
            "Epoch 94/100\n",
            "1/1 [==============================] - 0s 7ms/step - loss: 0.4411 - mae: 0.4411\n",
            "Epoch 95/100\n",
            "1/1 [==============================] - 0s 5ms/step - loss: 0.3315 - mae: 0.3315\n",
            "Epoch 96/100\n",
            "1/1 [==============================] - 0s 9ms/step - loss: 0.2959 - mae: 0.2959\n",
            "Epoch 97/100\n",
            "1/1 [==============================] - 0s 19ms/step - loss: 0.3250 - mae: 0.3250\n",
            "Epoch 98/100\n",
            "1/1 [==============================] - 0s 18ms/step - loss: 0.2802 - mae: 0.2802\n",
            "Epoch 99/100\n",
            "1/1 [==============================] - 0s 8ms/step - loss: 0.2982 - mae: 0.2982\n",
            "Epoch 100/100\n",
            "1/1 [==============================] - 0s 10ms/step - loss: 0.2386 - mae: 0.2386\n"
          ],
          "name": "stdout"
        },
        {
          "output_type": "execute_result",
          "data": {
            "text/plain": [
              "<tensorflow.python.keras.callbacks.History at 0x7fa11be43fd0>"
            ]
          },
          "metadata": {
            "tags": []
          },
          "execution_count": 7
        }
      ]
    },
    {
      "cell_type": "code",
      "metadata": {
        "colab": {
          "base_uri": "https://localhost:8080/"
        },
        "id": "IHb3LaAcEOgL",
        "outputId": "7dbe6751-9f8f-4cd4-95d2-e90a7853f735"
      },
      "source": [
        "# the actual value is 27.0 and we got 27.11 which is very close\n",
        "model.predict([20.0])"
      ],
      "execution_count": 8,
      "outputs": [
        {
          "output_type": "execute_result",
          "data": {
            "text/plain": [
              "array([[26.403263]], dtype=float32)"
            ]
          },
          "metadata": {
            "tags": []
          },
          "execution_count": 8
        }
      ]
    },
    {
      "cell_type": "markdown",
      "metadata": {
        "id": "skABOjStFfhQ"
      },
      "source": [
        "### Evaluating the model\n",
        "For Evaluating purposes visualisation can be very efficient\n",
        "1. The data - what data are we working with? What does it look like.\n",
        "2. The model itself - what does our model look like?\n",
        "3. The training of a model - how does a model perform while it learns?\n",
        "4. The predictions of the model - how do the predictions of the model line up against actual values"
      ]
    },
    {
      "cell_type": "code",
      "metadata": {
        "colab": {
          "base_uri": "https://localhost:8080/"
        },
        "id": "ZLIz9DY_ExPu",
        "outputId": "4975a9d8-5754-46fa-ccc5-91810217eb4b"
      },
      "source": [
        "# More data is required to train the model in a better way\n",
        "X = tf.range(-100,100,4)\n",
        "X "
      ],
      "execution_count": 9,
      "outputs": [
        {
          "output_type": "execute_result",
          "data": {
            "text/plain": [
              "<tf.Tensor: shape=(50,), dtype=int32, numpy=\n",
              "array([-100,  -96,  -92,  -88,  -84,  -80,  -76,  -72,  -68,  -64,  -60,\n",
              "        -56,  -52,  -48,  -44,  -40,  -36,  -32,  -28,  -24,  -20,  -16,\n",
              "        -12,   -8,   -4,    0,    4,    8,   12,   16,   20,   24,   28,\n",
              "         32,   36,   40,   44,   48,   52,   56,   60,   64,   68,   72,\n",
              "         76,   80,   84,   88,   92,   96], dtype=int32)>"
            ]
          },
          "metadata": {
            "tags": []
          },
          "execution_count": 9
        }
      ]
    },
    {
      "cell_type": "code",
      "metadata": {
        "colab": {
          "base_uri": "https://localhost:8080/"
        },
        "id": "9RQByv01hiH3",
        "outputId": "1064cb77-d0fd-4314-fe5f-ba57f1c0d6b8"
      },
      "source": [
        "y = X + 10\n",
        "y"
      ],
      "execution_count": 10,
      "outputs": [
        {
          "output_type": "execute_result",
          "data": {
            "text/plain": [
              "<tf.Tensor: shape=(50,), dtype=int32, numpy=\n",
              "array([-90, -86, -82, -78, -74, -70, -66, -62, -58, -54, -50, -46, -42,\n",
              "       -38, -34, -30, -26, -22, -18, -14, -10,  -6,  -2,   2,   6,  10,\n",
              "        14,  18,  22,  26,  30,  34,  38,  42,  46,  50,  54,  58,  62,\n",
              "        66,  70,  74,  78,  82,  86,  90,  94,  98, 102, 106], dtype=int32)>"
            ]
          },
          "metadata": {
            "tags": []
          },
          "execution_count": 10
        }
      ]
    },
    {
      "cell_type": "code",
      "metadata": {
        "colab": {
          "base_uri": "https://localhost:8080/",
          "height": 282
        },
        "id": "z_E-_5AihkUJ",
        "outputId": "7d90b717-218e-4a6e-cc15-1e38d1754361"
      },
      "source": [
        "import matplotlib.pyplot as plt\n",
        "plt.scatter(X,y)"
      ],
      "execution_count": 11,
      "outputs": [
        {
          "output_type": "execute_result",
          "data": {
            "text/plain": [
              "<matplotlib.collections.PathCollection at 0x7fa11be4c590>"
            ]
          },
          "metadata": {
            "tags": []
          },
          "execution_count": 11
        },
        {
          "output_type": "display_data",
          "data": {
            "image/png": "[encoded data removed]",
            "text/plain": [
              "<Figure size 432x288 with 1 Axes>"
            ]
          },
          "metadata": {
            "tags": [],
            "needs_background": "light"
          }
        }
      ]
    },
    {
      "cell_type": "markdown",
      "metadata": {
        "id": "rsor5JaUjxYf"
      },
      "source": [
        "* **Training set** - the model learns from this data, which is typically 70-80% of the total data.\n",
        "* **Validation set** - the model gets tuned on this data, which is typically 10-15% of the data available. \n",
        "* **Test set** - the model gets evaluated on this data to test what it has learnt, this is typically 10-15% of the data available.\n",
        "\n",
        "Generalisation - The ability for a machine learning model to perform well on data that it hasn't seen before."
      ]
    },
    {
      "cell_type": "code",
      "metadata": {
        "colab": {
          "base_uri": "https://localhost:8080/"
        },
        "id": "oB82gD-qh8Eu",
        "outputId": "ae3f19eb-cfbc-4fda-aea2-fc59e06f7379"
      },
      "source": [
        "# Split the data into train and test sets\n",
        "X_train = X[:40]\n",
        "y_train = y[:40]\n",
        "\n",
        "X_test = X[40:]\n",
        "y_test = y[40:]\n",
        "len(X_train), len(X_test), len(y_train), len(y_test)"
      ],
      "execution_count": 12,
      "outputs": [
        {
          "output_type": "execute_result",
          "data": {
            "text/plain": [
              "(40, 10, 40, 10)"
            ]
          },
          "metadata": {
            "tags": []
          },
          "execution_count": 12
        }
      ]
    },
    {
      "cell_type": "code",
      "metadata": {
        "colab": {
          "base_uri": "https://localhost:8080/",
          "height": 428
        },
        "id": "iRHzouUblt2d",
        "outputId": "76dc8450-c563-404c-89ad-d6170c88c700"
      },
      "source": [
        "# After train, test splitting let's vizualise again\n",
        "plt.figure(figsize=(10,7))\n",
        "plt.scatter(X_train,y_train,c='b',label=\"Training data\")\n",
        "plt.scatter(X_test,y_test,c='r',label=\"Testing data\")\n",
        "plt.legend();"
      ],
      "execution_count": 13,
      "outputs": [
        {
          "output_type": "display_data",
          "data": {
            "image/png": "[encoded data removed]",
            "text/plain": [
              "<Figure size 720x504 with 1 Axes>"
            ]
          },
          "metadata": {
            "tags": [],
            "needs_background": "light"
          }
        }
      ]
    },
    {
      "cell_type": "markdown",
      "metadata": {
        "id": "fx0YzgMfBRDE"
      },
      "source": [
        "Let's visualize the model"
      ]
    },
    {
      "cell_type": "code",
      "metadata": {
        "id": "0US6U-IOm8Vc"
      },
      "source": [
        "model = tf.keras.Sequential([\n",
        "  tf.keras.layers.Dense(1)\n",
        "])\n",
        "\n",
        "model.compile(\n",
        "  loss = \"mae\",\n",
        "  optimizer=tf.keras.optimizers.SGD(),\n",
        "  metrics=[\"mae\"]\n",
        ")\n",
        "\n",
        "# model.fit(X_train, y_train)"
      ],
      "execution_count": 14,
      "outputs": []
    },
    {
      "cell_type": "code",
      "metadata": {
        "colab": {
          "base_uri": "https://localhost:8080/"
        },
        "id": "WSKz2BjmBpkw",
        "outputId": "bcf21969-6bd1-4b9b-bb13-76e4b5122eba"
      },
      "source": [
        "model.summary"
      ],
      "execution_count": 15,
      "outputs": [
        {
          "output_type": "execute_result",
          "data": {
            "text/plain": [
              "<bound method Model.summary of <tensorflow.python.keras.engine.sequential.Sequential object at 0x7fa1196f1450>>"
            ]
          },
          "metadata": {
            "tags": []
          },
          "execution_count": 15
        }
      ]
    },
    {
      "cell_type": "markdown",
      "metadata": {
        "id": "mdpF602rBxfv"
      },
      "source": [
        "We are getting this error because we havent fit the model yet but are trying to visualize it. In this case we have 3 options, first is calling the build() function and building the model and the second one is calling the fit() function by providing some data. The last option is to provide the input_shape argument in the first layer for automatic build."
      ]
    },
    {
      "cell_type": "code",
      "metadata": {
        "colab": {
          "base_uri": "https://localhost:8080/"
        },
        "id": "GSnOoLqADFLO",
        "outputId": "55c92bc2-9340-4988-93e9-56213975ac62"
      },
      "source": [
        "# These are both scalar values so we provide [1] as input_shape argument\n",
        "X_train[0], y_train[0]"
      ],
      "execution_count": 16,
      "outputs": [
        {
          "output_type": "execute_result",
          "data": {
            "text/plain": [
              "(<tf.Tensor: shape=(), dtype=int32, numpy=-100>,\n",
              " <tf.Tensor: shape=(), dtype=int32, numpy=-90>)"
            ]
          },
          "metadata": {
            "tags": []
          },
          "execution_count": 16
        }
      ]
    },
    {
      "cell_type": "code",
      "metadata": {
        "id": "XdJoToELBwOQ"
      },
      "source": [
        "# Let's create a model which builds automatically by defining the input_shape argument in the first layer.\n",
        "# Usually the neural networks can determine the input shape.\n",
        "\n",
        "tf.random.set_seed(42)\n",
        "\n",
        "model = tf.keras.Sequential([\n",
        "  tf.keras.layers.Dense(10,input_shape=[1])\n",
        "])\n",
        "\n",
        "model.compile(\n",
        "  loss = tf.keras.losses.mae,\n",
        "  optimizer = tf.keras.optimizers.SGD(),\n",
        "  metrics=[\"mae\"]\n",
        ")"
      ],
      "execution_count": 17,
      "outputs": []
    },
    {
      "cell_type": "code",
      "metadata": {
        "colab": {
          "base_uri": "https://localhost:8080/"
        },
        "id": "OxriII7PD94Y",
        "outputId": "63c00e89-28e9-482b-d93b-f346bc26d996"
      },
      "source": [
        "model.summary()"
      ],
      "execution_count": 18,
      "outputs": [
        {
          "output_type": "stream",
          "text": [
            "Model: \"sequential_4\"\n",
            "_________________________________________________________________\n",
            "Layer (type)                 Output Shape              Param #   \n",
            "=================================================================\n",
            "dense_7 (Dense)              (None, 10)                20        \n",
            "=================================================================\n",
            "Total params: 20\n",
            "Trainable params: 20\n",
            "Non-trainable params: 0\n",
            "_________________________________________________________________\n"
          ],
          "name": "stdout"
        }
      ]
    },
    {
      "cell_type": "markdown",
      "metadata": {
        "id": "oStpD9A-OW9W"
      },
      "source": [
        "In the above case we have one hidden layer which has 10 neurons which we can see in the output shape. Also the number of params is 20 which means that each neuron has 2 trainable parameters."
      ]
    },
    {
      "cell_type": "markdown",
      "metadata": {
        "id": "ZO_INdAdGKoR"
      },
      "source": [
        "* **Total params** - Total number of parameters in the model.\n",
        "* **Trainable param**s - These are the parameters a model can update as it trains,\n",
        "* **\n",
        "\n",
        "\n",
        "** - These parameters aren't updated during training(this is typical when you have parameters from other models during **transfer learning**). "
      ]
    },
    {
      "cell_type": "markdown",
      "metadata": {
        "id": "NOplFXGKFkFv"
      },
      "source": [
        "In our case the number of non-trainable params is 0. But in certain cases we would want to import a model with already learnt patterns and data. In those cases we would freeze those learnt patterns. So we would keep those learnt patterns constant(non-trainable) and train only the patterns which we require for our problem."
      ]
    },
    {
      "cell_type": "markdown",
      "metadata": {
        "id": "mUfhi3dTHA55"
      },
      "source": [
        "In order to find the parameters in the dense layer we have something called as a weights matrix and a bias vector. "
      ]
    },
    {
      "cell_type": "code",
      "metadata": {
        "colab": {
          "base_uri": "https://localhost:8080/"
        },
        "id": "35EPUWiSD_wr",
        "outputId": "578b07eb-cef9-45ef-dd43-b359267e164c"
      },
      "source": [
        "model.fit(X_train,y_train,epochs=100,verbose=0)"
      ],
      "execution_count": 19,
      "outputs": [
        {
          "output_type": "execute_result",
          "data": {
            "text/plain": [
              "<tensorflow.python.keras.callbacks.History at 0x7fa119672810>"
            ]
          },
          "metadata": {
            "tags": []
          },
          "execution_count": 19
        }
      ]
    },
    {
      "cell_type": "code",
      "metadata": {
        "colab": {
          "base_uri": "https://localhost:8080/"
        },
        "id": "hUZ1DgCVNvf4",
        "outputId": "c948696f-56d7-4d35-ac98-5a3bc07bb9ee"
      },
      "source": [
        "model.summary()"
      ],
      "execution_count": 20,
      "outputs": [
        {
          "output_type": "stream",
          "text": [
            "Model: \"sequential_4\"\n",
            "_________________________________________________________________\n",
            "Layer (type)                 Output Shape              Param #   \n",
            "=================================================================\n",
            "dense_7 (Dense)              (None, 10)                20        \n",
            "=================================================================\n",
            "Total params: 20\n",
            "Trainable params: 20\n",
            "Non-trainable params: 0\n",
            "_________________________________________________________________\n"
          ],
          "name": "stdout"
        }
      ]
    },
    {
      "cell_type": "code",
      "metadata": {
        "colab": {
          "base_uri": "https://localhost:8080/"
        },
        "id": "4KitX1bpQsBL",
        "outputId": "6887f987-73e0-4dfe-8755-99ee663de390"
      },
      "source": [
        "tf.random.set_seed(42)\n",
        "\n",
        "model = tf.keras.Sequential([\n",
        "  tf.keras.layers.Dense(10,input_shape=[1], name=\"input_layer\"),\n",
        "  tf.keras.layers.Dense(10,name=\"middle_layer\"),\n",
        "  tf.keras.layers.Dense(1,name=\"output_layer\")\n",
        "], name=\"model_1\")\n",
        "\n",
        "model.compile(\n",
        "  loss = tf.keras.losses.mae,\n",
        "  optimizer = tf.keras.optimizers.SGD(),\n",
        "  metrics=[\"mae\"]\n",
        ")\n",
        "\n",
        "model.fit(X_train, y_train,epochs=100,verbose = 0)"
      ],
      "execution_count": 21,
      "outputs": [
        {
          "output_type": "execute_result",
          "data": {
            "text/plain": [
              "<tensorflow.python.keras.callbacks.History at 0x7fa11dab18d0>"
            ]
          },
          "metadata": {
            "tags": []
          },
          "execution_count": 21
        }
      ]
    },
    {
      "cell_type": "markdown",
      "metadata": {
        "id": "W7RvUatCPR9j"
      },
      "source": [
        "**Another method of visualising**\n",
        "\n",
        "tf.keras.utils.plot_model() ----> Converts a keras model to a dot format and saves it to a file."
      ]
    },
    {
      "cell_type": "code",
      "metadata": {
        "colab": {
          "base_uri": "https://localhost:8080/"
        },
        "id": "-YWfkzbDOA3l",
        "outputId": "9b6ea13e-be3e-4cb5-f6ae-143d5e865b81"
      },
      "source": [
        "model.summary()"
      ],
      "execution_count": 22,
      "outputs": [
        {
          "output_type": "stream",
          "text": [
            "Model: \"model_1\"\n",
            "_________________________________________________________________\n",
            "Layer (type)                 Output Shape              Param #   \n",
            "=================================================================\n",
            "input_layer (Dense)          (None, 10)                20        \n",
            "_________________________________________________________________\n",
            "middle_layer (Dense)         (None, 10)                110       \n",
            "_________________________________________________________________\n",
            "output_layer (Dense)         (None, 1)                 11        \n",
            "=================================================================\n",
            "Total params: 141\n",
            "Trainable params: 141\n",
            "Non-trainable params: 0\n",
            "_________________________________________________________________\n"
          ],
          "name": "stdout"
        }
      ]
    },
    {
      "cell_type": "code",
      "metadata": {
        "colab": {
          "base_uri": "https://localhost:8080/",
          "height": 422
        },
        "id": "BG-OaiRVRFhk",
        "outputId": "beef46ba-32d1-4e84-db1a-686bb1796b5d"
      },
      "source": [
        "from tensorflow.keras.utils import plot_model\n",
        "plot_model(model = model, show_shapes=True)"
      ],
      "execution_count": 23,
      "outputs": [
        {
          "output_type": "execute_result",
          "data": {
            "image/png": "[encoded data removed]",
            "text/plain": [
              "<IPython.core.display.Image object>"
            ]
          },
          "metadata": {
            "tags": []
          },
          "execution_count": 23
        }
      ]
    },
    {
      "cell_type": "markdown",
      "metadata": {
        "id": "vyDw5FDIUpe-"
      },
      "source": [
        "1. input_layer:Dense has a total of 20 parameters. ---> (input*output) + output = (1 * 10) + 10 = 20\n",
        "2. middle_layer:Dense has a total of 110 parameters. ---> (input*output)+output = (10 * 10) + 10 = 110\n",
        "3. output_layer:Dense has a total of 22 parameters. ---> (input *output)+output = (10 * 1) + 1 = 11 "
      ]
    },
    {
      "cell_type": "markdown",
      "metadata": {
        "id": "p3cYK5oFR_40"
      },
      "source": [
        "### Visualising our model's predictions\n",
        "To visualize predictions, it's a good idea to plot them against the ground truth labels. Often we will see in the form of y_test or y_true versus y_pred(ground truth versus your model's predictions)."
      ]
    },
    {
      "cell_type": "code",
      "metadata": {
        "colab": {
          "base_uri": "https://localhost:8080/"
        },
        "id": "fmMUR-ilYiE3",
        "outputId": "c202a6dd-db4a-4a7d-e5da-4415ae6ce3ae"
      },
      "source": [
        "tf.random.set_seed(42)\n",
        "\n",
        "model = tf.keras.Sequential([\n",
        "  tf.keras.layers.Dense(10,input_shape=[1], name=\"input_layer\"),\n",
        "  tf.keras.layers.Dense(1,name=\"output_layer\")\n",
        "], name=\"model_2\")\n",
        "\n",
        "model.compile(\n",
        "  loss = tf.keras.losses.mae,\n",
        "  optimizer = tf.keras.optimizers.SGD(),\n",
        "  metrics=[\"mae\"]\n",
        ")\n",
        "\n",
        "model.fit(X_train, y_train,epochs=100,verbose = 0)"
      ],
      "execution_count": 24,
      "outputs": [
        {
          "output_type": "execute_result",
          "data": {
            "text/plain": [
              "<tensorflow.python.keras.callbacks.History at 0x7fa11d9a3650>"
            ]
          },
          "metadata": {
            "tags": []
          },
          "execution_count": 24
        }
      ]
    },
    {
      "cell_type": "code",
      "metadata": {
        "colab": {
          "base_uri": "https://localhost:8080/"
        },
        "id": "dx8ByReIo7VH",
        "outputId": "7f68b0e6-1591-4c4d-9a9d-eba60206cd09"
      },
      "source": [
        "model.summary()"
      ],
      "execution_count": 25,
      "outputs": [
        {
          "output_type": "stream",
          "text": [
            "Model: \"model_2\"\n",
            "_________________________________________________________________\n",
            "Layer (type)                 Output Shape              Param #   \n",
            "=================================================================\n",
            "input_layer (Dense)          (None, 10)                20        \n",
            "_________________________________________________________________\n",
            "output_layer (Dense)         (None, 1)                 11        \n",
            "=================================================================\n",
            "Total params: 31\n",
            "Trainable params: 31\n",
            "Non-trainable params: 0\n",
            "_________________________________________________________________\n"
          ],
          "name": "stdout"
        }
      ]
    },
    {
      "cell_type": "code",
      "metadata": {
        "colab": {
          "base_uri": "https://localhost:8080/"
        },
        "id": "ig0ewElVRocJ",
        "outputId": "a05f2fbf-812f-402d-9b19-812f81c7ebad"
      },
      "source": [
        "# perform predictions\n",
        "y_pred = model.predict(X_test)\n",
        "y_pred"
      ],
      "execution_count": 26,
      "outputs": [
        {
          "output_type": "execute_result",
          "data": {
            "text/plain": [
              "array([[ 70.55218 ],\n",
              "       [ 75.13991 ],\n",
              "       [ 79.72763 ],\n",
              "       [ 84.31535 ],\n",
              "       [ 88.903076],\n",
              "       [ 93.49081 ],\n",
              "       [ 98.07853 ],\n",
              "       [102.66625 ],\n",
              "       [107.253975],\n",
              "       [111.8417  ]], dtype=float32)"
            ]
          },
          "metadata": {
            "tags": []
          },
          "execution_count": 26
        }
      ]
    },
    {
      "cell_type": "code",
      "metadata": {
        "colab": {
          "base_uri": "https://localhost:8080/"
        },
        "id": "9YYLAlatWq3-",
        "outputId": "5154691d-8b1c-4639-e205-4072237d10fd"
      },
      "source": [
        "\n",
        "y_test"
      ],
      "execution_count": 27,
      "outputs": [
        {
          "output_type": "execute_result",
          "data": {
            "text/plain": [
              "<tf.Tensor: shape=(10,), dtype=int32, numpy=array([ 70,  74,  78,  82,  86,  90,  94,  98, 102, 106], dtype=int32)>"
            ]
          },
          "metadata": {
            "tags": []
          },
          "execution_count": 27
        }
      ]
    },
    {
      "cell_type": "code",
      "metadata": {
        "id": "yhJSqt_AWruW"
      },
      "source": [
        "# Plotting functions\n",
        "def plot_predictions(train_data = X_train, train_label = y_train, test_data = X_test, test_label=y_test, predictions = y_pred):\n",
        "  plt.figure(figsize= (10,7))\n",
        "  plt.scatter(train_data, train_label, c=\"b\", label=\"Training data\")\n",
        "  plt.scatter(test_data, test_label, c='g', label=\"Testing data\")\n",
        "  plt.scatter(test_data,predictions, c=\"r\", label=\"predicted data\")\n",
        "  plt.legend();"
      ],
      "execution_count": 28,
      "outputs": []
    },
    {
      "cell_type": "code",
      "metadata": {
        "colab": {
          "base_uri": "https://localhost:8080/",
          "height": 428
        },
        "id": "3jPKpA1gaYFN",
        "outputId": "a60c0716-7e00-4249-c965-dfae85e9994d"
      },
      "source": [
        "# For this image only testing and predicted data are plotted. Training data is commented\n",
        "plot_predictions(X_train, y_train, X_test, y_test, y_pred)"
      ],
      "execution_count": 29,
      "outputs": [
        {
          "output_type": "display_data",
          "data": {
            "image/png": "[encoded data removed]",
            "text/plain": [
              "<Figure size 720x504 with 1 Axes>"
            ]
          },
          "metadata": {
            "tags": [],
            "needs_background": "light"
          }
        }
      ]
    },
    {
      "cell_type": "code",
      "metadata": {
        "colab": {
          "base_uri": "https://localhost:8080/",
          "height": 428
        },
        "id": "wh2c06hBaePB",
        "outputId": "fefbea7a-3e1a-4256-ddc5-c1650ec428e8"
      },
      "source": [
        "# For this image all testing, training and predicted data are plotted\n",
        "plot_predictions(X_train, y_train, X_test, y_test, y_pred)"
      ],
      "execution_count": 30,
      "outputs": [
        {
          "output_type": "display_data",
          "data": {
            "image/png": "[encoded data removed]",
            "text/plain": [
              "<Figure size 720x504 with 1 Axes>"
            ]
          },
          "metadata": {
            "tags": [],
            "needs_background": "light"
          }
        }
      ]
    },
    {
      "cell_type": "markdown",
      "metadata": {
        "id": "p2zKKSa-bj5-"
      },
      "source": [
        "### Evaluating model's predictions with regression evaluation metrics\n",
        "Depending on the problem we are working on, there will be different evaluation metrics to evaluate your model's performance. \n",
        "\n",
        "Since we are working on a regression problem, there are three main metrics.\n",
        "1. MAE - Mean absolute error(on avg how wrong is the model's predictions)\n",
        "2. MSE - mean squared error(\"square the average errors\")\n",
        "3. Huber - combination of MAE and MSE. Less sensitive to outliers than MSE.\n",
        "\n",
        "\n",
        "MAE = 1/n(abs(observed-predicted))\n",
        "\n",
        "MSE = 1/n(squared(observed-predicted))\n",
        "\n",
        "\n",
        "* MAE - starter metric for any regression problem\n",
        "* MSE- When larger errors are more significant than smaller errors. Because of the squared component it amplifies larger errors. For example for a case getting an MAE of 10 is fine but getting an MAE of 100 is a catestrophy. Then in those cases we have to use MSE because it amplifies the error so much and we can easily drop the model or identify outliers which has caused this huge increase.\n",
        "\n"
      ]
    },
    {
      "cell_type": "code",
      "metadata": {
        "colab": {
          "base_uri": "https://localhost:8080/"
        },
        "id": "j0a0P5wTaozf",
        "outputId": "70723555-da98-406b-fff7-444a7ca6a3fe"
      },
      "source": [
        "model.evaluate(X_test,y_test)"
      ],
      "execution_count": 31,
      "outputs": [
        {
          "output_type": "stream",
          "text": [
            "1/1 [==============================] - 0s 120ms/step - loss: 3.1969 - mae: 3.1969\n"
          ],
          "name": "stdout"
        },
        {
          "output_type": "execute_result",
          "data": {
            "text/plain": [
              "[3.1969451904296875, 3.1969451904296875]"
            ]
          },
          "metadata": {
            "tags": []
          },
          "execution_count": 31
        }
      ]
    },
    {
      "cell_type": "code",
      "metadata": {
        "colab": {
          "base_uri": "https://localhost:8080/"
        },
        "id": "aCpsgQdt9CBK",
        "outputId": "fb528bef-f3c7-4570-fa8d-0a7824be3c1b"
      },
      "source": [
        "# Calculate the mean absolute error\n",
        "mae = tf.metrics.mean_absolute_error(y_true = y_test, y_pred = y_pred)\n",
        "mae"
      ],
      "execution_count": 32,
      "outputs": [
        {
          "output_type": "execute_result",
          "data": {
            "text/plain": [
              "<tf.Tensor: shape=(10,), dtype=float32, numpy=\n",
              "array([17.558258 , 14.1160555, 11.708948 , 10.336929 , 10.       ,\n",
              "       10.698161 , 12.447118 , 15.333002 , 19.253975 , 23.841698 ],\n",
              "      dtype=float32)>"
            ]
          },
          "metadata": {
            "tags": []
          },
          "execution_count": 32
        }
      ]
    },
    {
      "cell_type": "markdown",
      "metadata": {
        "id": "Ryi4YyO9-1N1"
      },
      "source": [
        "We dont get a single value because y_test and y_pred are not in the same dimensions."
      ]
    },
    {
      "cell_type": "code",
      "metadata": {
        "id": "bgLxpKyu-KFG"
      },
      "source": [
        "y_pred = tf.squeeze(y_pred)"
      ],
      "execution_count": 33,
      "outputs": []
    },
    {
      "cell_type": "code",
      "metadata": {
        "colab": {
          "base_uri": "https://localhost:8080/"
        },
        "id": "H9k0kK7y-_yn",
        "outputId": "005fdda4-38f6-4ca1-fb68-f1d93ec2ec87"
      },
      "source": [
        "# Now we get a single value\n",
        "mae = tf.metrics.mean_absolute_error(y_true = y_test, y_pred = y_pred)\n",
        "mae"
      ],
      "execution_count": 34,
      "outputs": [
        {
          "output_type": "execute_result",
          "data": {
            "text/plain": [
              "<tf.Tensor: shape=(), dtype=float32, numpy=3.1969407>"
            ]
          },
          "metadata": {
            "tags": []
          },
          "execution_count": 34
        }
      ]
    },
    {
      "cell_type": "code",
      "metadata": {
        "colab": {
          "base_uri": "https://localhost:8080/"
        },
        "id": "G_Shpwzt_Bt0",
        "outputId": "8d99993b-3249-4d6e-c53d-f59315541ffa"
      },
      "source": [
        "mse = tf.metrics.mean_squared_error(y_true = y_test, y_pred = y_pred)\n",
        "mse"
      ],
      "execution_count": 35,
      "outputs": [
        {
          "output_type": "execute_result",
          "data": {
            "text/plain": [
              "<tf.Tensor: shape=(), dtype=float32, numpy=13.070143>"
            ]
          },
          "metadata": {
            "tags": []
          },
          "execution_count": 35
        }
      ]
    },
    {
      "cell_type": "markdown",
      "metadata": {
        "id": "TguU7IZeQ_84"
      },
      "source": [
        "An important part of machine learning is to track the results of the experiments. There are a few tools which are available for tracking.\n",
        "1. TensorBoard - a component of the Tensorflow's library to help tracking modelling experiments.\n",
        "2. Weights and biases - a tool for tracking all kinds of machine learning experiments (plugs straight into TensorBoard)\n",
        "\n",
        "TensorBoard - Tensorflow's visualisation toolkit.\n",
        "1. Tracking and visualising metrics such as loss and accuracy.\n",
        "2. Visualising the model graph(ops and layers)\n",
        "3. Viewing histograms of weights, biases or other tensors as they change over time.\n",
        "\n",
        "\n",
        "\n"
      ]
    },
    {
      "cell_type": "markdown",
      "metadata": {
        "id": "gtefovfzi_0w"
      },
      "source": [
        "### Saving our models\n",
        "There are 2 ways in which we can save the models\n",
        "1. The SavedModel format\n",
        "2. The HDF5 format"
      ]
    },
    {
      "cell_type": "code",
      "metadata": {
        "colab": {
          "base_uri": "https://localhost:8080/"
        },
        "id": "_aHvPxhei_iU",
        "outputId": "d3f8f0db-5612-421c-9d41-55545a57d4b9"
      },
      "source": [
        "# Save model using SavedModel format\n",
        "model.save(\"DL_2_best_model_SavedModel_format\")"
      ],
      "execution_count": 36,
      "outputs": [
        {
          "output_type": "stream",
          "text": [
            "INFO:tensorflow:Assets written to: DL_2_best_model_SavedModel_format/assets\n"
          ],
          "name": "stdout"
        }
      ]
    },
    {
      "cell_type": "code",
      "metadata": {
        "id": "NV8TlYhll2z6"
      },
      "source": [
        "# Save model using HDF5 format\n",
        "model.save(\"DL_2_best_model_HDF5_format.h5\")"
      ],
      "execution_count": 37,
      "outputs": []
    },
    {
      "cell_type": "markdown",
      "metadata": {
        "id": "QsVgsQl1oRzw"
      },
      "source": [
        "### Loading a saved model\n",
        "After loading we can compare the summary or MAE/MSE or predictions for checking whether the loaded model is the same as that of the original model."
      ]
    },
    {
      "cell_type": "code",
      "metadata": {
        "colab": {
          "base_uri": "https://localhost:8080/"
        },
        "id": "SxF83t-JmFkZ",
        "outputId": "5836fe2d-414e-4e6b-b80f-88a06348b71e"
      },
      "source": [
        "# Load the model saved in SavedModel format\n",
        "loaded_savedModel_format = tf.keras.models.load_model(\"DL_2_best_model_SavedModel_format\")\n",
        "loaded_savedModel_format.summary()"
      ],
      "execution_count": 38,
      "outputs": [
        {
          "output_type": "stream",
          "text": [
            "Model: \"model_2\"\n",
            "_________________________________________________________________\n",
            "Layer (type)                 Output Shape              Param #   \n",
            "=================================================================\n",
            "input_layer (Dense)          (None, 10)                20        \n",
            "_________________________________________________________________\n",
            "output_layer (Dense)         (None, 1)                 11        \n",
            "=================================================================\n",
            "Total params: 31\n",
            "Trainable params: 31\n",
            "Non-trainable params: 0\n",
            "_________________________________________________________________\n"
          ],
          "name": "stdout"
        }
      ]
    },
    {
      "cell_type": "code",
      "metadata": {
        "colab": {
          "base_uri": "https://localhost:8080/"
        },
        "id": "J3baMl9UolIr",
        "outputId": "1bf11f53-a78d-42b6-97ee-988355ffde8c"
      },
      "source": [
        "# Load the model saved in HDF5 model\n",
        "loaded_h5_model = tf.keras.models.load_model(\"DL_2_best_model_HDF5_format.h5\")\n",
        "loaded_h5_model.summary() "
      ],
      "execution_count": 39,
      "outputs": [
        {
          "output_type": "stream",
          "text": [
            "Model: \"model_2\"\n",
            "_________________________________________________________________\n",
            "Layer (type)                 Output Shape              Param #   \n",
            "=================================================================\n",
            "input_layer (Dense)          (None, 10)                20        \n",
            "_________________________________________________________________\n",
            "output_layer (Dense)         (None, 1)                 11        \n",
            "=================================================================\n",
            "Total params: 31\n",
            "Trainable params: 31\n",
            "Non-trainable params: 0\n",
            "_________________________________________________________________\n"
          ],
          "name": "stdout"
        }
      ]
    }
  ]
}